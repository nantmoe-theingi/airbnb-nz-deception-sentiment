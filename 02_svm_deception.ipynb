{
  "nbformat": 4,
  "nbformat_minor": 0,
  "metadata": {
    "colab": {
      "provenance": [],
      "authorship_tag": "ABX9TyNjaD6uc1et1CXRBGqXpvuE",
      "include_colab_link": true
    },
    "kernelspec": {
      "name": "python3",
      "display_name": "Python 3"
    },
    "language_info": {
      "name": "python"
    }
  },
  "cells": [
    {
      "cell_type": "markdown",
      "metadata": {
        "id": "view-in-github",
        "colab_type": "text"
      },
      "source": [
        "<a href=\"https://colab.research.google.com/github/nantmoe-theingi/airbnb-nz-deception-sentiment/blob/main/02_svm_deception.ipynb\" target=\"_parent\"><img src=\"https://colab.research.google.com/assets/colab-badge.svg\" alt=\"Open In Colab\"/></a>"
      ]
    },
    {
      "cell_type": "code",
      "source": [
        "GITHUB_USER = \"nantmoe-theingi\"\n",
        "REPO_NAME   = \"airbnb-nz-deception-sentiment\"\n",
        "BRANCH      = \"main\"\n",
        "\n",
        "\n",
        "REPO_URL = f\"https://github.com/nantmoe-theingi/airbnb-nz-deception-sentiment.git\"\n",
        "PROJECT_DRIVE_DIR = \"/content/drive/MyDrive/Colab Notebooks/airbnb_nz_deception_sentiment\"\n",
        "\n",
        "from google.colab import drive\n",
        "drive.mount('/content/drive')\n",
        "\n",
        "import os\n",
        "os.makedirs(PROJECT_DRIVE_DIR, exist_ok=True)\n",
        "print(\"Drive project folder:\", PROJECT_DRIVE_DIR)"
      ],
      "metadata": {
        "colab": {
          "base_uri": "https://localhost:8080/"
        },
        "id": "Vu2kkg1f-_R4",
        "outputId": "ce048bb6-42ae-496b-aaa9-aa70aa7e0964"
      },
      "execution_count": 2,
      "outputs": [
        {
          "output_type": "stream",
          "name": "stdout",
          "text": [
            "Drive already mounted at /content/drive; to attempt to forcibly remount, call drive.mount(\"/content/drive\", force_remount=True).\n",
            "Drive project folder: /content/drive/MyDrive/Colab Notebooks/airbnb_nz_deception_sentiment\n"
          ]
        }
      ]
    },
    {
      "cell_type": "code",
      "source": [
        "cd /content/drive/MyDrive/Colab\\ Notebooks/airbnb_nz_deception_sentiment"
      ],
      "metadata": {
        "colab": {
          "base_uri": "https://localhost:8080/"
        },
        "id": "kqI4LTT-_kiy",
        "outputId": "842bf065-a14a-4aae-ea2c-5b8110516069"
      },
      "execution_count": 16,
      "outputs": [
        {
          "output_type": "stream",
          "name": "stdout",
          "text": [
            "/content/drive/MyDrive/Colab Notebooks/airbnb_nz_deception_sentiment\n"
          ]
        }
      ]
    },
    {
      "cell_type": "code",
      "execution_count": 18,
      "metadata": {
        "colab": {
          "base_uri": "https://localhost:8080/"
        },
        "id": "BYcxibC2-q4D",
        "outputId": "cf04de3c-ed22-4d4d-d761-0540221e86ed"
      },
      "outputs": [
        {
          "output_type": "stream",
          "name": "stdout",
          "text": [
            "<class 'pandas.core.frame.DataFrame'>\n",
            "RangeIndex: 1600 entries, 0 to 1599\n",
            "Data columns (total 5 columns):\n",
            " #   Column     Non-Null Count  Dtype \n",
            "---  ------     --------------  ----- \n",
            " 0   deceptive  1600 non-null   object\n",
            " 1   hotel      1600 non-null   object\n",
            " 2   polarity   1600 non-null   object\n",
            " 3   source     1600 non-null   object\n",
            " 4   text       1600 non-null   object\n",
            "dtypes: object(5)\n",
            "memory usage: 62.6+ KB\n",
            "None\n",
            "  deceptive   hotel  polarity       source  \\\n",
            "0  truthful  conrad  positive  TripAdvisor   \n",
            "1  truthful   hyatt  positive  TripAdvisor   \n",
            "2  truthful   hyatt  positive  TripAdvisor   \n",
            "3  truthful    omni  positive  TripAdvisor   \n",
            "4  truthful   hyatt  positive  TripAdvisor   \n",
            "\n",
            "                                                text  \n",
            "0  We stayed for a one night getaway with family ...  \n",
            "1  Triple A rate with upgrade to view room was le...  \n",
            "2  This comes a little late as I'm finally catchi...  \n",
            "3  The Omni Chicago really delivers on all fronts...  \n",
            "4  I asked for a high floor away from the elevato...  \n"
          ]
        }
      ],
      "source": [
        "import pandas as pd\n",
        "\n",
        "# Load dataset\n",
        "df = pd.read_csv(\"data/deceptive_opinion.csv\")\n",
        "\n",
        "# 1. Check basic info\n",
        "print(df.info())\n",
        "print(df.head())"
      ]
    },
    {
      "cell_type": "code",
      "source": [
        "# 2. Check missing values\n",
        "print(\"Missing values per column:\\n\", df.isna().sum())\n",
        "\n",
        "# 3. Check duplicates\n",
        "dup_texts = df.duplicated(subset=[\"text\"]).sum()\n",
        "df = df.drop_duplicates(subset=[\"text\"], keep=\"first\").copy()\n",
        "print(f\"[Duplicate Reviews] Removed {dup_texts:,} identical comment texts → {len(df):,} remain.\")\n",
        "\n",
        "\n",
        "# 4. Label distribution\n",
        "print(\"Label distribution:\")\n",
        "print(df[\"deceptive\"].value_counts())\n",
        "\n",
        "# If labels are strings, map them to numeric\n",
        "label_map = {\"truthful\": 0, \"deceptive\": 1}\n",
        "df[\"label\"] = df[\"deceptive\"].map(label_map)\n",
        "\n",
        "# 5. Class balance summary\n",
        "total = len(df)\n",
        "for lbl, count in df[\"label\"].value_counts().items():\n",
        "    pct = (count / total) * 100\n",
        "    print(f\"Class {lbl} ({'deceptive' if lbl==1 else 'truthful'}): {count} ({pct:.2f}%)\")\n",
        "\n",
        "# check text length check\n",
        "df[\"length\"] = df[\"text\"].str.split().apply(len)\n",
        "print(\"Average review length (in words):\", df[\"length\"].mean())\n",
        "print(\"Shortest:\", df[\"length\"].min(), \"| Longest:\", df[\"length\"].max())"
      ],
      "metadata": {
        "colab": {
          "base_uri": "https://localhost:8080/"
        },
        "id": "c5vWsREkHt1v",
        "outputId": "2cc0f3cc-910e-401a-a6d1-8d47610dce0a"
      },
      "execution_count": 19,
      "outputs": [
        {
          "output_type": "stream",
          "name": "stdout",
          "text": [
            "Missing values per column:\n",
            " deceptive    0\n",
            "hotel        0\n",
            "polarity     0\n",
            "source       0\n",
            "text         0\n",
            "dtype: int64\n",
            "[Duplicate Reviews] Removed 4 identical comment texts → 1,596 remain.\n",
            "Label distribution:\n",
            "deceptive\n",
            "deceptive    800\n",
            "truthful     796\n",
            "Name: count, dtype: int64\n",
            "Class 1 (deceptive): 800 (50.13%)\n",
            "Class 0 (truthful): 796 (49.87%)\n",
            "Average review length (in words): 148.71804511278197\n",
            "Shortest: 25 | Longest: 784\n"
          ]
        }
      ]
    },
    {
      "cell_type": "code",
      "source": [
        "import numpy as np\n",
        "from pathlib import Path\n",
        "\n",
        "from sklearn.model_selection import train_test_split, StratifiedKFold, GridSearchCV\n",
        "from sklearn.feature_extraction.text import TfidfVectorizer\n",
        "from sklearn.pipeline import Pipeline\n",
        "from sklearn.svm import LinearSVC\n",
        "from sklearn.metrics import classification_report, confusion_matrix, accuracy_score, f1_score\n",
        "import joblib\n",
        "import matplotlib.pyplot as plt\n",
        "\n",
        "RANDOM_STATE = 42\n",
        "ARTIFACTS_DIR = Path(\"artifacts/deception_svm\")\n",
        "ARTIFACTS_DIR.mkdir(parents=True, exist_ok=True)"
      ],
      "metadata": {
        "id": "-N7noeZECu0C"
      },
      "execution_count": 20,
      "outputs": []
    },
    {
      "cell_type": "code",
      "source": [
        "print(df[\"label\"].value_counts(dropna=False))\n",
        "print(df.head(2))"
      ],
      "metadata": {
        "colab": {
          "base_uri": "https://localhost:8080/"
        },
        "id": "t--Q0jALOC-C",
        "outputId": "f3550b16-870d-4bf4-fd5e-71fc34fe3a82"
      },
      "execution_count": 22,
      "outputs": [
        {
          "output_type": "stream",
          "name": "stdout",
          "text": [
            "label\n",
            "1    800\n",
            "0    796\n",
            "Name: count, dtype: int64\n",
            "  deceptive   hotel  polarity       source  \\\n",
            "0  truthful  conrad  positive  TripAdvisor   \n",
            "1  truthful   hyatt  positive  TripAdvisor   \n",
            "\n",
            "                                                text  label  length  \n",
            "0  We stayed for a one night getaway with family ...      0     105  \n",
            "1  Triple A rate with upgrade to view room was le...      0      45  \n"
          ]
        }
      ]
    },
    {
      "cell_type": "code",
      "source": [
        "X_train, X_temp, y_train, y_temp = train_test_split(\n",
        "    df[\"text\"], df[\"label\"], test_size=0.2, random_state=RANDOM_STATE, stratify=df[\"label\"]\n",
        ")\n",
        "X_val, X_test, y_val, y_test = train_test_split(\n",
        "    X_temp, y_temp, test_size=0.5, random_state=RANDOM_STATE, stratify=y_temp\n",
        ")\n",
        "\n",
        "print(f\"Train: {len(X_train)} | Val: {len(X_val)} | Test: {len(X_test)}\")"
      ],
      "metadata": {
        "colab": {
          "base_uri": "https://localhost:8080/"
        },
        "id": "bNJiBLZTODBZ",
        "outputId": "eb539e17-b3c4-472a-fb55-408a948763ff"
      },
      "execution_count": 23,
      "outputs": [
        {
          "output_type": "stream",
          "name": "stdout",
          "text": [
            "Train: 1276 | Val: 160 | Test: 160\n"
          ]
        }
      ]
    },
    {
      "cell_type": "code",
      "source": [
        "# Pipeline: TF-IDF (1–2 grams) -> LinearSVC\n",
        "# Characteristic setup that works well for deception datasets: 1–2 n-grams, sublinear TF, min_df to ignore rare tokens.\n",
        "svm_pipe = Pipeline([\n",
        "    (\"tfidf\", TfidfVectorizer(\n",
        "        lowercase=True,\n",
        "        strip_accents=\"unicode\",\n",
        "        ngram_range=(1,2),\n",
        "        min_df=2,\n",
        "        max_df=0.9,\n",
        "        sublinear_tf=True\n",
        "    )),\n",
        "    (\"clf\", LinearSVC(random_state=RANDOM_STATE))\n",
        "])"
      ],
      "metadata": {
        "id": "p-uhaVTUODG4"
      },
      "execution_count": 24,
      "outputs": []
    },
    {
      "cell_type": "code",
      "source": [
        "# Hyperparameter search\n",
        "param_grid = {\n",
        "    \"clf__C\": [0.25, 0.5, 1.0, 2.0, 4.0],\n",
        "}\n",
        "cv = StratifiedKFold(n_splits=5, shuffle=True, random_state=RANDOM_STATE)\n",
        "\n",
        "grid = GridSearchCV(\n",
        "    svm_pipe,\n",
        "    param_grid=param_grid,\n",
        "    scoring=\"f1\",  # macro or binary; binary f1 assumes positive class=1 (deceptive)\n",
        "    cv=cv,\n",
        "    n_jobs=-1,\n",
        "    verbose=1,\n",
        "    refit=True\n",
        ")\n",
        "grid.fit(X_train, y_train)\n",
        "\n",
        "print(\"Best params:\", grid.best_params_)\n",
        "print(\"Best CV score (F1):\", grid.best_score_)\n",
        "best_model = grid.best_estimator_"
      ],
      "metadata": {
        "colab": {
          "base_uri": "https://localhost:8080/"
        },
        "id": "4mXLomWjODKi",
        "outputId": "7d78a640-a58c-4df5-97c3-9397c94efc73"
      },
      "execution_count": 25,
      "outputs": [
        {
          "output_type": "stream",
          "name": "stdout",
          "text": [
            "Fitting 5 folds for each of 5 candidates, totalling 25 fits\n",
            "Best params: {'clf__C': 4.0}\n",
            "Best CV score (F1): 0.8956235076893282\n"
          ]
        }
      ]
    },
    {
      "cell_type": "code",
      "source": [
        "# Validate\n",
        "y_val_pred = best_model.predict(X_val)\n",
        "print(\"\\nVALIDATION\")\n",
        "print(\"Accuracy:\", accuracy_score(y_val, y_val_pred))\n",
        "print(\"F1 (deceptive=1):\", f1_score(y_val, y_val_pred))\n",
        "print(classification_report(y_val, y_val_pred, target_names=[\"truthful\",\"deceptive\"]))"
      ],
      "metadata": {
        "colab": {
          "base_uri": "https://localhost:8080/"
        },
        "id": "9L3wGtq-QTZN",
        "outputId": "bbbddcb8-bfcb-400f-ff83-88e66e802c88"
      },
      "execution_count": 26,
      "outputs": [
        {
          "output_type": "stream",
          "name": "stdout",
          "text": [
            "\n",
            "VALIDATION\n",
            "Accuracy: 0.9125\n",
            "F1 (deceptive=1): 0.9135802469135802\n",
            "              precision    recall  f1-score   support\n",
            "\n",
            "    truthful       0.92      0.90      0.91        80\n",
            "   deceptive       0.90      0.93      0.91        80\n",
            "\n",
            "    accuracy                           0.91       160\n",
            "   macro avg       0.91      0.91      0.91       160\n",
            "weighted avg       0.91      0.91      0.91       160\n",
            "\n"
          ]
        }
      ]
    },
    {
      "cell_type": "code",
      "source": [
        "# 6) Test\n",
        "y_test_pred = best_model.predict(X_test)\n",
        "print(\"\\nTEST\")\n",
        "print(\"Accuracy:\", accuracy_score(y_test, y_test_pred))\n",
        "print(\"F1 (deceptive=1):\", f1_score(y_test, y_test_pred))\n",
        "print(classification_report(y_test, y_test_pred, target_names=[\"truthful\",\"deceptive\"]))\n",
        "\n",
        "cm = confusion_matrix(y_test, y_test_pred)\n",
        "print(\"Confusion matrix (test):\\n\", cm)"
      ],
      "metadata": {
        "colab": {
          "base_uri": "https://localhost:8080/"
        },
        "id": "RLg3obm3QTc5",
        "outputId": "1d56ce6f-349e-4ce6-d22c-3a2e36ddea92"
      },
      "execution_count": 28,
      "outputs": [
        {
          "output_type": "stream",
          "name": "stdout",
          "text": [
            "\n",
            "TEST\n",
            "Accuracy: 0.86875\n",
            "F1 (deceptive=1): 0.8727272727272727\n",
            "              precision    recall  f1-score   support\n",
            "\n",
            "    truthful       0.89      0.84      0.86        80\n",
            "   deceptive       0.85      0.90      0.87        80\n",
            "\n",
            "    accuracy                           0.87       160\n",
            "   macro avg       0.87      0.87      0.87       160\n",
            "weighted avg       0.87      0.87      0.87       160\n",
            "\n",
            "Confusion matrix (test):\n",
            " [[67 13]\n",
            " [ 8 72]]\n"
          ]
        }
      ]
    },
    {
      "cell_type": "code",
      "source": [
        "# CM plot\n",
        "plt.figure()\n",
        "plt.imshow(cm, interpolation=\"nearest\")\n",
        "plt.title(\"Confusion Matrix (Test) — Deception SVM\")\n",
        "plt.xticks([0,1], [\"truthful\",\"deceptive\"])\n",
        "plt.yticks([0,1], [\"truthful\",\"deceptive\"])\n",
        "for (i,j),v in np.ndenumerate(cm):\n",
        "    plt.text(j, i, str(v), ha=\"center\", va=\"center\")\n",
        "plt.xlabel(\"Predicted\");\n",
        "plt.ylabel(\"True\");\n",
        "plt.tight_layout();\n",
        "plt.show()"
      ],
      "metadata": {
        "colab": {
          "base_uri": "https://localhost:8080/",
          "height": 487
        },
        "id": "I3ovN8WEQTg_",
        "outputId": "9404a36c-3fe8-45d6-d798-71bee99ae7ea"
      },
      "execution_count": 32,
      "outputs": [
        {
          "output_type": "display_data",
          "data": {
            "text/plain": [
              "<Figure size 640x480 with 1 Axes>"
            ],
            "image/png": "[encoded data removed]"
          },
          "metadata": {}
        }
      ]
    },
    {
      "cell_type": "code",
      "source": [
        "# Save artifacts\n",
        "joblib.dump(best, ARTIFACTS / \"svm_deception_pipeline.joblib\")\n",
        "joblib.dump({\"truthful\":0, \"deceptive\":1}, ARTIFACTS / \"label_map.joblib\")\n",
        "print(\"Saved model & label map to:\", ARTIFACTS.resolve())"
      ],
      "metadata": {
        "colab": {
          "base_uri": "https://localhost:8080/",
          "height": 487
        },
        "id": "57ahVex1QTkG",
        "outputId": "2faf1308-d737-4021-f275-ae88be09d3bf"
      },
      "execution_count": 30,
      "outputs": [
        {
          "output_type": "display_data",
          "data": {
            "text/plain": [
              "<Figure size 640x480 with 1 Axes>"
            ],
            "image/png": "[encoded data removed]"
          },
          "metadata": {}
        }
      ]
    },
    {
      "cell_type": "code",
      "source": [
        "# 7) Save artifacts\n",
        "joblib.dump(best_model, ARTIFACTS_DIR / \"svm_deception_pipeline.joblib\")\n",
        "joblib.dump({\"truthful\":0, \"deceptive\":1}, ARTIFACTS_DIR / \"label_map.joblib\")\n",
        "print(\"Saved model & label map to:\", ARTIFACTS_DIR.resolve())"
      ],
      "metadata": {
        "colab": {
          "base_uri": "https://localhost:8080/"
        },
        "id": "ves2jwjgQTnP",
        "outputId": "63a404b6-0638-41f8-d0ef-dd5ee17eb935"
      },
      "execution_count": 33,
      "outputs": [
        {
          "output_type": "stream",
          "name": "stdout",
          "text": [
            "Saved model & label map to: /content/drive/MyDrive/Colab Notebooks/airbnb_nz_deception_sentiment/artifacts/deception_svm\n"
          ]
        }
      ]
    },
    {
      "cell_type": "code",
      "source": [
        "# Inference helper to reuse\n",
        "def predict_deception(texts, pipeline_path=ARTIFACTS_DIR / \"svm_deception_pipeline.joblib\"):\n",
        "    model = joblib.load(pipeline_path)\n",
        "    preds = model.predict(texts)\n",
        "    return preds  # 0 truthful, 1 deceptive\n",
        "\n",
        "# Example:\n",
        "preds = predict_deception(pd.Series([\"The hotel was lovely, great service!\", \"Totally fake vibe...\"]))\n",
        "print(preds)"
      ],
      "metadata": {
        "colab": {
          "base_uri": "https://localhost:8080/"
        },
        "id": "uOM6hjYzQTqF",
        "outputId": "d2b7ddca-fc6d-4350-8da0-2c817f308341"
      },
      "execution_count": 34,
      "outputs": [
        {
          "output_type": "stream",
          "name": "stdout",
          "text": [
            "[0 0]\n"
          ]
        }
      ]
    },
    {
      "cell_type": "code",
      "source": [
        "pwd"
      ],
      "metadata": {
        "colab": {
          "base_uri": "https://localhost:8080/",
          "height": 34
        },
        "id": "wG80RxAlTi8d",
        "outputId": "45b59925-dc85-4fa4-aab1-ae7767c04ec5"
      },
      "execution_count": 37,
      "outputs": [
        {
          "output_type": "execute_result",
          "data": {
            "text/plain": [
              "'/content/drive/MyDrive/Colab Notebooks/airbnb_nz_deception_sentiment'"
            ],
            "application/vnd.google.colaboratory.intrinsic+json": {
              "type": "string"
            }
          },
          "metadata": {},
          "execution_count": 37
        }
      ]
    },
    {
      "cell_type": "code",
      "source": [],
      "metadata": {
        "id": "-16JMy6KTjHR"
      },
      "execution_count": null,
      "outputs": []
    },
    {
      "cell_type": "code",
      "source": [],
      "metadata": {
        "id": "LO0nA8ISTjP3"
      },
      "execution_count": null,
      "outputs": []
    }
  ]
}