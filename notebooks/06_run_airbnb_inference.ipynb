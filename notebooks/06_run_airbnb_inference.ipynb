{
  "nbformat": 4,
  "nbformat_minor": 0,
  "metadata": {
    "colab": {
      "provenance": [],
      "gpuType": "T4",
      "mount_file_id": "1FKnsO2DBeSkXSYA7aFzVAKPpuPjzFc2N",
      "authorship_tag": "ABX9TyNVm2ZWAbx2lXfskteFOukh",
      "include_colab_link": true
    },
    "kernelspec": {
      "name": "python3",
      "display_name": "Python 3"
    },
    "language_info": {
      "name": "python"
    },
    "accelerator": "GPU"
  },
  "cells": [
    {
      "cell_type": "markdown",
      "metadata": {
        "id": "view-in-github",
        "colab_type": "text"
      },
      "source": [
        "<a href=\"https://colab.research.google.com/github/nantmoe-theingi/airbnb-nz-deception-sentiment/blob/main/notebooks/06_run_airbnb_inference.ipynb\" target=\"_parent\"><img src=\"https://colab.research.google.com/assets/colab-badge.svg\" alt=\"Open In Colab\"/></a>"
      ]
    },
    {
      "cell_type": "code",
      "source": [
        "PROJECT_DRIVE_DIR = \"/content/drive/MyDrive/Colab Notebooks/airbnb_nz_deception_sentiment\"\n",
        "\n",
        "from google.colab import drive\n",
        "drive.mount('/content/drive')\n",
        "\n",
        "import os\n",
        "os.makedirs(PROJECT_DRIVE_DIR, exist_ok=True)\n",
        "print(\"Drive project folder:\", PROJECT_DRIVE_DIR)"
      ],
      "metadata": {
        "colab": {
          "base_uri": "https://localhost:8080/"
        },
        "id": "R3xiESYZXCne",
        "outputId": "d12a2c6b-b1de-423b-f05a-48ccbafca1e4"
      },
      "execution_count": 8,
      "outputs": [
        {
          "output_type": "stream",
          "name": "stdout",
          "text": [
            "Drive already mounted at /content/drive; to attempt to forcibly remount, call drive.mount(\"/content/drive\", force_remount=True).\n",
            "Drive project folder: /content/drive/MyDrive/Colab Notebooks/airbnb_nz_deception_sentiment\n"
          ]
        }
      ]
    },
    {
      "cell_type": "code",
      "source": [
        "cd {PROJECT_DRIVE_DIR}"
      ],
      "metadata": {
        "colab": {
          "base_uri": "https://localhost:8080/"
        },
        "id": "-2l9rl55XJpp",
        "outputId": "9242f6d8-345b-4953-814a-7ae99bf4de69"
      },
      "execution_count": 9,
      "outputs": [
        {
          "output_type": "stream",
          "name": "stdout",
          "text": [
            "/content/drive/MyDrive/Colab Notebooks/airbnb_nz_deception_sentiment\n"
          ]
        }
      ]
    },
    {
      "cell_type": "code",
      "source": [
        "# Create a new .py file and open it for editing\n",
        "file_name = \"run_airbnb_inference.py\"\n",
        "with open(file_name, \"w\") as f:\n",
        "    f.write(\"\")  # empty file created\n",
        "print(f\"{file_name} created.\")"
      ],
      "metadata": {
        "colab": {
          "base_uri": "https://localhost:8080/"
        },
        "id": "JQfOLKPqSJr-",
        "outputId": "eee52ad6-45f4-436b-f544-c93a113db07d"
      },
      "execution_count": null,
      "outputs": [
        {
          "output_type": "stream",
          "name": "stdout",
          "text": [
            "run_airbnb_inference.py created.\n"
          ]
        }
      ]
    },
    {
      "cell_type": "code",
      "source": [
        "!python run_airbnb_inference.py \\\n",
        "  --input_parquet data/airbnb_reviews_cleaned.parquet \\\n",
        "  --output_parquet outputs/airbnb_predictions.parquet \\\n",
        "  --deception_model_dir \"/content/drive/MyDrive/Colab Notebooks/airbnb_nz_deception_sentiment/artifacts/deception_distilbert_hf\" \\\n",
        "  --sentiment_model_dir \"models/distilbert_tripadvisor\"\n"
      ],
      "metadata": {
        "id": "BOXP__nQVCXj",
        "colab": {
          "base_uri": "https://localhost:8080/"
        },
        "outputId": "31d007a8-acdd-44d5-8413-15d1074a0012"
      },
      "execution_count": 10,
      "outputs": [
        {
          "output_type": "stream",
          "name": "stdout",
          "text": [
            "2025-10-22 01:02:27.859102: E external/local_xla/xla/stream_executor/cuda/cuda_fft.cc:467] Unable to register cuFFT factory: Attempting to register factory for plugin cuFFT when one has already been registered\n",
            "WARNING: All log messages before absl::InitializeLog() is called are written to STDERR\n",
            "E0000 00:00:1761094947.923640   14048 cuda_dnn.cc:8579] Unable to register cuDNN factory: Attempting to register factory for plugin cuDNN when one has already been registered\n",
            "E0000 00:00:1761094947.948451   14048 cuda_blas.cc:1407] Unable to register cuBLAS factory: Attempting to register factory for plugin cuBLAS when one has already been registered\n",
            "W0000 00:00:1761094947.998164   14048 computation_placer.cc:177] computation placer already registered. Please check linkage and avoid linking the same target more than once.\n",
            "W0000 00:00:1761094947.998199   14048 computation_placer.cc:177] computation placer already registered. Please check linkage and avoid linking the same target more than once.\n",
            "W0000 00:00:1761094947.998207   14048 computation_placer.cc:177] computation placer already registered. Please check linkage and avoid linking the same target more than once.\n",
            "W0000 00:00:1761094947.998213   14048 computation_placer.cc:177] computation placer already registered. Please check linkage and avoid linking the same target more than once.\n",
            "2025-10-22 01:02:28.021758: I tensorflow/core/platform/cpu_feature_guard.cc:210] This TensorFlow binary is optimized to use available CPU instructions in performance-critical operations.\n",
            "To enable the following instructions: AVX2 AVX512F FMA, in other operations, rebuild TensorFlow with the appropriate compiler flags.\n",
            "[DONE] Wrote 1,533,422 rows to outputs/airbnb_predictions.parquet in 3109.7s (493 rows/s).\n",
            "[VALIDATION] Output shape OK; no null predictions.\n"
          ]
        }
      ]
    }
  ]
}