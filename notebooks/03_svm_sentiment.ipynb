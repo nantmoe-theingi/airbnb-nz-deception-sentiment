{
  "nbformat": 4,
  "nbformat_minor": 0,
  "metadata": {
    "colab": {
      "provenance": [],
      "include_colab_link": true
    },
    "kernelspec": {
      "name": "python3",
      "display_name": "Python 3"
    },
    "language_info": {
      "name": "python"
    }
  },
  "cells": [
    {
      "cell_type": "markdown",
      "metadata": {
        "id": "view-in-github",
        "colab_type": "text"
      },
      "source": [
        "<a href=\"https://colab.research.google.com/github/nantmoe-theingi/airbnb-nz-deception-sentiment/blob/main/notebooks/03_svm_sentiment.ipynb\" target=\"_parent\"><img src=\"https://colab.research.google.com/assets/colab-badge.svg\" alt=\"Open In Colab\"/></a>"
      ]
    },
    {
      "cell_type": "code",
      "execution_count": null,
      "metadata": {
        "id": "ZFbuf0AoQipn",
        "colab": {
          "base_uri": "https://localhost:8080/"
        },
        "outputId": "0a89af68-8297-4072-bab8-86f7972cfae7"
      },
      "outputs": [
        {
          "output_type": "stream",
          "name": "stdout",
          "text": [
            "                                              Review  Rating\n",
            "0  nice hotel expensive parking got good deal sta...       4\n",
            "1  ok nothing special charge diamond member hilto...       2\n",
            "2  nice rooms not 4* experience hotel monaco seat...       3\n",
            "3  unique, great stay, wonderful time hotel monac...       5\n",
            "4  great stay great stay, went seahawk game aweso...       5\n",
            "Numbers of reviews: 20491\n",
            "unique values in the 'rating' column: [4 2 3 5 1]\n"
          ]
        }
      ],
      "source": [
        "import pandas as pd\n",
        "import numpy as np\n",
        "import re\n",
        "\n",
        "# Load the data\n",
        "CSV = \"data/tripadvisor_hotel_reviews.csv\"\n",
        "df = pd.read_csv(CSV)\n",
        "print(df.head())\n",
        "print(\"Numbers of reviews:\", len(df))\n",
        "# Show unique values in the 'rating' column\n",
        "print(\"unique values in the 'rating' column:\", df[\"Rating\"].unique())"
      ]
    },
    {
      "cell_type": "code",
      "source": [
        "from langdetect import detect\n",
        "\n",
        "# Safe language detection\n",
        "def detect_lang(text):\n",
        "    try:\n",
        "        return detect(text) if isinstance(text, str) and text.strip() else \"unknown\"\n",
        "    except:\n",
        "        return \"error\"\n",
        "\n",
        "# Detect language for each review\n",
        "df[\"language\"] = df[\"Review\"].apply(detect_lang)\n",
        "\n",
        "# Show language distribution\n",
        "print(\"Detected languages distribution:\")\n",
        "print(df[\"language\"].value_counts())\n",
        "\n",
        "# Filter to English only\n",
        "english_df = df[df[\"language\"] == \"en\"].copy()\n",
        "\n",
        "# Show before/after counts\n",
        "print(\"\\nTotal reviews before filtering:\", len(df))\n",
        "print(\"Total English-only reviews after filtering:\", len(english_df))\n",
        "print(f\"Removed {len(df) - len(english_df)} non-English or undetectable reviews.\")\n",
        "\n",
        "# Replace df with English-only data\n",
        "df = english_df.reset_index(drop=True)\n",
        "\n",
        "print(\"\\n DataFrame updated — only English reviews retained.\")\n",
        "print(\"New length of df:\", len(df))\n"
      ],
      "metadata": {
        "id": "b-p_7oa9S-UB",
        "outputId": "3911a10a-4b79-4488-ef1f-65659f7dd149",
        "colab": {
          "base_uri": "https://localhost:8080/"
        }
      },
      "execution_count": null,
      "outputs": [
        {
          "output_type": "stream",
          "name": "stdout",
          "text": [
            "Detected languages distribution:\n",
            "language\n",
            "en    20473\n",
            "fr       10\n",
            "af        4\n",
            "es        1\n",
            "ro        1\n",
            "ca        1\n",
            "nl        1\n",
            "Name: count, dtype: int64\n",
            "\n",
            "Total reviews before filtering: 20491\n",
            "Total English-only reviews after filtering: 20473\n",
            "Removed 18 non-English or undetectable reviews.\n",
            "\n",
            " DataFrame updated — only English reviews retained.\n",
            "New length of df: 20473\n"
          ]
        }
      ]
    },
    {
      "cell_type": "code",
      "source": [
        "TEXT_COL = \"Review\"\n",
        "RATING_COL = \"Rating\"\n",
        "\n",
        "# === 2) Basic cleaning ===\n",
        "def norm_ws(s: pd.Series) -> pd.Series:\n",
        "    zws = r'[\\u200B-\\u200D\\uFEFF]'\n",
        "    s = s.astype(str).str.replace(zws, \"\", regex=True)\n",
        "    return s.str.replace(r\"\\s+\", \" \", regex=True).str.strip()\n",
        "\n",
        "df[TEXT_COL] = norm_ws(df[TEXT_COL])\n",
        "df[RATING_COL] = pd.to_numeric(df[RATING_COL], errors=\"coerce\")\n",
        "\n",
        "# Drop rows with missing text or rating\n",
        "before = len(df)\n",
        "df = df.dropna(subset=[TEXT_COL, RATING_COL]).copy()\n",
        "df = df.loc[df[TEXT_COL].str.len() > 0]\n",
        "print(f\"Removed {before - len(df):,} rows with missing/empty text or rating.\")\n"
      ],
      "metadata": {
        "colab": {
          "base_uri": "https://localhost:8080/"
        },
        "id": "5ZWPQL5XjKI0",
        "outputId": "ad23739f-0513-4b99-b854-991f430b74e4"
      },
      "execution_count": null,
      "outputs": [
        {
          "output_type": "stream",
          "name": "stdout",
          "text": [
            "Removed 0 rows with missing/empty text or rating.\n"
          ]
        }
      ]
    },
    {
      "cell_type": "code",
      "source": [
        "# Remove exact duplicate texts\n",
        "dup_texts = df.duplicated(subset=[TEXT_COL]).sum()\n",
        "df = df.drop_duplicates(subset=[TEXT_COL]).copy()\n",
        "print(f\"Removed {dup_texts:,} duplicate review texts.\")\n",
        "\n",
        "# remove symbol-only reviews\n",
        "import regex as re\n",
        "def is_symbol_only(x: str) -> bool:\n",
        "    return not bool(re.search(r\"\\p{L}\", x, flags=re.UNICODE))\n",
        "sym = df[TEXT_COL].apply(is_symbol_only).sum()\n",
        "df = df.loc[~df[TEXT_COL].apply(is_symbol_only)].copy()\n",
        "print(f\"Removed {sym:,} symbol-only reviews.\")"
      ],
      "metadata": {
        "id": "PcfxOgwZjKL8",
        "colab": {
          "base_uri": "https://localhost:8080/"
        },
        "outputId": "66c25261-1f47-4936-985e-4e03928a1b52"
      },
      "execution_count": null,
      "outputs": [
        {
          "output_type": "stream",
          "name": "stdout",
          "text": [
            "Removed 0 duplicate review texts.\n",
            "Removed 0 symbol-only reviews.\n"
          ]
        }
      ]
    },
    {
      "cell_type": "code",
      "source": [
        "# Map rating -> 3-class sentiment\n",
        "def map_sentiment(star: float) -> str:\n",
        "    if star <= 2:\n",
        "        return \"negative\"\n",
        "    elif star == 3:\n",
        "        return \"neutral\"\n",
        "    else:  # 4–5\n",
        "        return \"positive\"\n",
        "\n",
        "df[\"sentiment\"] = df[RATING_COL].apply(map_sentiment)\n",
        "\n",
        "# numeric y for models\n",
        "label_map = {\"negative\": 0, \"neutral\": 1, \"positive\": 2}\n",
        "df[\"y\"] = df[\"sentiment\"].map(label_map).astype(int)\n",
        "\n",
        "print(df.head())"
      ],
      "metadata": {
        "id": "5iLN2qu_htad",
        "outputId": "aa2faaf6-140e-4b3b-b1e6-bd01b7f7eb6e",
        "colab": {
          "base_uri": "https://localhost:8080/"
        }
      },
      "execution_count": null,
      "outputs": [
        {
          "output_type": "stream",
          "name": "stdout",
          "text": [
            "                                              Review  Rating language  \\\n",
            "0  nice hotel expensive parking got good deal sta...       4       en   \n",
            "1  ok nothing special charge diamond member hilto...       2       en   \n",
            "2  nice rooms not 4* experience hotel monaco seat...       3       en   \n",
            "3  unique, great stay, wonderful time hotel monac...       5       en   \n",
            "4  great stay great stay, went seahawk game aweso...       5       en   \n",
            "\n",
            "  sentiment  y  \n",
            "0  positive  2  \n",
            "1  negative  0  \n",
            "2   neutral  1  \n",
            "3  positive  2  \n",
            "4  positive  2  \n"
          ]
        }
      ]
    },
    {
      "cell_type": "code",
      "source": [
        "# EDA\n",
        "print(\"\\nClass distribution:\")\n",
        "print(df[\"sentiment\"].value_counts().sort_index())\n",
        "print(\"\\nClass distribution (%):\")\n",
        "print((df[\"sentiment\"].value_counts(normalize=True)*100).round(2).sort_index())\n",
        "\n",
        "df[\"length_words\"] = df[TEXT_COL].str.split().apply(len)\n",
        "print(\"\\nLength (words): mean=\", round(df[\"length_words\"].mean(),2),\n",
        "      \"min=\", df[\"length_words\"].min(), \"max=\", df[\"length_words\"].max())"
      ],
      "metadata": {
        "id": "plVf0N_ZhuDR",
        "colab": {
          "base_uri": "https://localhost:8080/"
        },
        "outputId": "f5950e93-0921-43cd-f3d1-bc0266e90306"
      },
      "execution_count": null,
      "outputs": [
        {
          "output_type": "stream",
          "name": "stdout",
          "text": [
            "\n",
            "Class distribution:\n",
            "sentiment\n",
            "negative     3210\n",
            "neutral      2183\n",
            "positive    15080\n",
            "Name: count, dtype: int64\n",
            "\n",
            "Class distribution (%):\n",
            "sentiment\n",
            "negative    15.68\n",
            "neutral     10.66\n",
            "positive    73.66\n",
            "Name: proportion, dtype: float64\n",
            "\n",
            "Length (words): mean= 104.45 min= 7 max= 1931\n"
          ]
        }
      ]
    },
    {
      "cell_type": "code",
      "source": [
        "# Keep only that need for modeling and save cleaned file\n",
        "out = df[[TEXT_COL, \"sentiment\", \"y\"]].rename(columns={TEXT_COL: \"text\"})\n",
        "out.to_csv(\"data/tripadvisor_prepared_3class.csv\", index=False)\n",
        "print(\"\\nSaved: tripadvisor_prepared_3class.csv\")"
      ],
      "metadata": {
        "id": "h0l96PAxjKOi",
        "colab": {
          "base_uri": "https://localhost:8080/"
        },
        "outputId": "9c1e4223-5883-495f-b1b4-d76615e46f7e"
      },
      "execution_count": null,
      "outputs": [
        {
          "output_type": "stream",
          "name": "stdout",
          "text": [
            "\n",
            "Saved: tripadvisor_prepared_3class.csv\n"
          ]
        }
      ]
    },
    {
      "cell_type": "code",
      "source": [
        "# plotting\n",
        "import matplotlib.pyplot as plt\n",
        "\n",
        "label_type = {\"negative\": \"Negative\", \"neutral\": \"Neutral\", \"positive\": \"Positive\"}\n",
        "counts = df[\"sentiment\"].value_counts().rename(index=label_type).sort_index()\n",
        "\n",
        "\n",
        "pct = (counts / counts.sum() * 100).round(2)\n",
        "print(\"Counts:\\n\", counts)\n",
        "print(\"\\nPercentages (%):\\n\", pct)\n",
        "\n",
        "# Plot\n",
        "plt.figure(figsize=(6,6))\n",
        "bars = plt.bar(counts.index, counts.values, color=\"#4C72B0\")\n",
        "plt.title(\"Label Distribution in TripAdvisor Hotel Reviews Dataset\")\n",
        "plt.xlabel(\"Class Label\")\n",
        "plt.ylabel(\"Number of Reviews\")\n",
        "\n",
        "# Add labels\n",
        "for b in bars:\n",
        "    y = b.get_height()\n",
        "    plt.text(b.get_x() + b.get_width()/2, y + max(counts.values)*0.01, f\"{int(y)}\", ha=\"center\", va=\"bottom\", fontsize=10)\n",
        "\n",
        "plt.tight_layout()\n",
        "plt.savefig(\"figures/tripadvisor_dataset_distribution.png\", dpi=300)\n",
        "plt.show()"
      ],
      "metadata": {
        "colab": {
          "base_uri": "https://localhost:8080/",
          "height": 821
        },
        "id": "1Js1vbxECNn1",
        "outputId": "0117dd6b-dcbc-4a2e-ef45-41f71eee8248"
      },
      "execution_count": null,
      "outputs": [
        {
          "output_type": "stream",
          "name": "stdout",
          "text": [
            "Counts:\n",
            " sentiment\n",
            "Negative     3210\n",
            "Neutral      2183\n",
            "Positive    15080\n",
            "Name: count, dtype: int64\n",
            "\n",
            "Percentages (%):\n",
            " sentiment\n",
            "Negative    15.68\n",
            "Neutral     10.66\n",
            "Positive    73.66\n",
            "Name: count, dtype: float64\n"
          ]
        },
        {
          "output_type": "display_data",
          "data": {
            "text/plain": [
              "<Figure size 600x600 with 1 Axes>"
            ],
            "image/png": "[encoded data removed]"
          },
          "metadata": {}
        }
      ]
    },
    {
      "cell_type": "code",
      "source": [
        "# 3-class sentiment: TF–IDF + LinearSVC\n",
        "import pandas as pd\n",
        "import numpy as np\n",
        "from pathlib import Path\n",
        "\n",
        "from sklearn.model_selection import train_test_split, StratifiedKFold, GridSearchCV\n",
        "from sklearn.feature_extraction.text import TfidfVectorizer\n",
        "from sklearn.pipeline import Pipeline\n",
        "from sklearn.svm import LinearSVC\n",
        "from sklearn.metrics import classification_report, confusion_matrix, accuracy_score, f1_score\n",
        "from sklearn.utils.class_weight import compute_class_weight\n",
        "import joblib\n",
        "import matplotlib.pyplot as plt"
      ],
      "metadata": {
        "id": "vC-N1M0tiuH_"
      },
      "execution_count": null,
      "outputs": []
    },
    {
      "cell_type": "code",
      "source": [
        "RANDOM_STATE = 42\n",
        "ARTIFACTS = Path(\"artifacts/sentiment_svm\")\n",
        "ARTIFACTS.mkdir(parents=True, exist_ok=True)"
      ],
      "metadata": {
        "id": "9M59YCn2iuSK"
      },
      "execution_count": null,
      "outputs": []
    },
    {
      "cell_type": "code",
      "source": [
        "# Load prepared file\n",
        "df_cleaned = pd.read_csv(\"data/tripadvisor_prepared_3class.csv\")\n",
        "\n",
        "LABEL_COL = \"y\"\n",
        "TEXT_COL  = \"text\""
      ],
      "metadata": {
        "id": "xYJaNJmViucD"
      },
      "execution_count": null,
      "outputs": []
    },
    {
      "cell_type": "code",
      "source": [
        "RANDOM_SEED = 42\n",
        "train_df, test_df = train_test_split(\n",
        "    df_cleaned[[TEXT_COL, LABEL_COL]], test_size=0.15, random_state=RANDOM_SEED,\n",
        "    stratify=df[LABEL_COL]\n",
        ")\n",
        "train_df, val_df = train_test_split(\n",
        "    train_df, test_size=0.1765, random_state=RANDOM_SEED,  # ~15% of total\n",
        "    stratify=train_df[LABEL_COL]\n",
        ")"
      ],
      "metadata": {
        "id": "i8QgfMROo4j3"
      },
      "execution_count": null,
      "outputs": []
    },
    {
      "cell_type": "code",
      "source": [
        "print(f\"Train={len(train_df)}, Val={len(val_df)}, Test={len(test_df)}\")"
      ],
      "metadata": {
        "colab": {
          "base_uri": "https://localhost:8080/"
        },
        "id": "StFjlEY06ulU",
        "outputId": "e98c243b-a000-41b5-c973-ae48a6525284"
      },
      "execution_count": null,
      "outputs": [
        {
          "output_type": "stream",
          "name": "stdout",
          "text": [
            "Train=14330, Val=3072, Test=3071\n"
          ]
        }
      ]
    },
    {
      "cell_type": "code",
      "source": [
        "import numpy as np\n",
        "from sklearn.utils.class_weight import compute_class_weight\n",
        "classes = np.array(sorted(train_df[LABEL_COL].unique()))\n",
        "class_weights = compute_class_weight(\"balanced\", classes=classes, y=train_df[LABEL_COL])\n",
        "class_weights = {int(c):float(w) for c,w in zip(classes, class_weights)}\n",
        "print(class_weights)"
      ],
      "metadata": {
        "colab": {
          "base_uri": "https://localhost:8080/"
        },
        "id": "oEYhM9Tb6kJj",
        "outputId": "5aea233e-574f-4aeb-f961-88c595ef92cd"
      },
      "execution_count": null,
      "outputs": [
        {
          "output_type": "stream",
          "name": "stdout",
          "text": [
            "{0: 2.125797359442219, 1: 3.1260907504363002, 2: 0.4525501342175904}\n"
          ]
        }
      ]
    },
    {
      "cell_type": "code",
      "source": [
        "label_names = {0:\"negative\", 1:\"neutral\", 2:\"positive\"}"
      ],
      "metadata": {
        "id": "ArN1pECE_Swq"
      },
      "execution_count": null,
      "outputs": []
    },
    {
      "cell_type": "code",
      "source": [
        "from sklearn.pipeline import Pipeline\n",
        "from sklearn.feature_extraction.text import TfidfVectorizer\n",
        "from sklearn.svm import LinearSVC\n",
        "from sklearn.model_selection import StratifiedKFold, GridSearchCV\n",
        "from sklearn.metrics import classification_report\n",
        "import joblib\n",
        "\n",
        "svm_pipe = Pipeline([\n",
        "    (\"tfidf\", TfidfVectorizer(\n",
        "        ngram_range=(1,2),\n",
        "        min_df=2,\n",
        "        max_df=0.95,\n",
        "        sublinear_tf=True\n",
        "    )),\n",
        "   (\"clf\", LinearSVC(class_weight=class_weights))\n",
        "])\n",
        "\n",
        "param_grid = {\n",
        "    \"tfidf__min_df\": [2, 5],\n",
        "    \"tfidf__max_df\": [0.9, 0.95],\n",
        "    \"clf__C\": [0.25, 0.5, 1.0, 2.0]\n",
        "}\n",
        "\n",
        "cv = StratifiedKFold(n_splits=5, shuffle=True, random_state=RANDOM_SEED)\n",
        "grid = GridSearchCV(\n",
        "    svm_pipe, param_grid=param_grid, cv=cv, n_jobs=-1, verbose=1, scoring=\"f1_macro\"\n",
        ")\n",
        "grid.fit(train_df[TEXT_COL], train_df[LABEL_COL])\n",
        "\n",
        "print(\"Best params:\", grid.best_params_)\n",
        "best_svm = grid.best_estimator_\n",
        "pred_val = best_svm.predict(val_df[TEXT_COL])\n",
        "print(classification_report(val_df[LABEL_COL], pred_val, target_names=[label_names[i] for i in sorted(label_names)]))\n",
        "\n",
        "# test\n",
        "best_svm.fit(pd.concat([train_df[TEXT_COL], val_df[TEXT_COL]]),\n",
        "             pd.concat([train_df[LABEL_COL], val_df[LABEL_COL]]))\n",
        "pred_test = best_svm.predict(test_df[TEXT_COL])"
      ],
      "metadata": {
        "id": "AEIUlT9U6tcv",
        "colab": {
          "base_uri": "https://localhost:8080/"
        },
        "outputId": "4887e44a-966b-48e4-e5f7-5bb5cb371679"
      },
      "execution_count": null,
      "outputs": [
        {
          "output_type": "stream",
          "name": "stdout",
          "text": [
            "Fitting 5 folds for each of 16 candidates, totalling 80 fits\n",
            "Best params: {'clf__C': 0.25, 'tfidf__max_df': 0.9, 'tfidf__min_df': 5}\n",
            "              precision    recall  f1-score   support\n",
            "\n",
            "    negative       0.77      0.83      0.80       481\n",
            "     neutral       0.50      0.29      0.37       328\n",
            "    positive       0.92      0.96      0.94      2263\n",
            "\n",
            "    accuracy                           0.87      3072\n",
            "   macro avg       0.73      0.70      0.70      3072\n",
            "weighted avg       0.85      0.87      0.86      3072\n",
            "\n"
          ]
        }
      ]
    },
    {
      "cell_type": "code",
      "source": [
        "print(\"\\nTest\")\n",
        "print(\"Accuracy:\", accuracy_score(test_df[LABEL_COL], pred_test))\n",
        "print(\"Macro-F1:\", f1_score(test_df[LABEL_COL], pred_test, average=\"macro\"))\n",
        "print(classification_report(test_df[LABEL_COL], pred_test, target_names=[\"negative\",\"neutral\",\"positive\"]))"
      ],
      "metadata": {
        "colab": {
          "base_uri": "https://localhost:8080/"
        },
        "id": "fJQpgeZGAkuU",
        "outputId": "9556cfb6-5041-46dd-ea68-eea2e516f38d"
      },
      "execution_count": null,
      "outputs": [
        {
          "output_type": "stream",
          "name": "stdout",
          "text": [
            "\n",
            "Test\n",
            "Accuracy: 0.8658417453598176\n",
            "Macro-F1: 0.7006999380332714\n",
            "              precision    recall  f1-score   support\n",
            "\n",
            "    negative       0.77      0.82      0.79       482\n",
            "     neutral       0.50      0.29      0.37       327\n",
            "    positive       0.92      0.96      0.94      2262\n",
            "\n",
            "    accuracy                           0.87      3071\n",
            "   macro avg       0.73      0.69      0.70      3071\n",
            "weighted avg       0.85      0.87      0.85      3071\n",
            "\n"
          ]
        }
      ]
    },
    {
      "cell_type": "code",
      "source": [
        "cm = confusion_matrix(test_df[LABEL_COL], pred_test)\n",
        "print(\"Confusion matrix (test):\\n\", cm)"
      ],
      "metadata": {
        "colab": {
          "base_uri": "https://localhost:8080/"
        },
        "id": "d86MPeqEBDAz",
        "outputId": "c5346d82-ba9f-45d7-f475-07487e4caab4"
      },
      "execution_count": null,
      "outputs": [
        {
          "output_type": "stream",
          "name": "stdout",
          "text": [
            "Confusion matrix (test):\n",
            " [[ 397   35   50]\n",
            " [  84   96  147]\n",
            " [  36   60 2166]]\n"
          ]
        }
      ]
    },
    {
      "cell_type": "code",
      "source": [
        "# CM plot\n",
        "plt.figure(figsize=(5, 5))\n",
        "plt.imshow(cm, interpolation=\"nearest\", cmap=\"Blues\")\n",
        "plt.title(\"Confusion Matrix (Test) — Sentiment SVM\", fontsize=13)\n",
        "plt.xticks([0,1,2], [\"negative\",\"netural\",\"positive\"])\n",
        "plt.yticks([0,1,2], [\"negative\",\"netural\",\"positive\"])\n",
        "plt.xlabel(\"Predicted\")\n",
        "plt.ylabel(\"True\")\n",
        "\n",
        "for (i, j), v in np.ndenumerate(cm):\n",
        "    color = \"white\" if v > cm.max() / 2 else \"black\"\n",
        "    plt.text(j, i, str(v), ha=\"center\", va=\"center\", color=color, fontsize=13)\n",
        "\n",
        "plt.tight_layout()\n",
        "plt.show()\n"
      ],
      "metadata": {
        "colab": {
          "base_uri": "https://localhost:8080/",
          "height": 483
        },
        "id": "akQ1kAXoBaUr",
        "outputId": "efc6ae13-e4b4-479a-f5e4-b4872771321e"
      },
      "execution_count": null,
      "outputs": [
        {
          "output_type": "display_data",
          "data": {
            "text/plain": [
              "<Figure size 500x500 with 1 Axes>"
            ],
            "image/png": "[encoded data removed]"
          },
          "metadata": {}
        }
      ]
    },
    {
      "cell_type": "code",
      "source": [
        "# Save artifacts\n",
        "joblib.dump(best_svm, ARTIFACTS / \"svm_sentiment_pipeline.joblib\")\n",
        "joblib.dump({\"negative\":0, \"neutral\":1, \"positive\":2}, ARTIFACTS / \"label_map.joblib\")\n",
        "print(\"Saved model + label map to:\", ARTIFACTS.resolve())"
      ],
      "metadata": {
        "id": "5qg00mXm6lkr",
        "colab": {
          "base_uri": "https://localhost:8080/"
        },
        "outputId": "1c1c16d1-10e3-44fa-fda2-794287f4d93b"
      },
      "execution_count": null,
      "outputs": [
        {
          "output_type": "stream",
          "name": "stdout",
          "text": [
            "Saved model + label map to: /content/drive/MyDrive/Colab Notebooks/airbnb_nz_deception_sentiment/artifacts/sentiment_svm\n"
          ]
        }
      ]
    },
    {
      "cell_type": "code",
      "source": [
        "# Inference helper\n",
        "def predict_sentiment(texts, model_path=\"artifacts/sentiment_svm/svm_sentiment_pipeline.joblib\"):\n",
        "    model = joblib.load(model_path)\n",
        "    return model.predict(pd.Series(texts))  # returns numeric labels 0/1/2"
      ],
      "metadata": {
        "id": "KbIhKi8UDj7_"
      },
      "execution_count": null,
      "outputs": []
    },
    {
      "cell_type": "code",
      "source": [
        "texts = [\n",
        "    \"The place was amazing and the host was very friendly!\",\n",
        "    \"It was okay, not great but not terrible either.\",\n",
        "    \"Terrible experience — the room was dirty and noisy.\"\n",
        "]\n",
        "\n",
        "preds = predict_sentiment(texts)\n",
        "print(preds)"
      ],
      "metadata": {
        "colab": {
          "base_uri": "https://localhost:8080/"
        },
        "id": "FkBbMORzDkFI",
        "outputId": "2babf1a3-87c3-4d9c-9fa8-e9fdce8a7b09"
      },
      "execution_count": null,
      "outputs": [
        {
          "output_type": "stream",
          "name": "stdout",
          "text": [
            "[2 0 0]\n"
          ]
        }
      ]
    },
    {
      "cell_type": "code",
      "source": [
        "# model comparison for SVM (sentiment)\n",
        "\n",
        "from sklearn.metrics import accuracy_score, f1_score, precision_score, recall_score\n",
        "import pandas as pd\n",
        "\n",
        "# Evaluate SVM predictions on test set\n",
        "svm_results = {\n",
        "    \"Model\": \"SVM (TF–IDF)\",\n",
        "    \"Accuracy\": round(accuracy_score(test_df[LABEL_COL], pred_test), 2),\n",
        "    \"Macro-F1\": round(f1_score(test_df[LABEL_COL], pred_test, average=\"macro\"), 2),\n",
        "    \"Precision\": round(precision_score(test_df[LABEL_COL], pred_test, average=\"macro\"), 2),\n",
        "    \"Recall\": round(recall_score(test_df[LABEL_COL], pred_test, average=\"macro\"), 2)\n",
        "}\n",
        "\n",
        "# Create dataframe or append to file\n",
        "try:\n",
        "    df = pd.read_csv(\"figures/model_comparison_sentiment.csv\")\n",
        "except FileNotFoundError:\n",
        "    df = pd.DataFrame(columns=[\"Model\", \"Accuracy\", \"Macro-F1\", \"Precision\", \"Recall\"])\n",
        "\n",
        "df = pd.concat([df, pd.DataFrame([svm_results])], ignore_index=True)\n",
        "\n",
        "# Save updated comparison table\n",
        "df.to_csv(\"figures/model_comparison_sentiment.csv\", index=False)\n",
        "print(\"Added SVM results to model_comparison_sentiment.csv\")\n"
      ],
      "metadata": {
        "id": "Tb2UCCPNLrU_",
        "outputId": "95841f9e-a26e-4ee8-ce54-f4b512d5c89e",
        "colab": {
          "base_uri": "https://localhost:8080/"
        }
      },
      "execution_count": null,
      "outputs": [
        {
          "output_type": "stream",
          "name": "stdout",
          "text": [
            "Added SVM results to model_comparison_sentiment.csv\n"
          ]
        },
        {
          "output_type": "stream",
          "name": "stderr",
          "text": [
            "/tmp/ipython-input-56992710.py:21: FutureWarning: The behavior of DataFrame concatenation with empty or all-NA entries is deprecated. In a future version, this will no longer exclude empty or all-NA columns when determining the result dtypes. To retain the old behavior, exclude the relevant entries before the concat operation.\n",
            "  df = pd.concat([df, pd.DataFrame([svm_results])], ignore_index=True)\n"
          ]
        }
      ]
    }
  ]
}