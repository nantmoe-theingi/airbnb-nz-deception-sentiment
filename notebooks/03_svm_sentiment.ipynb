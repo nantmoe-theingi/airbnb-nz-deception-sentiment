{
  "nbformat": 4,
  "nbformat_minor": 0,
  "metadata": {
    "colab": {
      "provenance": [],
      "gpuType": "T4",
      "authorship_tag": "ABX9TyPJGLTD1NyCeLjwPQmTTTyS",
      "include_colab_link": true
    },
    "kernelspec": {
      "name": "python3",
      "display_name": "Python 3"
    },
    "language_info": {
      "name": "python"
    },
    "accelerator": "GPU"
  },
  "cells": [
    {
      "cell_type": "markdown",
      "metadata": {
        "id": "view-in-github",
        "colab_type": "text"
      },
      "source": [
        "<a href=\"https://colab.research.google.com/github/nantmoe-theingi/airbnb-nz-deception-sentiment/blob/main/notebooks/03_svm_sentiment.ipynb\" target=\"_parent\"><img src=\"https://colab.research.google.com/assets/colab-badge.svg\" alt=\"Open In Colab\"/></a>"
      ]
    },
    {
      "cell_type": "code",
      "source": [
        "PROJECT_DRIVE_DIR = \"/content/drive/MyDrive/Colab Notebooks/airbnb_nz_deception_sentiment\"\n",
        "\n",
        "from google.colab import drive\n",
        "drive.mount('/content/drive')\n",
        "\n",
        "import os\n",
        "os.makedirs(PROJECT_DRIVE_DIR, exist_ok=True)\n",
        "print(\"Drive project folder:\", PROJECT_DRIVE_DIR)"
      ],
      "metadata": {
        "colab": {
          "base_uri": "https://localhost:8080/"
        },
        "id": "AWTd4ytzjpb0",
        "outputId": "da3104da-4c24-4138-fb17-f529352ccb85"
      },
      "execution_count": 1,
      "outputs": [
        {
          "output_type": "stream",
          "name": "stdout",
          "text": [
            "Mounted at /content/drive\n",
            "Drive project folder: /content/drive/MyDrive/Colab Notebooks/airbnb_nz_deception_sentiment\n"
          ]
        }
      ]
    },
    {
      "cell_type": "code",
      "source": [
        "cd {PROJECT_DRIVE_DIR}"
      ],
      "metadata": {
        "colab": {
          "base_uri": "https://localhost:8080/"
        },
        "id": "h3SRtQVfjzUG",
        "outputId": "6967a005-f3c5-449a-90c4-6a4092f6a6a9"
      },
      "execution_count": 2,
      "outputs": [
        {
          "output_type": "stream",
          "name": "stdout",
          "text": [
            "/content/drive/MyDrive/Colab Notebooks/airbnb_nz_deception_sentiment\n"
          ]
        }
      ]
    },
    {
      "cell_type": "code",
      "execution_count": 3,
      "metadata": {
        "id": "ZFbuf0AoQipn",
        "colab": {
          "base_uri": "https://localhost:8080/",
          "height": 201
        },
        "outputId": "6d1ee0d4-8950-4908-e423-e80665033ede"
      },
      "outputs": [
        {
          "output_type": "execute_result",
          "data": {
            "text/plain": [
              "                                              Review  Rating\n",
              "0  nice hotel expensive parking got good deal sta...       4\n",
              "1  ok nothing special charge diamond member hilto...       2\n",
              "2  nice rooms not 4* experience hotel monaco seat...       3\n",
              "3  unique, great stay, wonderful time hotel monac...       5\n",
              "4  great stay great stay, went seahawk game aweso...       5"
            ],
            "text/html": [
              "\n",
              "  <div id=\"df-4b7c0162-d7d9-4202-ac4b-bdc88d1978da\" class=\"colab-df-container\">\n",
              "    <div>\n",
              "<style scoped>\n",
              "    .dataframe tbody tr th:only-of-type {\n",
              "        vertical-align: middle;\n",
              "    }\n",
              "\n",
              "    .dataframe tbody tr th {\n",
              "        vertical-align: top;\n",
              "    }\n",
              "\n",
              "    .dataframe thead th {\n",
              "        text-align: right;\n",
              "    }\n",
              "</style>\n",
              "<table border=\"1\" class=\"dataframe\">\n",
              "  <thead>\n",
              "    <tr style=\"text-align: right;\">\n",
              "      <th></th>\n",
              "      <th>Review</th>\n",
              "      <th>Rating</th>\n",
              "    </tr>\n",
              "  </thead>\n",
              "  <tbody>\n",
              "    <tr>\n",
              "      <th>0</th>\n",
              "      <td>nice hotel expensive parking got good deal sta...</td>\n",
              "      <td>4</td>\n",
              "    </tr>\n",
              "    <tr>\n",
              "      <th>1</th>\n",
              "      <td>ok nothing special charge diamond member hilto...</td>\n",
              "      <td>2</td>\n",
              "    </tr>\n",
              "    <tr>\n",
              "      <th>2</th>\n",
              "      <td>nice rooms not 4* experience hotel monaco seat...</td>\n",
              "      <td>3</td>\n",
              "    </tr>\n",
              "    <tr>\n",
              "      <th>3</th>\n",
              "      <td>unique, great stay, wonderful time hotel monac...</td>\n",
              "      <td>5</td>\n",
              "    </tr>\n",
              "    <tr>\n",
              "      <th>4</th>\n",
              "      <td>great stay great stay, went seahawk game aweso...</td>\n",
              "      <td>5</td>\n",
              "    </tr>\n",
              "  </tbody>\n",
              "</table>\n",
              "</div>\n",
              "    <div class=\"colab-df-buttons\">\n",
              "\n",
              "  <div class=\"colab-df-container\">\n",
              "    <button class=\"colab-df-convert\" onclick=\"convertToInteractive('df-4b7c0162-d7d9-4202-ac4b-bdc88d1978da')\"\n",
              "            title=\"Convert this dataframe to an interactive table.\"\n",
              "            style=\"display:none;\">\n",
              "\n",
              "  <svg xmlns=\"http://www.w3.org/2000/svg\" height=\"24px\" viewBox=\"0 -960 960 960\">\n",
              "    <path d=\"M120-120v-720h720v720H120Zm60-500h600v-160H180v160Zm220 220h160v-160H400v160Zm0 220h160v-160H400v160ZM180-400h160v-160H180v160Zm440 0h160v-160H620v160ZM180-180h160v-160H180v160Zm440 0h160v-160H620v160Z\"/>\n",
              "  </svg>\n",
              "    </button>\n",
              "\n",
              "  <style>\n",
              "    .colab-df-container {\n",
              "      display:flex;\n",
              "      gap: 12px;\n",
              "    }\n",
              "\n",
              "    .colab-df-convert {\n",
              "      background-color: #E8F0FE;\n",
              "      border: none;\n",
              "      border-radius: 50%;\n",
              "      cursor: pointer;\n",
              "      display: none;\n",
              "      fill: #1967D2;\n",
              "      height: 32px;\n",
              "      padding: 0 0 0 0;\n",
              "      width: 32px;\n",
              "    }\n",
              "\n",
              "    .colab-df-convert:hover {\n",
              "      background-color: #E2EBFA;\n",
              "      box-shadow: 0px 1px 2px rgba(60, 64, 67, 0.3), 0px 1px 3px 1px rgba(60, 64, 67, 0.15);\n",
              "      fill: #174EA6;\n",
              "    }\n",
              "\n",
              "    .colab-df-buttons div {\n",
              "      margin-bottom: 4px;\n",
              "    }\n",
              "\n",
              "    [theme=dark] .colab-df-convert {\n",
              "      background-color: #3B4455;\n",
              "      fill: #D2E3FC;\n",
              "    }\n",
              "\n",
              "    [theme=dark] .colab-df-convert:hover {\n",
              "      background-color: #434B5C;\n",
              "      box-shadow: 0px 1px 3px 1px rgba(0, 0, 0, 0.15);\n",
              "      filter: drop-shadow(0px 1px 2px rgba(0, 0, 0, 0.3));\n",
              "      fill: #FFFFFF;\n",
              "    }\n",
              "  </style>\n",
              "\n",
              "    <script>\n",
              "      const buttonEl =\n",
              "        document.querySelector('#df-4b7c0162-d7d9-4202-ac4b-bdc88d1978da button.colab-df-convert');\n",
              "      buttonEl.style.display =\n",
              "        google.colab.kernel.accessAllowed ? 'block' : 'none';\n",
              "\n",
              "      async function convertToInteractive(key) {\n",
              "        const element = document.querySelector('#df-4b7c0162-d7d9-4202-ac4b-bdc88d1978da');\n",
              "        const dataTable =\n",
              "          await google.colab.kernel.invokeFunction('convertToInteractive',\n",
              "                                                    [key], {});\n",
              "        if (!dataTable) return;\n",
              "\n",
              "        const docLinkHtml = 'Like what you see? Visit the ' +\n",
              "          '<a target=\"_blank\" href=https://colab.research.google.com/notebooks/data_table.ipynb>data table notebook</a>'\n",
              "          + ' to learn more about interactive tables.';\n",
              "        element.innerHTML = '';\n",
              "        dataTable['output_type'] = 'display_data';\n",
              "        await google.colab.output.renderOutput(dataTable, element);\n",
              "        const docLink = document.createElement('div');\n",
              "        docLink.innerHTML = docLinkHtml;\n",
              "        element.appendChild(docLink);\n",
              "      }\n",
              "    </script>\n",
              "  </div>\n",
              "\n",
              "\n",
              "    <div id=\"df-3b696f3c-4484-4fc2-9df4-69cb279a51be\">\n",
              "      <button class=\"colab-df-quickchart\" onclick=\"quickchart('df-3b696f3c-4484-4fc2-9df4-69cb279a51be')\"\n",
              "                title=\"Suggest charts\"\n",
              "                style=\"display:none;\">\n",
              "\n",
              "<svg xmlns=\"http://www.w3.org/2000/svg\" height=\"24px\"viewBox=\"0 0 24 24\"\n",
              "     width=\"24px\">\n",
              "    <g>\n",
              "        <path d=\"M19 3H5c-1.1 0-2 .9-2 2v14c0 1.1.9 2 2 2h14c1.1 0 2-.9 2-2V5c0-1.1-.9-2-2-2zM9 17H7v-7h2v7zm4 0h-2V7h2v10zm4 0h-2v-4h2v4z\"/>\n",
              "    </g>\n",
              "</svg>\n",
              "      </button>\n",
              "\n",
              "<style>\n",
              "  .colab-df-quickchart {\n",
              "      --bg-color: #E8F0FE;\n",
              "      --fill-color: #1967D2;\n",
              "      --hover-bg-color: #E2EBFA;\n",
              "      --hover-fill-color: #174EA6;\n",
              "      --disabled-fill-color: #AAA;\n",
              "      --disabled-bg-color: #DDD;\n",
              "  }\n",
              "\n",
              "  [theme=dark] .colab-df-quickchart {\n",
              "      --bg-color: #3B4455;\n",
              "      --fill-color: #D2E3FC;\n",
              "      --hover-bg-color: #434B5C;\n",
              "      --hover-fill-color: #FFFFFF;\n",
              "      --disabled-bg-color: #3B4455;\n",
              "      --disabled-fill-color: #666;\n",
              "  }\n",
              "\n",
              "  .colab-df-quickchart {\n",
              "    background-color: var(--bg-color);\n",
              "    border: none;\n",
              "    border-radius: 50%;\n",
              "    cursor: pointer;\n",
              "    display: none;\n",
              "    fill: var(--fill-color);\n",
              "    height: 32px;\n",
              "    padding: 0;\n",
              "    width: 32px;\n",
              "  }\n",
              "\n",
              "  .colab-df-quickchart:hover {\n",
              "    background-color: var(--hover-bg-color);\n",
              "    box-shadow: 0 1px 2px rgba(60, 64, 67, 0.3), 0 1px 3px 1px rgba(60, 64, 67, 0.15);\n",
              "    fill: var(--button-hover-fill-color);\n",
              "  }\n",
              "\n",
              "  .colab-df-quickchart-complete:disabled,\n",
              "  .colab-df-quickchart-complete:disabled:hover {\n",
              "    background-color: var(--disabled-bg-color);\n",
              "    fill: var(--disabled-fill-color);\n",
              "    box-shadow: none;\n",
              "  }\n",
              "\n",
              "  .colab-df-spinner {\n",
              "    border: 2px solid var(--fill-color);\n",
              "    border-color: transparent;\n",
              "    border-bottom-color: var(--fill-color);\n",
              "    animation:\n",
              "      spin 1s steps(1) infinite;\n",
              "  }\n",
              "\n",
              "  @keyframes spin {\n",
              "    0% {\n",
              "      border-color: transparent;\n",
              "      border-bottom-color: var(--fill-color);\n",
              "      border-left-color: var(--fill-color);\n",
              "    }\n",
              "    20% {\n",
              "      border-color: transparent;\n",
              "      border-left-color: var(--fill-color);\n",
              "      border-top-color: var(--fill-color);\n",
              "    }\n",
              "    30% {\n",
              "      border-color: transparent;\n",
              "      border-left-color: var(--fill-color);\n",
              "      border-top-color: var(--fill-color);\n",
              "      border-right-color: var(--fill-color);\n",
              "    }\n",
              "    40% {\n",
              "      border-color: transparent;\n",
              "      border-right-color: var(--fill-color);\n",
              "      border-top-color: var(--fill-color);\n",
              "    }\n",
              "    60% {\n",
              "      border-color: transparent;\n",
              "      border-right-color: var(--fill-color);\n",
              "    }\n",
              "    80% {\n",
              "      border-color: transparent;\n",
              "      border-right-color: var(--fill-color);\n",
              "      border-bottom-color: var(--fill-color);\n",
              "    }\n",
              "    90% {\n",
              "      border-color: transparent;\n",
              "      border-bottom-color: var(--fill-color);\n",
              "    }\n",
              "  }\n",
              "</style>\n",
              "\n",
              "      <script>\n",
              "        async function quickchart(key) {\n",
              "          const quickchartButtonEl =\n",
              "            document.querySelector('#' + key + ' button');\n",
              "          quickchartButtonEl.disabled = true;  // To prevent multiple clicks.\n",
              "          quickchartButtonEl.classList.add('colab-df-spinner');\n",
              "          try {\n",
              "            const charts = await google.colab.kernel.invokeFunction(\n",
              "                'suggestCharts', [key], {});\n",
              "          } catch (error) {\n",
              "            console.error('Error during call to suggestCharts:', error);\n",
              "          }\n",
              "          quickchartButtonEl.classList.remove('colab-df-spinner');\n",
              "          quickchartButtonEl.classList.add('colab-df-quickchart-complete');\n",
              "        }\n",
              "        (() => {\n",
              "          let quickchartButtonEl =\n",
              "            document.querySelector('#df-3b696f3c-4484-4fc2-9df4-69cb279a51be button');\n",
              "          quickchartButtonEl.style.display =\n",
              "            google.colab.kernel.accessAllowed ? 'block' : 'none';\n",
              "        })();\n",
              "      </script>\n",
              "    </div>\n",
              "\n",
              "    </div>\n",
              "  </div>\n"
            ],
            "application/vnd.google.colaboratory.intrinsic+json": {
              "type": "dataframe",
              "variable_name": "df",
              "summary": "{\n  \"name\": \"df\",\n  \"rows\": 20491,\n  \"fields\": [\n    {\n      \"column\": \"Review\",\n      \"properties\": {\n        \"dtype\": \"string\",\n        \"num_unique_values\": 20491,\n        \"samples\": [\n          \"not recommend hotel did reviewers actually stay hotel did, good thing hotel location really close leidseplein, shared facilities filthy got, did not look toilet floor cleaned month, facilities not cleaned 3 days got, disgusting, staff rude complained left night early refused refund night, not recommend hotel,  \",\n          \"barcelona rocks, stayed hotel jazz girlfriend 3 nights end august.the hotel excellent location carrer pelai, close placa catalunya ramblas appreciate buzz city removed respite mayhem crowds, caught airport bus barcelona costs 7 euros person return trip, hotel located 2 mins walk maximum placa universitat stop 2nd route, hotel modern clean, air conditioning room superb balcony looking street outside, room good size, bathroom fine scrimp bit toiletries, bring shower gels unless consider washing unnecessary luxury travels.the downside hotel possibly strengths depending viewpoint, hotel superbly situated 2 different metro stations extremely handy need city sights, downside feel rumbling trains hotel 3rd floor located, worse incessant sound taxi horns hotel mela times square nyc ca n't say disturbed consideration light sleepers irritation, couple shops hotel useful snacks drinks want avoid minibar prices, pool roof tiny n't recommend booking pretty nice place kill time particularly check day just wanted sit chill, n't expect able sit night, shuts fairly early.the hotel excellent 3 star property suggest prices pretty 4 star level, aside hotel tourist bus stopped directly opposite room recommend good way getting overview timer city want possible different areas, think used barcelona tours continuous loop alternative bus turistic 3 different loops involves changing bus round different areas.see gaudi, no fan architecture means, parc guell worth visit nice day n't mind walking uphill, sagrada familia outstanding, couple boat tours port harbour, personally bit underwhelming, save time money things.the nou camp tour worth visit no fan football, stadium amazing history club fascinating, plans redevelopment spectacle completed.ignore negative websites sprung make barcelona akin early days wild west, n't, just sensible major city, read ludicrous claims mark target muggers/pickpockets wore shorts/looked map/did n't speak spanish, rubbish, area ramblas felt safe, couple areas lower end raval little seedy late night just n't stupid fine, worst crime encountered charged 10 euros 2 heinekens irish bar just ramblas heard no-one eats restaurants 9 suffer lack atmosphere did, did n't appear strictly true concede 3 nights, tell restaurants open 8-8.30pm worth getting avoid queues, saturday night arrived restaurant 8.30 offered seat terrace opting window seat overlooking ramblas, 9 turning people away, 9.45 taken pick tables, burst activity 9 n't bad.enjoy,  \",\n          \"ok hotel good location stayed night way beijing rawa island, hotel service room ok. location great shopping restaurants, probably stay, opinion nice 3 star hotel,  \"\n        ],\n        \"semantic_type\": \"\",\n        \"description\": \"\"\n      }\n    },\n    {\n      \"column\": \"Rating\",\n      \"properties\": {\n        \"dtype\": \"number\",\n        \"std\": 1,\n        \"min\": 1,\n        \"max\": 5,\n        \"num_unique_values\": 5,\n        \"samples\": [\n          2,\n          1,\n          3\n        ],\n        \"semantic_type\": \"\",\n        \"description\": \"\"\n      }\n    }\n  ]\n}"
            }
          },
          "metadata": {},
          "execution_count": 3
        }
      ],
      "source": [
        "import pandas as pd\n",
        "import numpy as np\n",
        "import re\n",
        "\n",
        "# Load the data\n",
        "CSV = \"data/tripadvisor_hotel_reviews.csv\"\n",
        "df = pd.read_csv(CSV)\n",
        "df.head()"
      ]
    },
    {
      "cell_type": "code",
      "source": [
        "TEXT_COL = \"Review\"\n",
        "RATING_COL = \"Rating\"\n",
        "\n",
        "# === 2) Basic cleaning ===\n",
        "def norm_ws(s: pd.Series) -> pd.Series:\n",
        "    zws = r'[\\u200B-\\u200D\\uFEFF]'\n",
        "    s = s.astype(str).str.replace(zws, \"\", regex=True)\n",
        "    return s.str.replace(r\"\\s+\", \" \", regex=True).str.strip()\n",
        "\n",
        "df[TEXT_COL] = norm_ws(df[TEXT_COL])\n",
        "df[RATING_COL] = pd.to_numeric(df[RATING_COL], errors=\"coerce\")\n",
        "\n",
        "# Drop rows with missing text or rating\n",
        "before = len(df)\n",
        "df = df.dropna(subset=[TEXT_COL, RATING_COL]).copy()\n",
        "df = df.loc[df[TEXT_COL].str.len() > 0]\n",
        "print(f\"Removed {before - len(df):,} rows with missing/empty text or rating.\")\n"
      ],
      "metadata": {
        "colab": {
          "base_uri": "https://localhost:8080/"
        },
        "id": "5ZWPQL5XjKI0",
        "outputId": "cb832e5f-05c7-4df8-cf31-82ed8fb238a0"
      },
      "execution_count": 4,
      "outputs": [
        {
          "output_type": "stream",
          "name": "stdout",
          "text": [
            "Removed 0 rows with missing/empty text or rating.\n"
          ]
        }
      ]
    },
    {
      "cell_type": "code",
      "source": [
        "# Remove exact duplicate texts\n",
        "dup_texts = df.duplicated(subset=[TEXT_COL]).sum()\n",
        "df = df.drop_duplicates(subset=[TEXT_COL]).copy()\n",
        "print(f\"Removed {dup_texts:,} duplicate review texts.\")\n",
        "\n",
        "# remove symbol-only reviews\n",
        "import regex as re\n",
        "def is_symbol_only(x: str) -> bool:\n",
        "    return not bool(re.search(r\"\\p{L}\", x, flags=re.UNICODE))\n",
        "sym = df[TEXT_COL].apply(is_symbol_only).sum()\n",
        "df = df.loc[~df[TEXT_COL].apply(is_symbol_only)].copy()\n",
        "print(f\"Removed {sym:,} symbol-only reviews.\")"
      ],
      "metadata": {
        "id": "PcfxOgwZjKL8",
        "colab": {
          "base_uri": "https://localhost:8080/"
        },
        "outputId": "576da0ef-2ed4-4916-e924-8116cb79476f"
      },
      "execution_count": 5,
      "outputs": [
        {
          "output_type": "stream",
          "name": "stdout",
          "text": [
            "Removed 0 duplicate review texts.\n",
            "Removed 0 symbol-only reviews.\n"
          ]
        }
      ]
    },
    {
      "cell_type": "code",
      "source": [
        "# Map rating -> 3-class sentiment\n",
        "def map_sentiment(star: float) -> str:\n",
        "    if star <= 2:\n",
        "        return \"negative\"\n",
        "    elif star == 3:\n",
        "        return \"neutral\"\n",
        "    else:  # 4–5\n",
        "        return \"positive\"\n",
        "\n",
        "df[\"sentiment\"] = df[RATING_COL].apply(map_sentiment)\n",
        "\n",
        "# numeric y for models\n",
        "label_map = {\"negative\": 0, \"neutral\": 1, \"positive\": 2}\n",
        "df[\"y\"] = df[\"sentiment\"].map(label_map).astype(int)"
      ],
      "metadata": {
        "id": "5iLN2qu_htad"
      },
      "execution_count": 6,
      "outputs": []
    },
    {
      "cell_type": "code",
      "source": [
        "# EDA\n",
        "print(\"\\nClass distribution:\")\n",
        "print(df[\"sentiment\"].value_counts().sort_index())\n",
        "print(\"\\nClass distribution (%):\")\n",
        "print((df[\"sentiment\"].value_counts(normalize=True)*100).round(2).sort_index())\n",
        "\n",
        "df[\"length_words\"] = df[TEXT_COL].str.split().apply(len)\n",
        "print(\"\\nLength (words): mean=\", round(df[\"length_words\"].mean(),2),\n",
        "      \"min=\", df[\"length_words\"].min(), \"max=\", df[\"length_words\"].max())"
      ],
      "metadata": {
        "id": "plVf0N_ZhuDR",
        "colab": {
          "base_uri": "https://localhost:8080/"
        },
        "outputId": "fbe3a791-d47c-4c65-b6b3-d5f5c5a2f56f"
      },
      "execution_count": 7,
      "outputs": [
        {
          "output_type": "stream",
          "name": "stdout",
          "text": [
            "\n",
            "Class distribution:\n",
            "sentiment\n",
            "negative     3214\n",
            "neutral      2184\n",
            "positive    15093\n",
            "Name: count, dtype: int64\n",
            "\n",
            "Class distribution (%):\n",
            "sentiment\n",
            "negative    15.68\n",
            "neutral     10.66\n",
            "positive    73.66\n",
            "Name: proportion, dtype: float64\n",
            "\n",
            "Length (words): mean= 104.38 min= 7 max= 1931\n"
          ]
        }
      ]
    },
    {
      "cell_type": "code",
      "source": [
        "# Keep only that need for modeling and save cleaned file\n",
        "out = df[[TEXT_COL, \"sentiment\", \"y\"]].rename(columns={TEXT_COL: \"text\"})\n",
        "out.to_csv(\"data/tripadvisor_prepared_3class.csv\", index=False)\n",
        "print(\"\\nSaved: tripadvisor_prepared_3class.csv\")"
      ],
      "metadata": {
        "id": "h0l96PAxjKOi",
        "colab": {
          "base_uri": "https://localhost:8080/"
        },
        "outputId": "49c8491c-381a-4349-c86d-dffb7dfd7a0a"
      },
      "execution_count": 8,
      "outputs": [
        {
          "output_type": "stream",
          "name": "stdout",
          "text": [
            "\n",
            "Saved: tripadvisor_prepared_3class.csv\n"
          ]
        }
      ]
    },
    {
      "cell_type": "code",
      "source": [
        "# plotting\n",
        "order = [\"negative\", \"neutral\", \"positive\"]\n",
        "counts = df[\"sentiment\"].value_counts().reindex(order, fill_value=0)\n",
        "pct = (counts / counts.sum() * 100).round(2)\n",
        "print(\"Counts:\\n\", counts)\n",
        "print(\"\\nPercentages (%):\\n\", pct)\n",
        "\n",
        "# Plot\n",
        "plt.figure(figsize=(6,6))\n",
        "bars = plt.bar(counts.index, counts.values)\n",
        "plt.title(\"TripAdvisor Sentiment Distribution (3-class)\")\n",
        "plt.xlabel(\"Sentiment\")\n",
        "plt.ylabel(\"Number of Reviews\")\n",
        "\n",
        "# Add labels\n",
        "for b in bars:\n",
        "    y = b.get_height()\n",
        "    plt.text(b.get_x() + b.get_width()/2, y + max(counts.values)*0.01, f\"{int(y)}\", ha=\"center\", va=\"bottom\")\n",
        "\n",
        "plt.tight_layout()\n",
        "plt.savefig(\"figures/figure3_3_tripadvisor_sentiment_distribution.png\", dpi=300)\n",
        "plt.show()"
      ],
      "metadata": {
        "colab": {
          "base_uri": "https://localhost:8080/",
          "height": 821
        },
        "id": "1Js1vbxECNn1",
        "outputId": "b6721756-33d5-4d76-e6d6-9623856a2e42"
      },
      "execution_count": 24,
      "outputs": [
        {
          "output_type": "stream",
          "name": "stdout",
          "text": [
            "Counts:\n",
            " sentiment\n",
            "negative     3214\n",
            "neutral      2184\n",
            "positive    15093\n",
            "Name: count, dtype: int64\n",
            "\n",
            "Percentages (%):\n",
            " sentiment\n",
            "negative    15.68\n",
            "neutral     10.66\n",
            "positive    73.66\n",
            "Name: count, dtype: float64\n"
          ]
        },
        {
          "output_type": "display_data",
          "data": {
            "text/plain": [
              "<Figure size 600x600 with 1 Axes>"
            ],
            "image/png": "[encoded data removed]"
          },
          "metadata": {}
        }
      ]
    },
    {
      "cell_type": "code",
      "source": [
        "# 3-class sentiment: TF–IDF + LinearSVC\n",
        "import pandas as pd\n",
        "import numpy as np\n",
        "from pathlib import Path\n",
        "\n",
        "from sklearn.model_selection import train_test_split, StratifiedKFold, GridSearchCV\n",
        "from sklearn.feature_extraction.text import TfidfVectorizer\n",
        "from sklearn.pipeline import Pipeline\n",
        "from sklearn.svm import LinearSVC\n",
        "from sklearn.metrics import classification_report, confusion_matrix, accuracy_score, f1_score\n",
        "from sklearn.utils.class_weight import compute_class_weight\n",
        "import joblib\n",
        "import matplotlib.pyplot as plt"
      ],
      "metadata": {
        "id": "vC-N1M0tiuH_"
      },
      "execution_count": 9,
      "outputs": []
    },
    {
      "cell_type": "code",
      "source": [
        "RANDOM_STATE = 42\n",
        "ARTIFACTS = Path(\"artifacts/sentiment_svm\")\n",
        "ARTIFACTS.mkdir(parents=True, exist_ok=True)"
      ],
      "metadata": {
        "id": "9M59YCn2iuSK"
      },
      "execution_count": 10,
      "outputs": []
    },
    {
      "cell_type": "code",
      "source": [
        "# Load prepared file\n",
        "df_cleaned = pd.read_csv(\"data/tripadvisor_prepared_3class.csv\")\n",
        "\n",
        "LABEL_COL = \"y\"\n",
        "TEXT_COL  = \"text\""
      ],
      "metadata": {
        "id": "xYJaNJmViucD"
      },
      "execution_count": 11,
      "outputs": []
    },
    {
      "cell_type": "code",
      "source": [
        "RANDOM_SEED = 42\n",
        "train_df, test_df = train_test_split(\n",
        "    df_cleaned[[TEXT_COL, LABEL_COL]], test_size=0.15, random_state=RANDOM_SEED,\n",
        "    stratify=df[LABEL_COL]\n",
        ")\n",
        "train_df, val_df = train_test_split(\n",
        "    train_df, test_size=0.1765, random_state=RANDOM_SEED,  # ~15% of total\n",
        "    stratify=train_df[LABEL_COL]\n",
        ")"
      ],
      "metadata": {
        "id": "i8QgfMROo4j3"
      },
      "execution_count": 12,
      "outputs": []
    },
    {
      "cell_type": "code",
      "source": [
        "print(f\"Train={len(train_df)}, Val={len(val_df)}, Test={len(test_df)}\")"
      ],
      "metadata": {
        "colab": {
          "base_uri": "https://localhost:8080/"
        },
        "id": "StFjlEY06ulU",
        "outputId": "eb1f1e53-f999-4751-a63f-0cd9707d696b"
      },
      "execution_count": 13,
      "outputs": [
        {
          "output_type": "stream",
          "name": "stdout",
          "text": [
            "Train=14342, Val=3075, Test=3074\n"
          ]
        }
      ]
    },
    {
      "cell_type": "code",
      "source": [
        "import numpy as np\n",
        "from sklearn.utils.class_weight import compute_class_weight\n",
        "classes = np.array(sorted(train_df[LABEL_COL].unique()))\n",
        "class_weights = compute_class_weight(\"balanced\", classes=classes, y=train_df[LABEL_COL])\n",
        "class_weights = {int(c):float(w) for c,w in zip(classes, class_weights)}\n",
        "print(class_weights)"
      ],
      "metadata": {
        "colab": {
          "base_uri": "https://localhost:8080/"
        },
        "id": "oEYhM9Tb6kJj",
        "outputId": "7994eb3b-de9c-4407-d1cf-6d975e0e4afe"
      },
      "execution_count": 14,
      "outputs": [
        {
          "output_type": "stream",
          "name": "stdout",
          "text": [
            "{0: 2.124740740740741, 1: 3.1287085514834208, 2: 0.4525432285750347}\n"
          ]
        }
      ]
    },
    {
      "cell_type": "code",
      "source": [
        "label_names = {0:\"negative\", 1:\"neutral\", 2:\"positive\"}"
      ],
      "metadata": {
        "id": "ArN1pECE_Swq"
      },
      "execution_count": 16,
      "outputs": []
    },
    {
      "cell_type": "code",
      "source": [
        "from sklearn.pipeline import Pipeline\n",
        "from sklearn.feature_extraction.text import TfidfVectorizer\n",
        "from sklearn.svm import LinearSVC\n",
        "from sklearn.model_selection import StratifiedKFold, GridSearchCV\n",
        "from sklearn.metrics import classification_report\n",
        "import joblib\n",
        "\n",
        "svm_pipe = Pipeline([\n",
        "    (\"tfidf\", TfidfVectorizer(\n",
        "        ngram_range=(1,2),\n",
        "        min_df=2,\n",
        "        max_df=0.95,\n",
        "        sublinear_tf=True\n",
        "    )),\n",
        "   (\"clf\", LinearSVC(class_weight=class_weights))\n",
        "])\n",
        "\n",
        "param_grid = {\n",
        "    \"tfidf__min_df\": [2, 5],\n",
        "    \"tfidf__max_df\": [0.9, 0.95],\n",
        "    \"clf__C\": [0.25, 0.5, 1.0, 2.0]\n",
        "}\n",
        "\n",
        "cv = StratifiedKFold(n_splits=5, shuffle=True, random_state=RANDOM_SEED)\n",
        "grid = GridSearchCV(\n",
        "    svm_pipe, param_grid=param_grid, cv=cv, n_jobs=-1, verbose=1, scoring=\"f1_macro\"\n",
        ")\n",
        "grid.fit(train_df[TEXT_COL], train_df[LABEL_COL])\n",
        "\n",
        "print(\"Best params:\", grid.best_params_)\n",
        "best_svm = grid.best_estimator_\n",
        "pred_val = best_svm.predict(val_df[TEXT_COL])\n",
        "print(classification_report(val_df[LABEL_COL], pred_val, target_names=[label_names[i] for i in sorted(label_names)]))\n",
        "\n",
        "# test\n",
        "best_svm.fit(pd.concat([train_df[TEXT_COL], val_df[TEXT_COL]]),\n",
        "             pd.concat([train_df[LABEL_COL], val_df[LABEL_COL]]))\n",
        "pred_test = best_svm.predict(test_df[TEXT_COL])"
      ],
      "metadata": {
        "id": "AEIUlT9U6tcv",
        "colab": {
          "base_uri": "https://localhost:8080/"
        },
        "outputId": "6d57fbd1-93d0-43cb-886f-87f97c980486"
      },
      "execution_count": 17,
      "outputs": [
        {
          "output_type": "stream",
          "name": "stdout",
          "text": [
            "Fitting 5 folds for each of 16 candidates, totalling 80 fits\n",
            "Best params: {'clf__C': 0.5, 'tfidf__max_df': 0.9, 'tfidf__min_df': 5}\n",
            "              precision    recall  f1-score   support\n",
            "\n",
            "    negative       0.78      0.86      0.82       482\n",
            "     neutral       0.50      0.27      0.35       328\n",
            "    positive       0.92      0.96      0.94      2265\n",
            "\n",
            "    accuracy                           0.87      3075\n",
            "   macro avg       0.73      0.70      0.70      3075\n",
            "weighted avg       0.85      0.87      0.86      3075\n",
            "\n"
          ]
        }
      ]
    },
    {
      "cell_type": "code",
      "source": [
        "print(\"\\nTest\")\n",
        "print(\"Accuracy:\", accuracy_score(test_df[LABEL_COL], pred_test))\n",
        "print(\"Macro-F1:\", f1_score(test_df[LABEL_COL], pred_test, average=\"macro\"))\n",
        "print(classification_report(test_df[LABEL_COL], pred_test, target_names=[\"negative\",\"neutral\",\"positive\"]))"
      ],
      "metadata": {
        "colab": {
          "base_uri": "https://localhost:8080/"
        },
        "id": "fJQpgeZGAkuU",
        "outputId": "441e905c-de01-47ed-e8a4-fd614902128c"
      },
      "execution_count": 18,
      "outputs": [
        {
          "output_type": "stream",
          "name": "stdout",
          "text": [
            "\n",
            "Test\n",
            "Accuracy: 0.8659726740403383\n",
            "Macro-F1: 0.7029288522111433\n",
            "              precision    recall  f1-score   support\n",
            "\n",
            "    negative       0.78      0.83      0.80       482\n",
            "     neutral       0.48      0.30      0.37       328\n",
            "    positive       0.92      0.96      0.94      2264\n",
            "\n",
            "    accuracy                           0.87      3074\n",
            "   macro avg       0.73      0.69      0.70      3074\n",
            "weighted avg       0.85      0.87      0.86      3074\n",
            "\n"
          ]
        }
      ]
    },
    {
      "cell_type": "code",
      "source": [
        "cm = confusion_matrix(test_df[LABEL_COL], pred_test)\n",
        "print(\"Confusion matrix (test):\\n\", cm)"
      ],
      "metadata": {
        "colab": {
          "base_uri": "https://localhost:8080/"
        },
        "id": "d86MPeqEBDAz",
        "outputId": "5ad28ab5-3fd3-43b9-aa85-65a817f1f086"
      },
      "execution_count": 19,
      "outputs": [
        {
          "output_type": "stream",
          "name": "stdout",
          "text": [
            "Confusion matrix (test):\n",
            " [[ 399   46   37]\n",
            " [  73   98  157]\n",
            " [  38   61 2165]]\n"
          ]
        }
      ]
    },
    {
      "cell_type": "code",
      "source": [
        "# confusion-matrix plot\n",
        "plt.figure()\n",
        "plt.imshow(cm, interpolation=\"nearest\")\n",
        "plt.title(\"Confusion Matrix (Test)\")\n",
        "plt.xticks([0,1,2], [\"neg\",\"neu\",\"pos\"])\n",
        "plt.yticks([0,1,2], [\"neg\",\"neu\",\"pos\"])\n",
        "for (i,j),v in np.ndenumerate(cm):\n",
        "    plt.text(j, i, str(v), ha='center', va='center')\n",
        "plt.xlabel(\"Predicted\"); plt.ylabel(\"True\"); plt.tight_layout(); plt.show()"
      ],
      "metadata": {
        "colab": {
          "base_uri": "https://localhost:8080/",
          "height": 487
        },
        "id": "akQ1kAXoBaUr",
        "outputId": "7c576d33-89e3-4f8c-9510-9cf932da3672"
      },
      "execution_count": 20,
      "outputs": [
        {
          "output_type": "display_data",
          "data": {
            "text/plain": [
              "<Figure size 640x480 with 1 Axes>"
            ],
            "image/png": "[encoded data removed]"
          },
          "metadata": {}
        }
      ]
    },
    {
      "cell_type": "code",
      "source": [
        "# Save artifacts\n",
        "joblib.dump(best_svm, ARTIFACTS / \"svm_sentiment_pipeline.joblib\")\n",
        "joblib.dump({\"negative\":0, \"neutral\":1, \"positive\":2}, ARTIFACTS / \"label_map.joblib\")\n",
        "print(\"Saved model + label map to:\", ARTIFACTS.resolve())"
      ],
      "metadata": {
        "id": "5qg00mXm6lkr",
        "colab": {
          "base_uri": "https://localhost:8080/"
        },
        "outputId": "17b3a3d8-3e14-4a75-b18c-58537b58a979"
      },
      "execution_count": 22,
      "outputs": [
        {
          "output_type": "stream",
          "name": "stdout",
          "text": [
            "Saved model + label map to: /content/drive/MyDrive/Colab Notebooks/airbnb_nz_deception_sentiment/artifacts/sentiment_svm\n"
          ]
        }
      ]
    },
    {
      "cell_type": "code",
      "source": [
        "# Inference helper\n",
        "def predict_sentiment(texts, model_path=\"artifacts/sentiment_svm/svm_sentiment_pipeline.joblib\"):\n",
        "    model = joblib.load(model_path)\n",
        "    return model.predict(pd.Series(texts))  # returns numeric labels 0/1/2"
      ],
      "metadata": {
        "id": "KbIhKi8UDj7_"
      },
      "execution_count": 25,
      "outputs": []
    },
    {
      "cell_type": "code",
      "source": [
        "texts = [\n",
        "    \"The place was amazing and the host was very friendly!\",\n",
        "    \"It was okay, not great but not terrible either.\",\n",
        "    \"Terrible experience — the room was dirty and noisy.\"\n",
        "]\n",
        "\n",
        "preds = predict_sentiment(texts)\n",
        "print(preds)"
      ],
      "metadata": {
        "colab": {
          "base_uri": "https://localhost:8080/"
        },
        "id": "FkBbMORzDkFI",
        "outputId": "888524d8-943a-445e-a66c-614837335b8a"
      },
      "execution_count": 26,
      "outputs": [
        {
          "output_type": "stream",
          "name": "stdout",
          "text": [
            "[2 0 0]\n"
          ]
        }
      ]
    }
  ]
}