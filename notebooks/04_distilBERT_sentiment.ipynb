{
  "nbformat": 4,
  "nbformat_minor": 0,
  "metadata": {
    "colab": {
      "provenance": [],
      "gpuType": "T4",
      "include_colab_link": true
    },
    "kernelspec": {
      "name": "python3",
      "display_name": "Python 3"
    },
    "language_info": {
      "name": "python"
    },
    "accelerator": "GPU",
    "widgets": {
      "application/vnd.jupyter.widget-state+json": {
        "d3389ea2971e4508bb7b6d61d2e12dc1": {
          "model_module": "@jupyter-widgets/controls",
          "model_name": "HBoxModel",
          "model_module_version": "1.5.0",
          "state": {
            "_dom_classes": [],
            "_model_module": "@jupyter-widgets/controls",
            "_model_module_version": "1.5.0",
            "_model_name": "HBoxModel",
            "_view_count": null,
            "_view_module": "@jupyter-widgets/controls",
            "_view_module_version": "1.5.0",
            "_view_name": "HBoxView",
            "box_style": "",
            "children": [
              "IPY_MODEL_890f40558cb940aebf3dda6100625f87",
              "IPY_MODEL_c44783e00b2c43a9bc06b4d2efedfd65",
              "IPY_MODEL_eb59dd14b24c4f519f655aabc8a6b684"
            ],
            "layout": "IPY_MODEL_a552efaccfaf448f9e669cb3f38a45be"
          }
        },
        "890f40558cb940aebf3dda6100625f87": {
          "model_module": "@jupyter-widgets/controls",
          "model_name": "HTMLModel",
          "model_module_version": "1.5.0",
          "state": {
            "_dom_classes": [],
            "_model_module": "@jupyter-widgets/controls",
            "_model_module_version": "1.5.0",
            "_model_name": "HTMLModel",
            "_view_count": null,
            "_view_module": "@jupyter-widgets/controls",
            "_view_module_version": "1.5.0",
            "_view_name": "HTMLView",
            "description": "",
            "description_tooltip": null,
            "layout": "IPY_MODEL_369f943660ba4a82a70cfb6375fbb125",
            "placeholder": "​",
            "style": "IPY_MODEL_c067ef92ab7a4edd894198df5f9a952e",
            "value": "Map: 100%"
          }
        },
        "c44783e00b2c43a9bc06b4d2efedfd65": {
          "model_module": "@jupyter-widgets/controls",
          "model_name": "FloatProgressModel",
          "model_module_version": "1.5.0",
          "state": {
            "_dom_classes": [],
            "_model_module": "@jupyter-widgets/controls",
            "_model_module_version": "1.5.0",
            "_model_name": "FloatProgressModel",
            "_view_count": null,
            "_view_module": "@jupyter-widgets/controls",
            "_view_module_version": "1.5.0",
            "_view_name": "ProgressView",
            "bar_style": "success",
            "description": "",
            "description_tooltip": null,
            "layout": "IPY_MODEL_d5f8d8635c8646b6babf9ffaef03a7f1",
            "max": 14331,
            "min": 0,
            "orientation": "horizontal",
            "style": "IPY_MODEL_301422344f274296becc3a6b8bab1f44",
            "value": 14331
          }
        },
        "eb59dd14b24c4f519f655aabc8a6b684": {
          "model_module": "@jupyter-widgets/controls",
          "model_name": "HTMLModel",
          "model_module_version": "1.5.0",
          "state": {
            "_dom_classes": [],
            "_model_module": "@jupyter-widgets/controls",
            "_model_module_version": "1.5.0",
            "_model_name": "HTMLModel",
            "_view_count": null,
            "_view_module": "@jupyter-widgets/controls",
            "_view_module_version": "1.5.0",
            "_view_name": "HTMLView",
            "description": "",
            "description_tooltip": null,
            "layout": "IPY_MODEL_4d688b37b0ca4892a20c1aa9d7340034",
            "placeholder": "​",
            "style": "IPY_MODEL_e25656fd6d694046a45c8676972fe98f",
            "value": " 14331/14331 [00:11&lt;00:00, 1359.93 examples/s]"
          }
        },
        "a552efaccfaf448f9e669cb3f38a45be": {
          "model_module": "@jupyter-widgets/base",
          "model_name": "LayoutModel",
          "model_module_version": "1.2.0",
          "state": {
            "_model_module": "@jupyter-widgets/base",
            "_model_module_version": "1.2.0",
            "_model_name": "LayoutModel",
            "_view_count": null,
            "_view_module": "@jupyter-widgets/base",
            "_view_module_version": "1.2.0",
            "_view_name": "LayoutView",
            "align_content": null,
            "align_items": null,
            "align_self": null,
            "border": null,
            "bottom": null,
            "display": null,
            "flex": null,
            "flex_flow": null,
            "grid_area": null,
            "grid_auto_columns": null,
            "grid_auto_flow": null,
            "grid_auto_rows": null,
            "grid_column": null,
            "grid_gap": null,
            "grid_row": null,
            "grid_template_areas": null,
            "grid_template_columns": null,
            "grid_template_rows": null,
            "height": null,
            "justify_content": null,
            "justify_items": null,
            "left": null,
            "margin": null,
            "max_height": null,
            "max_width": null,
            "min_height": null,
            "min_width": null,
            "object_fit": null,
            "object_position": null,
            "order": null,
            "overflow": null,
            "overflow_x": null,
            "overflow_y": null,
            "padding": null,
            "right": null,
            "top": null,
            "visibility": null,
            "width": null
          }
        },
        "369f943660ba4a82a70cfb6375fbb125": {
          "model_module": "@jupyter-widgets/base",
          "model_name": "LayoutModel",
          "model_module_version": "1.2.0",
          "state": {
            "_model_module": "@jupyter-widgets/base",
            "_model_module_version": "1.2.0",
            "_model_name": "LayoutModel",
            "_view_count": null,
            "_view_module": "@jupyter-widgets/base",
            "_view_module_version": "1.2.0",
            "_view_name": "LayoutView",
            "align_content": null,
            "align_items": null,
            "align_self": null,
            "border": null,
            "bottom": null,
            "display": null,
            "flex": null,
            "flex_flow": null,
            "grid_area": null,
            "grid_auto_columns": null,
            "grid_auto_flow": null,
            "grid_auto_rows": null,
            "grid_column": null,
            "grid_gap": null,
            "grid_row": null,
            "grid_template_areas": null,
            "grid_template_columns": null,
            "grid_template_rows": null,
            "height": null,
            "justify_content": null,
            "justify_items": null,
            "left": null,
            "margin": null,
            "max_height": null,
            "max_width": null,
            "min_height": null,
            "min_width": null,
            "object_fit": null,
            "object_position": null,
            "order": null,
            "overflow": null,
            "overflow_x": null,
            "overflow_y": null,
            "padding": null,
            "right": null,
            "top": null,
            "visibility": null,
            "width": null
          }
        },
        "c067ef92ab7a4edd894198df5f9a952e": {
          "model_module": "@jupyter-widgets/controls",
          "model_name": "DescriptionStyleModel",
          "model_module_version": "1.5.0",
          "state": {
            "_model_module": "@jupyter-widgets/controls",
            "_model_module_version": "1.5.0",
            "_model_name": "DescriptionStyleModel",
            "_view_count": null,
            "_view_module": "@jupyter-widgets/base",
            "_view_module_version": "1.2.0",
            "_view_name": "StyleView",
            "description_width": ""
          }
        },
        "d5f8d8635c8646b6babf9ffaef03a7f1": {
          "model_module": "@jupyter-widgets/base",
          "model_name": "LayoutModel",
          "model_module_version": "1.2.0",
          "state": {
            "_model_module": "@jupyter-widgets/base",
            "_model_module_version": "1.2.0",
            "_model_name": "LayoutModel",
            "_view_count": null,
            "_view_module": "@jupyter-widgets/base",
            "_view_module_version": "1.2.0",
            "_view_name": "LayoutView",
            "align_content": null,
            "align_items": null,
            "align_self": null,
            "border": null,
            "bottom": null,
            "display": null,
            "flex": null,
            "flex_flow": null,
            "grid_area": null,
            "grid_auto_columns": null,
            "grid_auto_flow": null,
            "grid_auto_rows": null,
            "grid_column": null,
            "grid_gap": null,
            "grid_row": null,
            "grid_template_areas": null,
            "grid_template_columns": null,
            "grid_template_rows": null,
            "height": null,
            "justify_content": null,
            "justify_items": null,
            "left": null,
            "margin": null,
            "max_height": null,
            "max_width": null,
            "min_height": null,
            "min_width": null,
            "object_fit": null,
            "object_position": null,
            "order": null,
            "overflow": null,
            "overflow_x": null,
            "overflow_y": null,
            "padding": null,
            "right": null,
            "top": null,
            "visibility": null,
            "width": null
          }
        },
        "301422344f274296becc3a6b8bab1f44": {
          "model_module": "@jupyter-widgets/controls",
          "model_name": "ProgressStyleModel",
          "model_module_version": "1.5.0",
          "state": {
            "_model_module": "@jupyter-widgets/controls",
            "_model_module_version": "1.5.0",
            "_model_name": "ProgressStyleModel",
            "_view_count": null,
            "_view_module": "@jupyter-widgets/base",
            "_view_module_version": "1.2.0",
            "_view_name": "StyleView",
            "bar_color": null,
            "description_width": ""
          }
        },
        "4d688b37b0ca4892a20c1aa9d7340034": {
          "model_module": "@jupyter-widgets/base",
          "model_name": "LayoutModel",
          "model_module_version": "1.2.0",
          "state": {
            "_model_module": "@jupyter-widgets/base",
            "_model_module_version": "1.2.0",
            "_model_name": "LayoutModel",
            "_view_count": null,
            "_view_module": "@jupyter-widgets/base",
            "_view_module_version": "1.2.0",
            "_view_name": "LayoutView",
            "align_content": null,
            "align_items": null,
            "align_self": null,
            "border": null,
            "bottom": null,
            "display": null,
            "flex": null,
            "flex_flow": null,
            "grid_area": null,
            "grid_auto_columns": null,
            "grid_auto_flow": null,
            "grid_auto_rows": null,
            "grid_column": null,
            "grid_gap": null,
            "grid_row": null,
            "grid_template_areas": null,
            "grid_template_columns": null,
            "grid_template_rows": null,
            "height": null,
            "justify_content": null,
            "justify_items": null,
            "left": null,
            "margin": null,
            "max_height": null,
            "max_width": null,
            "min_height": null,
            "min_width": null,
            "object_fit": null,
            "object_position": null,
            "order": null,
            "overflow": null,
            "overflow_x": null,
            "overflow_y": null,
            "padding": null,
            "right": null,
            "top": null,
            "visibility": null,
            "width": null
          }
        },
        "e25656fd6d694046a45c8676972fe98f": {
          "model_module": "@jupyter-widgets/controls",
          "model_name": "DescriptionStyleModel",
          "model_module_version": "1.5.0",
          "state": {
            "_model_module": "@jupyter-widgets/controls",
            "_model_module_version": "1.5.0",
            "_model_name": "DescriptionStyleModel",
            "_view_count": null,
            "_view_module": "@jupyter-widgets/base",
            "_view_module_version": "1.2.0",
            "_view_name": "StyleView",
            "description_width": ""
          }
        },
        "aed22640e58648299b0df5a6da8c2c96": {
          "model_module": "@jupyter-widgets/controls",
          "model_name": "HBoxModel",
          "model_module_version": "1.5.0",
          "state": {
            "_dom_classes": [],
            "_model_module": "@jupyter-widgets/controls",
            "_model_module_version": "1.5.0",
            "_model_name": "HBoxModel",
            "_view_count": null,
            "_view_module": "@jupyter-widgets/controls",
            "_view_module_version": "1.5.0",
            "_view_name": "HBoxView",
            "box_style": "",
            "children": [
              "IPY_MODEL_60c513df1f5446b78efb3ef4c3833ccc",
              "IPY_MODEL_3e86d0d5c75f4aebbfec956f48b9c6f0",
              "IPY_MODEL_f8bb902f16a746b1ad222cf312222dd7"
            ],
            "layout": "IPY_MODEL_f07975de3a994b548ef2aa61c7d1e850"
          }
        },
        "60c513df1f5446b78efb3ef4c3833ccc": {
          "model_module": "@jupyter-widgets/controls",
          "model_name": "HTMLModel",
          "model_module_version": "1.5.0",
          "state": {
            "_dom_classes": [],
            "_model_module": "@jupyter-widgets/controls",
            "_model_module_version": "1.5.0",
            "_model_name": "HTMLModel",
            "_view_count": null,
            "_view_module": "@jupyter-widgets/controls",
            "_view_module_version": "1.5.0",
            "_view_name": "HTMLView",
            "description": "",
            "description_tooltip": null,
            "layout": "IPY_MODEL_f4f3740f8c5f457dae7741f8711c77c8",
            "placeholder": "​",
            "style": "IPY_MODEL_be6c8a13c7ce4cb08f44e6e706f5c4ab",
            "value": "Map: 100%"
          }
        },
        "3e86d0d5c75f4aebbfec956f48b9c6f0": {
          "model_module": "@jupyter-widgets/controls",
          "model_name": "FloatProgressModel",
          "model_module_version": "1.5.0",
          "state": {
            "_dom_classes": [],
            "_model_module": "@jupyter-widgets/controls",
            "_model_module_version": "1.5.0",
            "_model_name": "FloatProgressModel",
            "_view_count": null,
            "_view_module": "@jupyter-widgets/controls",
            "_view_module_version": "1.5.0",
            "_view_name": "ProgressView",
            "bar_style": "success",
            "description": "",
            "description_tooltip": null,
            "layout": "IPY_MODEL_5fbda0d323c041ce9b35bf30b47d9deb",
            "max": 3071,
            "min": 0,
            "orientation": "horizontal",
            "style": "IPY_MODEL_ea0bb48ce7c345119ef532322a92b52b",
            "value": 3071
          }
        },
        "f8bb902f16a746b1ad222cf312222dd7": {
          "model_module": "@jupyter-widgets/controls",
          "model_name": "HTMLModel",
          "model_module_version": "1.5.0",
          "state": {
            "_dom_classes": [],
            "_model_module": "@jupyter-widgets/controls",
            "_model_module_version": "1.5.0",
            "_model_name": "HTMLModel",
            "_view_count": null,
            "_view_module": "@jupyter-widgets/controls",
            "_view_module_version": "1.5.0",
            "_view_name": "HTMLView",
            "description": "",
            "description_tooltip": null,
            "layout": "IPY_MODEL_5c53228d1ae64961a84b206ef875ec67",
            "placeholder": "​",
            "style": "IPY_MODEL_6df462ed5e7f41b7a1cd4b902102bc21",
            "value": " 3071/3071 [00:02&lt;00:00, 1246.95 examples/s]"
          }
        },
        "f07975de3a994b548ef2aa61c7d1e850": {
          "model_module": "@jupyter-widgets/base",
          "model_name": "LayoutModel",
          "model_module_version": "1.2.0",
          "state": {
            "_model_module": "@jupyter-widgets/base",
            "_model_module_version": "1.2.0",
            "_model_name": "LayoutModel",
            "_view_count": null,
            "_view_module": "@jupyter-widgets/base",
            "_view_module_version": "1.2.0",
            "_view_name": "LayoutView",
            "align_content": null,
            "align_items": null,
            "align_self": null,
            "border": null,
            "bottom": null,
            "display": null,
            "flex": null,
            "flex_flow": null,
            "grid_area": null,
            "grid_auto_columns": null,
            "grid_auto_flow": null,
            "grid_auto_rows": null,
            "grid_column": null,
            "grid_gap": null,
            "grid_row": null,
            "grid_template_areas": null,
            "grid_template_columns": null,
            "grid_template_rows": null,
            "height": null,
            "justify_content": null,
            "justify_items": null,
            "left": null,
            "margin": null,
            "max_height": null,
            "max_width": null,
            "min_height": null,
            "min_width": null,
            "object_fit": null,
            "object_position": null,
            "order": null,
            "overflow": null,
            "overflow_x": null,
            "overflow_y": null,
            "padding": null,
            "right": null,
            "top": null,
            "visibility": null,
            "width": null
          }
        },
        "f4f3740f8c5f457dae7741f8711c77c8": {
          "model_module": "@jupyter-widgets/base",
          "model_name": "LayoutModel",
          "model_module_version": "1.2.0",
          "state": {
            "_model_module": "@jupyter-widgets/base",
            "_model_module_version": "1.2.0",
            "_model_name": "LayoutModel",
            "_view_count": null,
            "_view_module": "@jupyter-widgets/base",
            "_view_module_version": "1.2.0",
            "_view_name": "LayoutView",
            "align_content": null,
            "align_items": null,
            "align_self": null,
            "border": null,
            "bottom": null,
            "display": null,
            "flex": null,
            "flex_flow": null,
            "grid_area": null,
            "grid_auto_columns": null,
            "grid_auto_flow": null,
            "grid_auto_rows": null,
            "grid_column": null,
            "grid_gap": null,
            "grid_row": null,
            "grid_template_areas": null,
            "grid_template_columns": null,
            "grid_template_rows": null,
            "height": null,
            "justify_content": null,
            "justify_items": null,
            "left": null,
            "margin": null,
            "max_height": null,
            "max_width": null,
            "min_height": null,
            "min_width": null,
            "object_fit": null,
            "object_position": null,
            "order": null,
            "overflow": null,
            "overflow_x": null,
            "overflow_y": null,
            "padding": null,
            "right": null,
            "top": null,
            "visibility": null,
            "width": null
          }
        },
        "be6c8a13c7ce4cb08f44e6e706f5c4ab": {
          "model_module": "@jupyter-widgets/controls",
          "model_name": "DescriptionStyleModel",
          "model_module_version": "1.5.0",
          "state": {
            "_model_module": "@jupyter-widgets/controls",
            "_model_module_version": "1.5.0",
            "_model_name": "DescriptionStyleModel",
            "_view_count": null,
            "_view_module": "@jupyter-widgets/base",
            "_view_module_version": "1.2.0",
            "_view_name": "StyleView",
            "description_width": ""
          }
        },
        "5fbda0d323c041ce9b35bf30b47d9deb": {
          "model_module": "@jupyter-widgets/base",
          "model_name": "LayoutModel",
          "model_module_version": "1.2.0",
          "state": {
            "_model_module": "@jupyter-widgets/base",
            "_model_module_version": "1.2.0",
            "_model_name": "LayoutModel",
            "_view_count": null,
            "_view_module": "@jupyter-widgets/base",
            "_view_module_version": "1.2.0",
            "_view_name": "LayoutView",
            "align_content": null,
            "align_items": null,
            "align_self": null,
            "border": null,
            "bottom": null,
            "display": null,
            "flex": null,
            "flex_flow": null,
            "grid_area": null,
            "grid_auto_columns": null,
            "grid_auto_flow": null,
            "grid_auto_rows": null,
            "grid_column": null,
            "grid_gap": null,
            "grid_row": null,
            "grid_template_areas": null,
            "grid_template_columns": null,
            "grid_template_rows": null,
            "height": null,
            "justify_content": null,
            "justify_items": null,
            "left": null,
            "margin": null,
            "max_height": null,
            "max_width": null,
            "min_height": null,
            "min_width": null,
            "object_fit": null,
            "object_position": null,
            "order": null,
            "overflow": null,
            "overflow_x": null,
            "overflow_y": null,
            "padding": null,
            "right": null,
            "top": null,
            "visibility": null,
            "width": null
          }
        },
        "ea0bb48ce7c345119ef532322a92b52b": {
          "model_module": "@jupyter-widgets/controls",
          "model_name": "ProgressStyleModel",
          "model_module_version": "1.5.0",
          "state": {
            "_model_module": "@jupyter-widgets/controls",
            "_model_module_version": "1.5.0",
            "_model_name": "ProgressStyleModel",
            "_view_count": null,
            "_view_module": "@jupyter-widgets/base",
            "_view_module_version": "1.2.0",
            "_view_name": "StyleView",
            "bar_color": null,
            "description_width": ""
          }
        },
        "5c53228d1ae64961a84b206ef875ec67": {
          "model_module": "@jupyter-widgets/base",
          "model_name": "LayoutModel",
          "model_module_version": "1.2.0",
          "state": {
            "_model_module": "@jupyter-widgets/base",
            "_model_module_version": "1.2.0",
            "_model_name": "LayoutModel",
            "_view_count": null,
            "_view_module": "@jupyter-widgets/base",
            "_view_module_version": "1.2.0",
            "_view_name": "LayoutView",
            "align_content": null,
            "align_items": null,
            "align_self": null,
            "border": null,
            "bottom": null,
            "display": null,
            "flex": null,
            "flex_flow": null,
            "grid_area": null,
            "grid_auto_columns": null,
            "grid_auto_flow": null,
            "grid_auto_rows": null,
            "grid_column": null,
            "grid_gap": null,
            "grid_row": null,
            "grid_template_areas": null,
            "grid_template_columns": null,
            "grid_template_rows": null,
            "height": null,
            "justify_content": null,
            "justify_items": null,
            "left": null,
            "margin": null,
            "max_height": null,
            "max_width": null,
            "min_height": null,
            "min_width": null,
            "object_fit": null,
            "object_position": null,
            "order": null,
            "overflow": null,
            "overflow_x": null,
            "overflow_y": null,
            "padding": null,
            "right": null,
            "top": null,
            "visibility": null,
            "width": null
          }
        },
        "6df462ed5e7f41b7a1cd4b902102bc21": {
          "model_module": "@jupyter-widgets/controls",
          "model_name": "DescriptionStyleModel",
          "model_module_version": "1.5.0",
          "state": {
            "_model_module": "@jupyter-widgets/controls",
            "_model_module_version": "1.5.0",
            "_model_name": "DescriptionStyleModel",
            "_view_count": null,
            "_view_module": "@jupyter-widgets/base",
            "_view_module_version": "1.2.0",
            "_view_name": "StyleView",
            "description_width": ""
          }
        },
        "4a8b7d5990f3427d8562c9a8ed53d09e": {
          "model_module": "@jupyter-widgets/controls",
          "model_name": "HBoxModel",
          "model_module_version": "1.5.0",
          "state": {
            "_dom_classes": [],
            "_model_module": "@jupyter-widgets/controls",
            "_model_module_version": "1.5.0",
            "_model_name": "HBoxModel",
            "_view_count": null,
            "_view_module": "@jupyter-widgets/controls",
            "_view_module_version": "1.5.0",
            "_view_name": "HBoxView",
            "box_style": "",
            "children": [
              "IPY_MODEL_e095fde739fe4e79902cb5ae273893ff",
              "IPY_MODEL_4971797611ca477ca394d5be5678777e",
              "IPY_MODEL_3162bf231f5d42db9418ba500eda1a9b"
            ],
            "layout": "IPY_MODEL_7a3969b760294dc68015d32d19bb5cb4"
          }
        },
        "e095fde739fe4e79902cb5ae273893ff": {
          "model_module": "@jupyter-widgets/controls",
          "model_name": "HTMLModel",
          "model_module_version": "1.5.0",
          "state": {
            "_dom_classes": [],
            "_model_module": "@jupyter-widgets/controls",
            "_model_module_version": "1.5.0",
            "_model_name": "HTMLModel",
            "_view_count": null,
            "_view_module": "@jupyter-widgets/controls",
            "_view_module_version": "1.5.0",
            "_view_name": "HTMLView",
            "description": "",
            "description_tooltip": null,
            "layout": "IPY_MODEL_4b7e8cb45d6f4f898be22e3d5af245e6",
            "placeholder": "​",
            "style": "IPY_MODEL_b1e926cf5067400dbba24742ffe94f36",
            "value": "Map: 100%"
          }
        },
        "4971797611ca477ca394d5be5678777e": {
          "model_module": "@jupyter-widgets/controls",
          "model_name": "FloatProgressModel",
          "model_module_version": "1.5.0",
          "state": {
            "_dom_classes": [],
            "_model_module": "@jupyter-widgets/controls",
            "_model_module_version": "1.5.0",
            "_model_name": "FloatProgressModel",
            "_view_count": null,
            "_view_module": "@jupyter-widgets/controls",
            "_view_module_version": "1.5.0",
            "_view_name": "ProgressView",
            "bar_style": "success",
            "description": "",
            "description_tooltip": null,
            "layout": "IPY_MODEL_b801e01429fb4f068aa3d21fce2083f3",
            "max": 3071,
            "min": 0,
            "orientation": "horizontal",
            "style": "IPY_MODEL_c5cf2ffea86648dbb16f317a3a893af5",
            "value": 3071
          }
        },
        "3162bf231f5d42db9418ba500eda1a9b": {
          "model_module": "@jupyter-widgets/controls",
          "model_name": "HTMLModel",
          "model_module_version": "1.5.0",
          "state": {
            "_dom_classes": [],
            "_model_module": "@jupyter-widgets/controls",
            "_model_module_version": "1.5.0",
            "_model_name": "HTMLModel",
            "_view_count": null,
            "_view_module": "@jupyter-widgets/controls",
            "_view_module_version": "1.5.0",
            "_view_name": "HTMLView",
            "description": "",
            "description_tooltip": null,
            "layout": "IPY_MODEL_35fbc7fc3c884987b3e17901782b45e6",
            "placeholder": "​",
            "style": "IPY_MODEL_f580e14b17e145ba959838d13340e6f7",
            "value": " 3071/3071 [00:02&lt;00:00, 1319.12 examples/s]"
          }
        },
        "7a3969b760294dc68015d32d19bb5cb4": {
          "model_module": "@jupyter-widgets/base",
          "model_name": "LayoutModel",
          "model_module_version": "1.2.0",
          "state": {
            "_model_module": "@jupyter-widgets/base",
            "_model_module_version": "1.2.0",
            "_model_name": "LayoutModel",
            "_view_count": null,
            "_view_module": "@jupyter-widgets/base",
            "_view_module_version": "1.2.0",
            "_view_name": "LayoutView",
            "align_content": null,
            "align_items": null,
            "align_self": null,
            "border": null,
            "bottom": null,
            "display": null,
            "flex": null,
            "flex_flow": null,
            "grid_area": null,
            "grid_auto_columns": null,
            "grid_auto_flow": null,
            "grid_auto_rows": null,
            "grid_column": null,
            "grid_gap": null,
            "grid_row": null,
            "grid_template_areas": null,
            "grid_template_columns": null,
            "grid_template_rows": null,
            "height": null,
            "justify_content": null,
            "justify_items": null,
            "left": null,
            "margin": null,
            "max_height": null,
            "max_width": null,
            "min_height": null,
            "min_width": null,
            "object_fit": null,
            "object_position": null,
            "order": null,
            "overflow": null,
            "overflow_x": null,
            "overflow_y": null,
            "padding": null,
            "right": null,
            "top": null,
            "visibility": null,
            "width": null
          }
        },
        "4b7e8cb45d6f4f898be22e3d5af245e6": {
          "model_module": "@jupyter-widgets/base",
          "model_name": "LayoutModel",
          "model_module_version": "1.2.0",
          "state": {
            "_model_module": "@jupyter-widgets/base",
            "_model_module_version": "1.2.0",
            "_model_name": "LayoutModel",
            "_view_count": null,
            "_view_module": "@jupyter-widgets/base",
            "_view_module_version": "1.2.0",
            "_view_name": "LayoutView",
            "align_content": null,
            "align_items": null,
            "align_self": null,
            "border": null,
            "bottom": null,
            "display": null,
            "flex": null,
            "flex_flow": null,
            "grid_area": null,
            "grid_auto_columns": null,
            "grid_auto_flow": null,
            "grid_auto_rows": null,
            "grid_column": null,
            "grid_gap": null,
            "grid_row": null,
            "grid_template_areas": null,
            "grid_template_columns": null,
            "grid_template_rows": null,
            "height": null,
            "justify_content": null,
            "justify_items": null,
            "left": null,
            "margin": null,
            "max_height": null,
            "max_width": null,
            "min_height": null,
            "min_width": null,
            "object_fit": null,
            "object_position": null,
            "order": null,
            "overflow": null,
            "overflow_x": null,
            "overflow_y": null,
            "padding": null,
            "right": null,
            "top": null,
            "visibility": null,
            "width": null
          }
        },
        "b1e926cf5067400dbba24742ffe94f36": {
          "model_module": "@jupyter-widgets/controls",
          "model_name": "DescriptionStyleModel",
          "model_module_version": "1.5.0",
          "state": {
            "_model_module": "@jupyter-widgets/controls",
            "_model_module_version": "1.5.0",
            "_model_name": "DescriptionStyleModel",
            "_view_count": null,
            "_view_module": "@jupyter-widgets/base",
            "_view_module_version": "1.2.0",
            "_view_name": "StyleView",
            "description_width": ""
          }
        },
        "b801e01429fb4f068aa3d21fce2083f3": {
          "model_module": "@jupyter-widgets/base",
          "model_name": "LayoutModel",
          "model_module_version": "1.2.0",
          "state": {
            "_model_module": "@jupyter-widgets/base",
            "_model_module_version": "1.2.0",
            "_model_name": "LayoutModel",
            "_view_count": null,
            "_view_module": "@jupyter-widgets/base",
            "_view_module_version": "1.2.0",
            "_view_name": "LayoutView",
            "align_content": null,
            "align_items": null,
            "align_self": null,
            "border": null,
            "bottom": null,
            "display": null,
            "flex": null,
            "flex_flow": null,
            "grid_area": null,
            "grid_auto_columns": null,
            "grid_auto_flow": null,
            "grid_auto_rows": null,
            "grid_column": null,
            "grid_gap": null,
            "grid_row": null,
            "grid_template_areas": null,
            "grid_template_columns": null,
            "grid_template_rows": null,
            "height": null,
            "justify_content": null,
            "justify_items": null,
            "left": null,
            "margin": null,
            "max_height": null,
            "max_width": null,
            "min_height": null,
            "min_width": null,
            "object_fit": null,
            "object_position": null,
            "order": null,
            "overflow": null,
            "overflow_x": null,
            "overflow_y": null,
            "padding": null,
            "right": null,
            "top": null,
            "visibility": null,
            "width": null
          }
        },
        "c5cf2ffea86648dbb16f317a3a893af5": {
          "model_module": "@jupyter-widgets/controls",
          "model_name": "ProgressStyleModel",
          "model_module_version": "1.5.0",
          "state": {
            "_model_module": "@jupyter-widgets/controls",
            "_model_module_version": "1.5.0",
            "_model_name": "ProgressStyleModel",
            "_view_count": null,
            "_view_module": "@jupyter-widgets/base",
            "_view_module_version": "1.2.0",
            "_view_name": "StyleView",
            "bar_color": null,
            "description_width": ""
          }
        },
        "35fbc7fc3c884987b3e17901782b45e6": {
          "model_module": "@jupyter-widgets/base",
          "model_name": "LayoutModel",
          "model_module_version": "1.2.0",
          "state": {
            "_model_module": "@jupyter-widgets/base",
            "_model_module_version": "1.2.0",
            "_model_name": "LayoutModel",
            "_view_count": null,
            "_view_module": "@jupyter-widgets/base",
            "_view_module_version": "1.2.0",
            "_view_name": "LayoutView",
            "align_content": null,
            "align_items": null,
            "align_self": null,
            "border": null,
            "bottom": null,
            "display": null,
            "flex": null,
            "flex_flow": null,
            "grid_area": null,
            "grid_auto_columns": null,
            "grid_auto_flow": null,
            "grid_auto_rows": null,
            "grid_column": null,
            "grid_gap": null,
            "grid_row": null,
            "grid_template_areas": null,
            "grid_template_columns": null,
            "grid_template_rows": null,
            "height": null,
            "justify_content": null,
            "justify_items": null,
            "left": null,
            "margin": null,
            "max_height": null,
            "max_width": null,
            "min_height": null,
            "min_width": null,
            "object_fit": null,
            "object_position": null,
            "order": null,
            "overflow": null,
            "overflow_x": null,
            "overflow_y": null,
            "padding": null,
            "right": null,
            "top": null,
            "visibility": null,
            "width": null
          }
        },
        "f580e14b17e145ba959838d13340e6f7": {
          "model_module": "@jupyter-widgets/controls",
          "model_name": "DescriptionStyleModel",
          "model_module_version": "1.5.0",
          "state": {
            "_model_module": "@jupyter-widgets/controls",
            "_model_module_version": "1.5.0",
            "_model_name": "DescriptionStyleModel",
            "_view_count": null,
            "_view_module": "@jupyter-widgets/base",
            "_view_module_version": "1.2.0",
            "_view_name": "StyleView",
            "description_width": ""
          }
        }
      }
    }
  },
  "cells": [
    {
      "cell_type": "markdown",
      "metadata": {
        "id": "view-in-github",
        "colab_type": "text"
      },
      "source": [
        "<a href=\"https://colab.research.google.com/github/nantmoe-theingi/airbnb-nz-deception-sentiment/blob/main/notebooks/04_distilBERT_sentiment.ipynb\" target=\"_parent\"><img src=\"https://colab.research.google.com/assets/colab-badge.svg\" alt=\"Open In Colab\"/></a>"
      ]
    },
    {
      "cell_type": "code",
      "source": [
        "PROJECT_DRIVE_DIR = \"/content/drive/MyDrive/Colab Notebooks/airbnb_nz_deception_sentiment\"\n",
        "\n",
        "from google.colab import drive\n",
        "drive.mount('/content/drive')\n",
        "\n",
        "import os\n",
        "os.makedirs(PROJECT_DRIVE_DIR, exist_ok=True)\n",
        "print(\"Drive project folder:\", PROJECT_DRIVE_DIR)"
      ],
      "metadata": {
        "colab": {
          "base_uri": "https://localhost:8080/"
        },
        "id": "_watSwGFF2Aa",
        "outputId": "5bdedbca-5949-49d3-c811-368b3550ed5c"
      },
      "execution_count": 2,
      "outputs": [
        {
          "output_type": "stream",
          "name": "stdout",
          "text": [
            "Drive already mounted at /content/drive; to attempt to forcibly remount, call drive.mount(\"/content/drive\", force_remount=True).\n",
            "Drive project folder: /content/drive/MyDrive/Colab Notebooks/airbnb_nz_deception_sentiment\n"
          ]
        }
      ]
    },
    {
      "cell_type": "code",
      "source": [
        "cd {PROJECT_DRIVE_DIR}"
      ],
      "metadata": {
        "colab": {
          "base_uri": "https://localhost:8080/"
        },
        "id": "8gcSTHN_F2qm",
        "outputId": "d8afe42e-5960-4106-826f-16b63c07a881"
      },
      "execution_count": 3,
      "outputs": [
        {
          "output_type": "stream",
          "name": "stdout",
          "text": [
            "/content/drive/MyDrive/Colab Notebooks/airbnb_nz_deception_sentiment\n"
          ]
        }
      ]
    },
    {
      "cell_type": "code",
      "execution_count": 17,
      "metadata": {
        "id": "CI2lVRK3EpC4"
      },
      "outputs": [],
      "source": [
        "# DistilBERT Sentiment Fine-tuning (3-class)\n",
        "\n",
        "import os, itertools, joblib\n",
        "from pathlib import Path\n",
        "\n",
        "import numpy as np\n",
        "import pandas as pd\n",
        "import torch\n",
        "\n",
        "from sklearn.model_selection import train_test_split\n",
        "from sklearn.metrics import (\n",
        "    accuracy_score, precision_recall_fscore_support\n",
        ")\n",
        "from sklearn.utils.class_weight import compute_class_weight\n",
        "\n",
        "from datasets import Dataset\n",
        "from transformers import (\n",
        "    AutoTokenizer, AutoModelForSequenceClassification,\n",
        "    Trainer, TrainingArguments, set_seed\n",
        ")"
      ]
    },
    {
      "cell_type": "code",
      "source": [
        "# 0) Config & seeding\n",
        "MODEL_NAME = \"distilbert-base-uncased\"\n",
        "ROOT_DIR = Path(\"artifacts/distilbert_sentiment_sweep\")\n",
        "ROOT_DIR.mkdir(parents=True, exist_ok=True)\n",
        "set_seed(42)\n",
        "\n",
        "torch.backends.cudnn.benchmark = False\n",
        "torch.backends.cudnn.deterministic = False\n",
        "if torch.cuda.is_available():\n",
        "    torch.backends.cuda.matmul.allow_tf32 = True\n",
        "    torch.backends.cudnn.allow_tf32 = True"
      ],
      "metadata": {
        "id": "Zl2WQDt6eajB"
      },
      "execution_count": 18,
      "outputs": []
    },
    {
      "cell_type": "code",
      "source": [
        "# 1) Load data (expects columns: \"text\", \"label\")\n",
        "#    If labels are strings, map to ints here.\n",
        "df = pd.read_csv(\"data/tripadvisor_prepared_3class.csv\")\n",
        "print(df.head())"
      ],
      "metadata": {
        "colab": {
          "base_uri": "https://localhost:8080/"
        },
        "id": "l5YRnNl-eagL",
        "outputId": "ac60bf53-9527-499a-d88c-e550df5f405c"
      },
      "execution_count": 40,
      "outputs": [
        {
          "output_type": "stream",
          "name": "stdout",
          "text": [
            "                                                text sentiment  y\n",
            "0  nice hotel expensive parking got good deal sta...  positive  2\n",
            "1  ok nothing special charge diamond member hilto...  negative  0\n",
            "2  nice rooms not 4* experience hotel monaco seat...   neutral  1\n",
            "3  unique, great stay, wonderful time hotel monac...  positive  2\n",
            "4  great stay great stay, went seahawk game aweso...  positive  2\n"
          ]
        }
      ]
    },
    {
      "cell_type": "code",
      "source": [
        "# Rename column 'y' to 'label'\n",
        "df = df.rename(columns={\"y\": \"label\"})\n",
        "\n",
        "# verify the change\n",
        "print(df.head())"
      ],
      "metadata": {
        "colab": {
          "base_uri": "https://localhost:8080/"
        },
        "id": "qr2QGy41fSZF",
        "outputId": "645cc91e-0ac4-416f-dc72-909290cb4561"
      },
      "execution_count": 41,
      "outputs": [
        {
          "output_type": "stream",
          "name": "stdout",
          "text": [
            "                                                text sentiment  label\n",
            "0  nice hotel expensive parking got good deal sta...  positive      2\n",
            "1  ok nothing special charge diamond member hilto...  negative      0\n",
            "2  nice rooms not 4* experience hotel monaco seat...   neutral      1\n",
            "3  unique, great stay, wonderful time hotel monac...  positive      2\n",
            "4  great stay great stay, went seahawk game aweso...  positive      2\n"
          ]
        }
      ]
    },
    {
      "cell_type": "code",
      "source": [
        "df = df.dropna(subset=[\"text\", \"label\"]).copy()\n",
        "print(df.head())"
      ],
      "metadata": {
        "colab": {
          "base_uri": "https://localhost:8080/"
        },
        "id": "Si6mYx0YeadR",
        "outputId": "073cc10d-9df0-423e-88ac-1b752c4b85b2"
      },
      "execution_count": 42,
      "outputs": [
        {
          "output_type": "stream",
          "name": "stdout",
          "text": [
            "                                                text sentiment  label\n",
            "0  nice hotel expensive parking got good deal sta...  positive      2\n",
            "1  ok nothing special charge diamond member hilto...  negative      0\n",
            "2  nice rooms not 4* experience hotel monaco seat...   neutral      1\n",
            "3  unique, great stay, wonderful time hotel monac...  positive      2\n",
            "4  great stay great stay, went seahawk game aweso...  positive      2\n"
          ]
        }
      ]
    },
    {
      "cell_type": "code",
      "source": [
        "# 2) Stratified 70/15/15 split\n",
        "train_df, temp_df = train_test_split(\n",
        "    df, test_size=0.30, stratify=df[\"label\"], random_state=42\n",
        ")\n",
        "val_df, test_df = train_test_split(\n",
        "    temp_df, test_size=0.50, stratify=temp_df[\"label\"], random_state=42\n",
        ")\n",
        "\n",
        "print(f\"Train: {len(train_df)} | Val: {len(val_df)} | Test: {len(test_df)}\")"
      ],
      "metadata": {
        "colab": {
          "base_uri": "https://localhost:8080/"
        },
        "id": "g1KgRCwKeaaz",
        "outputId": "025ffbb7-78cc-401e-fdd8-cf0b110f94a0"
      },
      "execution_count": 43,
      "outputs": [
        {
          "output_type": "stream",
          "name": "stdout",
          "text": [
            "Train: 14331 | Val: 3071 | Test: 3071\n"
          ]
        }
      ]
    },
    {
      "cell_type": "code",
      "source": [
        "# 3) Tokenizer + datasets\n",
        "tokenizer = AutoTokenizer.from_pretrained(MODEL_NAME)\n",
        "\n",
        "def tokenize(batch):\n",
        "    return tokenizer(\n",
        "        batch[\"text\"],\n",
        "        padding=\"max_length\",\n",
        "        truncation=True,\n",
        "        max_length=256,\n",
        "    )\n",
        "\n",
        "train_ds = Dataset.from_pandas(train_df).map(tokenize, batched=True)\n",
        "val_ds   = Dataset.from_pandas(val_df).map(tokenize, batched=True)\n",
        "test_ds  = Dataset.from_pandas(test_df).map(tokenize, batched=True)\n",
        "\n",
        "cols = [\"input_ids\", \"attention_mask\", \"label\"]\n",
        "train_ds.set_format(\"torch\", columns=cols)\n",
        "val_ds.set_format(\"torch\", columns=cols)\n",
        "test_ds.set_format(\"torch\", columns=cols)"
      ],
      "metadata": {
        "colab": {
          "base_uri": "https://localhost:8080/",
          "height": 113,
          "referenced_widgets": [
            "d3389ea2971e4508bb7b6d61d2e12dc1",
            "890f40558cb940aebf3dda6100625f87",
            "c44783e00b2c43a9bc06b4d2efedfd65",
            "eb59dd14b24c4f519f655aabc8a6b684",
            "a552efaccfaf448f9e669cb3f38a45be",
            "369f943660ba4a82a70cfb6375fbb125",
            "c067ef92ab7a4edd894198df5f9a952e",
            "d5f8d8635c8646b6babf9ffaef03a7f1",
            "301422344f274296becc3a6b8bab1f44",
            "4d688b37b0ca4892a20c1aa9d7340034",
            "e25656fd6d694046a45c8676972fe98f",
            "aed22640e58648299b0df5a6da8c2c96",
            "60c513df1f5446b78efb3ef4c3833ccc",
            "3e86d0d5c75f4aebbfec956f48b9c6f0",
            "f8bb902f16a746b1ad222cf312222dd7",
            "f07975de3a994b548ef2aa61c7d1e850",
            "f4f3740f8c5f457dae7741f8711c77c8",
            "be6c8a13c7ce4cb08f44e6e706f5c4ab",
            "5fbda0d323c041ce9b35bf30b47d9deb",
            "ea0bb48ce7c345119ef532322a92b52b",
            "5c53228d1ae64961a84b206ef875ec67",
            "6df462ed5e7f41b7a1cd4b902102bc21",
            "4a8b7d5990f3427d8562c9a8ed53d09e",
            "e095fde739fe4e79902cb5ae273893ff",
            "4971797611ca477ca394d5be5678777e",
            "3162bf231f5d42db9418ba500eda1a9b",
            "7a3969b760294dc68015d32d19bb5cb4",
            "4b7e8cb45d6f4f898be22e3d5af245e6",
            "b1e926cf5067400dbba24742ffe94f36",
            "b801e01429fb4f068aa3d21fce2083f3",
            "c5cf2ffea86648dbb16f317a3a893af5",
            "35fbc7fc3c884987b3e17901782b45e6",
            "f580e14b17e145ba959838d13340e6f7"
          ]
        },
        "id": "BtNw3jkseaX0",
        "outputId": "7c4f0e23-f9a2-407f-c75e-af42809bef3f"
      },
      "execution_count": 44,
      "outputs": [
        {
          "output_type": "display_data",
          "data": {
            "text/plain": [
              "Map:   0%|          | 0/14331 [00:00<?, ? examples/s]"
            ],
            "application/vnd.jupyter.widget-view+json": {
              "version_major": 2,
              "version_minor": 0,
              "model_id": "d3389ea2971e4508bb7b6d61d2e12dc1"
            }
          },
          "metadata": {}
        },
        {
          "output_type": "display_data",
          "data": {
            "text/plain": [
              "Map:   0%|          | 0/3071 [00:00<?, ? examples/s]"
            ],
            "application/vnd.jupyter.widget-view+json": {
              "version_major": 2,
              "version_minor": 0,
              "model_id": "aed22640e58648299b0df5a6da8c2c96"
            }
          },
          "metadata": {}
        },
        {
          "output_type": "display_data",
          "data": {
            "text/plain": [
              "Map:   0%|          | 0/3071 [00:00<?, ? examples/s]"
            ],
            "application/vnd.jupyter.widget-view+json": {
              "version_major": 2,
              "version_minor": 0,
              "model_id": "4a8b7d5990f3427d8562c9a8ed53d09e"
            }
          },
          "metadata": {}
        }
      ]
    },
    {
      "cell_type": "code",
      "source": [
        "# 4) Metrics (macro-averaged)\n",
        "def compute_metrics(eval_pred):\n",
        "    logits, labels = eval_pred\n",
        "    preds = np.argmax(logits, axis=1)\n",
        "\n",
        "    acc = accuracy_score(labels, preds)\n",
        "    p_macro, r_macro, f1_macro, _ = precision_recall_fscore_support(\n",
        "        labels, preds, average=\"macro\", zero_division=0\n",
        "    )\n",
        "    # Optional: weighted for reference\n",
        "    p_w, r_w, f1_w, _ = precision_recall_fscore_support(\n",
        "        labels, preds, average=\"weighted\", zero_division=0\n",
        "    )\n",
        "    return {\n",
        "        \"accuracy\": acc,\n",
        "        \"macro_precision\": p_macro,\n",
        "        \"macro_recall\": r_macro,\n",
        "        \"macro_f1\": f1_macro,\n",
        "        \"weighted_f1\": f1_w,\n",
        "    }"
      ],
      "metadata": {
        "id": "zShHt7A7eaU7"
      },
      "execution_count": 45,
      "outputs": []
    },
    {
      "cell_type": "code",
      "source": [
        "# 5) Class weights (from data) and weighted loss\n",
        "import torch.nn as nn\n",
        "\n",
        "num_labels = 3\n",
        "classes = np.array(sorted(df[\"label\"].unique()))\n",
        "class_weights = compute_class_weight(\n",
        "    class_weight=\"balanced\",\n",
        "    classes=classes,\n",
        "    y=train_df[\"label\"].values\n",
        ")\n",
        "# Ensure tensor on correct device later\n",
        "class_weights_tensor = torch.tensor(class_weights, dtype=torch.float)\n",
        "\n",
        "\n",
        "class WeightedTrainer(Trainer):\n",
        "    # NOTE: accept num_items_in_batch and **kwargs for forward-compatibility\n",
        "    def compute_loss(\n",
        "        self,\n",
        "        model,\n",
        "        inputs,\n",
        "        return_outputs=False,\n",
        "        num_items_in_batch: int | None = None,   # HF >= 4.41+\n",
        "        **kwargs,                                # future args-safe\n",
        "    ):\n",
        "        # HF datasets usually use \"labels\"; fall back to \"label\" just in case\n",
        "        labels = inputs.pop(\"labels\", None)\n",
        "        if labels is None and \"label\" in inputs:\n",
        "            labels = inputs.pop(\"label\")\n",
        "\n",
        "        outputs = model(**inputs)\n",
        "        logits = outputs.get(\"logits\", outputs[0])\n",
        "\n",
        "        # class_weights_tensor defined earlier; ensure correct device/dtype\n",
        "        weights = class_weights_tensor.to(logits.device).type_as(logits)\n",
        "\n",
        "        loss_fct = nn.CrossEntropyLoss(weight=weights)\n",
        "        loss = loss_fct(logits.view(-1, logits.size(-1)), labels.view(-1))\n",
        "\n",
        "        return (loss, outputs) if return_outputs else loss\n",
        "\n",
        "\n",
        "def new_model():\n",
        "    return AutoModelForSequenceClassification.from_pretrained(\n",
        "        MODEL_NAME, num_labels=num_labels, id2label=id2label, label2id=label2id\n",
        "    )"
      ],
      "metadata": {
        "id": "CYjC_E3aeaR5"
      },
      "execution_count": 46,
      "outputs": []
    },
    {
      "cell_type": "code",
      "source": [
        "# 6) Small, meaningful sweep\n",
        "label2id = {\"negative\": 0, \"neutral\": 1, \"positive\": 2}\n",
        "id2label = {v: k for k, v in label2id.items()}\n",
        "grid = {\n",
        "    \"num_train_epochs\": [2, 3, 4],\n",
        "    \"learning_rate\": [1e-5, 2e-5, 3e-5],\n",
        "    \"lr_scheduler_type\": [\"linear\", \"cosine\"],\n",
        "    \"warmup_ratio\": [0.0, 0.06],\n",
        "}\n",
        "\n",
        "results = []\n",
        "\n",
        "for epochs, lr, sched, warm in itertools.product(\n",
        "    grid[\"num_train_epochs\"], grid[\"learning_rate\"],\n",
        "    grid[\"lr_scheduler_type\"], grid[\"warmup_ratio\"]\n",
        "):\n",
        "    run_name = f\"e{epochs}_lr{lr}_sch-{sched}_warm{warm}\"\n",
        "    out_dir = ROOT_DIR / \"runs\" / run_name\n",
        "    out_dir.mkdir(parents=True, exist_ok=True)\n",
        "\n",
        "    model = new_model()\n",
        "\n",
        "    args = TrainingArguments(\n",
        "        output_dir=str(out_dir),\n",
        "        per_device_train_batch_size=8,\n",
        "        per_device_eval_batch_size=8,\n",
        "        learning_rate=lr,\n",
        "        num_train_epochs=epochs,\n",
        "        weight_decay=0.01,\n",
        "        eval_strategy=\"epoch\",\n",
        "        save_strategy=\"epoch\",\n",
        "        load_best_model_at_end=True,\n",
        "        metric_for_best_model=\"macro_f1\",   # select by macro-F1\n",
        "        greater_is_better=True,\n",
        "        lr_scheduler_type=sched,\n",
        "        warmup_ratio=warm,\n",
        "        logging_steps=100,\n",
        "        save_total_limit=1,\n",
        "        report_to=[],                      # no wandb\n",
        "        seed=42,\n",
        "        fp16=False,\n",
        "    )\n",
        "\n",
        "    trainer = WeightedTrainer(\n",
        "        model=model,\n",
        "        args=args,\n",
        "        train_dataset=train_ds,\n",
        "        eval_dataset=val_ds,\n",
        "        tokenizer=tokenizer,\n",
        "        compute_metrics=compute_metrics,\n",
        "    )\n",
        "\n",
        "    trainer.train()\n",
        "    val_metrics = trainer.evaluate()\n",
        "    results.append({\n",
        "        \"run\": run_name,\n",
        "        \"epochs\": epochs,\n",
        "        \"lr\": lr,\n",
        "        \"scheduler\": sched,\n",
        "        \"warmup\": warm,\n",
        "        **{k: round(val_metrics[k], 4) for k in (\n",
        "            \"eval_accuracy\", \"eval_macro_precision\",\n",
        "            \"eval_macro_recall\", \"eval_macro_f1\", \"eval_weighted_f1\"\n",
        "        )}\n",
        "    })\n",
        "\n",
        "    # free memory between runs\n",
        "    del trainer, model\n",
        "    if torch.cuda.is_available():\n",
        "        torch.cuda.empty_cache()\n"
      ],
      "metadata": {
        "colab": {
          "base_uri": "https://localhost:8080/",
          "height": 1000
        },
        "id": "DV-y_mETeaOr",
        "outputId": "1d91bd12-2177-4744-ad49-5b5a35964e08"
      },
      "execution_count": 47,
      "outputs": [
        {
          "output_type": "stream",
          "name": "stderr",
          "text": [
            "Some weights of DistilBertForSequenceClassification were not initialized from the model checkpoint at distilbert-base-uncased and are newly initialized: ['classifier.bias', 'classifier.weight', 'pre_classifier.bias', 'pre_classifier.weight']\n",
            "You should probably TRAIN this model on a down-stream task to be able to use it for predictions and inference.\n",
            "/tmp/ipython-input-383261731.py:44: FutureWarning: `tokenizer` is deprecated and will be removed in version 5.0.0 for `WeightedTrainer.__init__`. Use `processing_class` instead.\n",
            "  trainer = WeightedTrainer(\n"
          ]
        },
        {
          "output_type": "display_data",
          "data": {
            "text/plain": [
              "<IPython.core.display.HTML object>"
            ],
            "text/html": [
              "\n",
              "    <div>\n",
              "      \n",
              "      <progress value='3584' max='3584' style='width:300px; height:20px; vertical-align: middle;'></progress>\n",
              "      [3584/3584 12:46, Epoch 2/2]\n",
              "    </div>\n",
              "    <table border=\"1\" class=\"dataframe\">\n",
              "  <thead>\n",
              " <tr style=\"text-align: left;\">\n",
              "      <th>Epoch</th>\n",
              "      <th>Training Loss</th>\n",
              "      <th>Validation Loss</th>\n",
              "      <th>Accuracy</th>\n",
              "      <th>Macro Precision</th>\n",
              "      <th>Macro Recall</th>\n",
              "      <th>Macro F1</th>\n",
              "      <th>Weighted F1</th>\n",
              "    </tr>\n",
              "  </thead>\n",
              "  <tbody>\n",
              "    <tr>\n",
              "      <td>1</td>\n",
              "      <td>0.648300</td>\n",
              "      <td>0.643659</td>\n",
              "      <td>0.869749</td>\n",
              "      <td>0.736536</td>\n",
              "      <td>0.729779</td>\n",
              "      <td>0.733100</td>\n",
              "      <td>0.868830</td>\n",
              "    </tr>\n",
              "    <tr>\n",
              "      <td>2</td>\n",
              "      <td>0.563700</td>\n",
              "      <td>0.618898</td>\n",
              "      <td>0.859004</td>\n",
              "      <td>0.728488</td>\n",
              "      <td>0.754669</td>\n",
              "      <td>0.738938</td>\n",
              "      <td>0.866129</td>\n",
              "    </tr>\n",
              "  </tbody>\n",
              "</table><p>"
            ]
          },
          "metadata": {}
        },
        {
          "output_type": "display_data",
          "data": {
            "text/plain": [
              "<IPython.core.display.HTML object>"
            ],
            "text/html": [
              "\n",
              "    <div>\n",
              "      \n",
              "      <progress value='384' max='384' style='width:300px; height:20px; vertical-align: middle;'></progress>\n",
              "      [384/384 00:23]\n",
              "    </div>\n",
              "    "
            ]
          },
          "metadata": {}
        },
        {
          "output_type": "stream",
          "name": "stderr",
          "text": [
            "Some weights of DistilBertForSequenceClassification were not initialized from the model checkpoint at distilbert-base-uncased and are newly initialized: ['classifier.bias', 'classifier.weight', 'pre_classifier.bias', 'pre_classifier.weight']\n",
            "You should probably TRAIN this model on a down-stream task to be able to use it for predictions and inference.\n",
            "/tmp/ipython-input-383261731.py:44: FutureWarning: `tokenizer` is deprecated and will be removed in version 5.0.0 for `WeightedTrainer.__init__`. Use `processing_class` instead.\n",
            "  trainer = WeightedTrainer(\n"
          ]
        },
        {
          "output_type": "display_data",
          "data": {
            "text/plain": [
              "<IPython.core.display.HTML object>"
            ],
            "text/html": [
              "\n",
              "    <div>\n",
              "      \n",
              "      <progress value='3584' max='3584' style='width:300px; height:20px; vertical-align: middle;'></progress>\n",
              "      [3584/3584 12:00, Epoch 2/2]\n",
              "    </div>\n",
              "    <table border=\"1\" class=\"dataframe\">\n",
              "  <thead>\n",
              " <tr style=\"text-align: left;\">\n",
              "      <th>Epoch</th>\n",
              "      <th>Training Loss</th>\n",
              "      <th>Validation Loss</th>\n",
              "      <th>Accuracy</th>\n",
              "      <th>Macro Precision</th>\n",
              "      <th>Macro Recall</th>\n",
              "      <th>Macro F1</th>\n",
              "      <th>Weighted F1</th>\n",
              "    </tr>\n",
              "  </thead>\n",
              "  <tbody>\n",
              "    <tr>\n",
              "      <td>1</td>\n",
              "      <td>0.638000</td>\n",
              "      <td>0.608404</td>\n",
              "      <td>0.871703</td>\n",
              "      <td>0.741259</td>\n",
              "      <td>0.748857</td>\n",
              "      <td>0.744933</td>\n",
              "      <td>0.873164</td>\n",
              "    </tr>\n",
              "    <tr>\n",
              "      <td>2</td>\n",
              "      <td>0.548000</td>\n",
              "      <td>0.606570</td>\n",
              "      <td>0.862260</td>\n",
              "      <td>0.734885</td>\n",
              "      <td>0.760719</td>\n",
              "      <td>0.745203</td>\n",
              "      <td>0.869031</td>\n",
              "    </tr>\n",
              "  </tbody>\n",
              "</table><p>"
            ]
          },
          "metadata": {}
        },
        {
          "output_type": "display_data",
          "data": {
            "text/plain": [
              "<IPython.core.display.HTML object>"
            ],
            "text/html": [
              "\n",
              "    <div>\n",
              "      \n",
              "      <progress value='384' max='384' style='width:300px; height:20px; vertical-align: middle;'></progress>\n",
              "      [384/384 00:23]\n",
              "    </div>\n",
              "    "
            ]
          },
          "metadata": {}
        },
        {
          "output_type": "stream",
          "name": "stderr",
          "text": [
            "Some weights of DistilBertForSequenceClassification were not initialized from the model checkpoint at distilbert-base-uncased and are newly initialized: ['classifier.bias', 'classifier.weight', 'pre_classifier.bias', 'pre_classifier.weight']\n",
            "You should probably TRAIN this model on a down-stream task to be able to use it for predictions and inference.\n",
            "/tmp/ipython-input-383261731.py:44: FutureWarning: `tokenizer` is deprecated and will be removed in version 5.0.0 for `WeightedTrainer.__init__`. Use `processing_class` instead.\n",
            "  trainer = WeightedTrainer(\n"
          ]
        },
        {
          "output_type": "display_data",
          "data": {
            "text/plain": [
              "<IPython.core.display.HTML object>"
            ],
            "text/html": [
              "\n",
              "    <div>\n",
              "      \n",
              "      <progress value='3584' max='3584' style='width:300px; height:20px; vertical-align: middle;'></progress>\n",
              "      [3584/3584 12:06, Epoch 2/2]\n",
              "    </div>\n",
              "    <table border=\"1\" class=\"dataframe\">\n",
              "  <thead>\n",
              " <tr style=\"text-align: left;\">\n",
              "      <th>Epoch</th>\n",
              "      <th>Training Loss</th>\n",
              "      <th>Validation Loss</th>\n",
              "      <th>Accuracy</th>\n",
              "      <th>Macro Precision</th>\n",
              "      <th>Macro Recall</th>\n",
              "      <th>Macro F1</th>\n",
              "      <th>Weighted F1</th>\n",
              "    </tr>\n",
              "  </thead>\n",
              "  <tbody>\n",
              "    <tr>\n",
              "      <td>1</td>\n",
              "      <td>0.636300</td>\n",
              "      <td>0.607038</td>\n",
              "      <td>0.870075</td>\n",
              "      <td>0.742544</td>\n",
              "      <td>0.750087</td>\n",
              "      <td>0.745897</td>\n",
              "      <td>0.872487</td>\n",
              "    </tr>\n",
              "    <tr>\n",
              "      <td>2</td>\n",
              "      <td>0.557100</td>\n",
              "      <td>0.626853</td>\n",
              "      <td>0.860632</td>\n",
              "      <td>0.730222</td>\n",
              "      <td>0.758016</td>\n",
              "      <td>0.741789</td>\n",
              "      <td>0.867381</td>\n",
              "    </tr>\n",
              "  </tbody>\n",
              "</table><p>"
            ]
          },
          "metadata": {}
        },
        {
          "output_type": "display_data",
          "data": {
            "text/plain": [
              "<IPython.core.display.HTML object>"
            ],
            "text/html": [
              "\n",
              "    <div>\n",
              "      \n",
              "      <progress value='384' max='384' style='width:300px; height:20px; vertical-align: middle;'></progress>\n",
              "      [384/384 00:23]\n",
              "    </div>\n",
              "    "
            ]
          },
          "metadata": {}
        },
        {
          "output_type": "stream",
          "name": "stderr",
          "text": [
            "Some weights of DistilBertForSequenceClassification were not initialized from the model checkpoint at distilbert-base-uncased and are newly initialized: ['classifier.bias', 'classifier.weight', 'pre_classifier.bias', 'pre_classifier.weight']\n",
            "You should probably TRAIN this model on a down-stream task to be able to use it for predictions and inference.\n",
            "/tmp/ipython-input-383261731.py:44: FutureWarning: `tokenizer` is deprecated and will be removed in version 5.0.0 for `WeightedTrainer.__init__`. Use `processing_class` instead.\n",
            "  trainer = WeightedTrainer(\n"
          ]
        },
        {
          "output_type": "display_data",
          "data": {
            "text/plain": [
              "<IPython.core.display.HTML object>"
            ],
            "text/html": [
              "\n",
              "    <div>\n",
              "      \n",
              "      <progress value='3584' max='3584' style='width:300px; height:20px; vertical-align: middle;'></progress>\n",
              "      [3584/3584 12:06, Epoch 2/2]\n",
              "    </div>\n",
              "    <table border=\"1\" class=\"dataframe\">\n",
              "  <thead>\n",
              " <tr style=\"text-align: left;\">\n",
              "      <th>Epoch</th>\n",
              "      <th>Training Loss</th>\n",
              "      <th>Validation Loss</th>\n",
              "      <th>Accuracy</th>\n",
              "      <th>Macro Precision</th>\n",
              "      <th>Macro Recall</th>\n",
              "      <th>Macro F1</th>\n",
              "      <th>Weighted F1</th>\n",
              "    </tr>\n",
              "  </thead>\n",
              "  <tbody>\n",
              "    <tr>\n",
              "      <td>1</td>\n",
              "      <td>0.643600</td>\n",
              "      <td>0.613385</td>\n",
              "      <td>0.871052</td>\n",
              "      <td>0.738825</td>\n",
              "      <td>0.743442</td>\n",
              "      <td>0.741072</td>\n",
              "      <td>0.872090</td>\n",
              "    </tr>\n",
              "    <tr>\n",
              "      <td>2</td>\n",
              "      <td>0.544000</td>\n",
              "      <td>0.618619</td>\n",
              "      <td>0.862585</td>\n",
              "      <td>0.730562</td>\n",
              "      <td>0.759772</td>\n",
              "      <td>0.743113</td>\n",
              "      <td>0.868796</td>\n",
              "    </tr>\n",
              "  </tbody>\n",
              "</table><p>"
            ]
          },
          "metadata": {}
        },
        {
          "output_type": "display_data",
          "data": {
            "text/plain": [
              "<IPython.core.display.HTML object>"
            ],
            "text/html": [
              "\n",
              "    <div>\n",
              "      \n",
              "      <progress value='384' max='384' style='width:300px; height:20px; vertical-align: middle;'></progress>\n",
              "      [384/384 00:23]\n",
              "    </div>\n",
              "    "
            ]
          },
          "metadata": {}
        },
        {
          "output_type": "stream",
          "name": "stderr",
          "text": [
            "Some weights of DistilBertForSequenceClassification were not initialized from the model checkpoint at distilbert-base-uncased and are newly initialized: ['classifier.bias', 'classifier.weight', 'pre_classifier.bias', 'pre_classifier.weight']\n",
            "You should probably TRAIN this model on a down-stream task to be able to use it for predictions and inference.\n",
            "/tmp/ipython-input-383261731.py:44: FutureWarning: `tokenizer` is deprecated and will be removed in version 5.0.0 for `WeightedTrainer.__init__`. Use `processing_class` instead.\n",
            "  trainer = WeightedTrainer(\n"
          ]
        },
        {
          "output_type": "display_data",
          "data": {
            "text/plain": [
              "<IPython.core.display.HTML object>"
            ],
            "text/html": [
              "\n",
              "    <div>\n",
              "      \n",
              "      <progress value='3584' max='3584' style='width:300px; height:20px; vertical-align: middle;'></progress>\n",
              "      [3584/3584 11:56, Epoch 2/2]\n",
              "    </div>\n",
              "    <table border=\"1\" class=\"dataframe\">\n",
              "  <thead>\n",
              " <tr style=\"text-align: left;\">\n",
              "      <th>Epoch</th>\n",
              "      <th>Training Loss</th>\n",
              "      <th>Validation Loss</th>\n",
              "      <th>Accuracy</th>\n",
              "      <th>Macro Precision</th>\n",
              "      <th>Macro Recall</th>\n",
              "      <th>Macro F1</th>\n",
              "      <th>Weighted F1</th>\n",
              "    </tr>\n",
              "  </thead>\n",
              "  <tbody>\n",
              "    <tr>\n",
              "      <td>1</td>\n",
              "      <td>0.673700</td>\n",
              "      <td>0.608098</td>\n",
              "      <td>0.865842</td>\n",
              "      <td>0.726757</td>\n",
              "      <td>0.746749</td>\n",
              "      <td>0.736115</td>\n",
              "      <td>0.869291</td>\n",
              "    </tr>\n",
              "    <tr>\n",
              "      <td>2</td>\n",
              "      <td>0.556200</td>\n",
              "      <td>0.653780</td>\n",
              "      <td>0.861283</td>\n",
              "      <td>0.726858</td>\n",
              "      <td>0.752973</td>\n",
              "      <td>0.737918</td>\n",
              "      <td>0.867627</td>\n",
              "    </tr>\n",
              "  </tbody>\n",
              "</table><p>"
            ]
          },
          "metadata": {}
        },
        {
          "output_type": "display_data",
          "data": {
            "text/plain": [
              "<IPython.core.display.HTML object>"
            ],
            "text/html": [
              "\n",
              "    <div>\n",
              "      \n",
              "      <progress value='384' max='384' style='width:300px; height:20px; vertical-align: middle;'></progress>\n",
              "      [384/384 00:23]\n",
              "    </div>\n",
              "    "
            ]
          },
          "metadata": {}
        },
        {
          "output_type": "stream",
          "name": "stderr",
          "text": [
            "Some weights of DistilBertForSequenceClassification were not initialized from the model checkpoint at distilbert-base-uncased and are newly initialized: ['classifier.bias', 'classifier.weight', 'pre_classifier.bias', 'pre_classifier.weight']\n",
            "You should probably TRAIN this model on a down-stream task to be able to use it for predictions and inference.\n",
            "/tmp/ipython-input-383261731.py:44: FutureWarning: `tokenizer` is deprecated and will be removed in version 5.0.0 for `WeightedTrainer.__init__`. Use `processing_class` instead.\n",
            "  trainer = WeightedTrainer(\n"
          ]
        },
        {
          "output_type": "display_data",
          "data": {
            "text/plain": [
              "<IPython.core.display.HTML object>"
            ],
            "text/html": [
              "\n",
              "    <div>\n",
              "      \n",
              "      <progress value='3584' max='3584' style='width:300px; height:20px; vertical-align: middle;'></progress>\n",
              "      [3584/3584 12:10, Epoch 2/2]\n",
              "    </div>\n",
              "    <table border=\"1\" class=\"dataframe\">\n",
              "  <thead>\n",
              " <tr style=\"text-align: left;\">\n",
              "      <th>Epoch</th>\n",
              "      <th>Training Loss</th>\n",
              "      <th>Validation Loss</th>\n",
              "      <th>Accuracy</th>\n",
              "      <th>Macro Precision</th>\n",
              "      <th>Macro Recall</th>\n",
              "      <th>Macro F1</th>\n",
              "      <th>Weighted F1</th>\n",
              "    </tr>\n",
              "  </thead>\n",
              "  <tbody>\n",
              "    <tr>\n",
              "      <td>1</td>\n",
              "      <td>0.682300</td>\n",
              "      <td>0.613187</td>\n",
              "      <td>0.871377</td>\n",
              "      <td>0.738491</td>\n",
              "      <td>0.753719</td>\n",
              "      <td>0.745813</td>\n",
              "      <td>0.873372</td>\n",
              "    </tr>\n",
              "    <tr>\n",
              "      <td>2</td>\n",
              "      <td>0.559500</td>\n",
              "      <td>0.652710</td>\n",
              "      <td>0.863562</td>\n",
              "      <td>0.731997</td>\n",
              "      <td>0.758693</td>\n",
              "      <td>0.743252</td>\n",
              "      <td>0.869746</td>\n",
              "    </tr>\n",
              "  </tbody>\n",
              "</table><p>"
            ]
          },
          "metadata": {}
        },
        {
          "output_type": "display_data",
          "data": {
            "text/plain": [
              "<IPython.core.display.HTML object>"
            ],
            "text/html": [
              "\n",
              "    <div>\n",
              "      \n",
              "      <progress value='384' max='384' style='width:300px; height:20px; vertical-align: middle;'></progress>\n",
              "      [384/384 00:23]\n",
              "    </div>\n",
              "    "
            ]
          },
          "metadata": {}
        },
        {
          "output_type": "stream",
          "name": "stderr",
          "text": [
            "Some weights of DistilBertForSequenceClassification were not initialized from the model checkpoint at distilbert-base-uncased and are newly initialized: ['classifier.bias', 'classifier.weight', 'pre_classifier.bias', 'pre_classifier.weight']\n",
            "You should probably TRAIN this model on a down-stream task to be able to use it for predictions and inference.\n",
            "/tmp/ipython-input-383261731.py:44: FutureWarning: `tokenizer` is deprecated and will be removed in version 5.0.0 for `WeightedTrainer.__init__`. Use `processing_class` instead.\n",
            "  trainer = WeightedTrainer(\n"
          ]
        },
        {
          "output_type": "display_data",
          "data": {
            "text/plain": [
              "<IPython.core.display.HTML object>"
            ],
            "text/html": [
              "\n",
              "    <div>\n",
              "      \n",
              "      <progress value='3584' max='3584' style='width:300px; height:20px; vertical-align: middle;'></progress>\n",
              "      [3584/3584 12:09, Epoch 2/2]\n",
              "    </div>\n",
              "    <table border=\"1\" class=\"dataframe\">\n",
              "  <thead>\n",
              " <tr style=\"text-align: left;\">\n",
              "      <th>Epoch</th>\n",
              "      <th>Training Loss</th>\n",
              "      <th>Validation Loss</th>\n",
              "      <th>Accuracy</th>\n",
              "      <th>Macro Precision</th>\n",
              "      <th>Macro Recall</th>\n",
              "      <th>Macro F1</th>\n",
              "      <th>Weighted F1</th>\n",
              "    </tr>\n",
              "  </thead>\n",
              "  <tbody>\n",
              "    <tr>\n",
              "      <td>1</td>\n",
              "      <td>0.668500</td>\n",
              "      <td>0.599824</td>\n",
              "      <td>0.867796</td>\n",
              "      <td>0.736063</td>\n",
              "      <td>0.752216</td>\n",
              "      <td>0.743325</td>\n",
              "      <td>0.871555</td>\n",
              "    </tr>\n",
              "    <tr>\n",
              "      <td>2</td>\n",
              "      <td>0.574200</td>\n",
              "      <td>0.668634</td>\n",
              "      <td>0.862585</td>\n",
              "      <td>0.730058</td>\n",
              "      <td>0.756500</td>\n",
              "      <td>0.741433</td>\n",
              "      <td>0.868647</td>\n",
              "    </tr>\n",
              "  </tbody>\n",
              "</table><p>"
            ]
          },
          "metadata": {}
        },
        {
          "output_type": "display_data",
          "data": {
            "text/plain": [
              "<IPython.core.display.HTML object>"
            ],
            "text/html": [
              "\n",
              "    <div>\n",
              "      \n",
              "      <progress value='384' max='384' style='width:300px; height:20px; vertical-align: middle;'></progress>\n",
              "      [384/384 00:23]\n",
              "    </div>\n",
              "    "
            ]
          },
          "metadata": {}
        },
        {
          "output_type": "stream",
          "name": "stderr",
          "text": [
            "Some weights of DistilBertForSequenceClassification were not initialized from the model checkpoint at distilbert-base-uncased and are newly initialized: ['classifier.bias', 'classifier.weight', 'pre_classifier.bias', 'pre_classifier.weight']\n",
            "You should probably TRAIN this model on a down-stream task to be able to use it for predictions and inference.\n",
            "/tmp/ipython-input-383261731.py:44: FutureWarning: `tokenizer` is deprecated and will be removed in version 5.0.0 for `WeightedTrainer.__init__`. Use `processing_class` instead.\n",
            "  trainer = WeightedTrainer(\n"
          ]
        },
        {
          "output_type": "display_data",
          "data": {
            "text/plain": [
              "<IPython.core.display.HTML object>"
            ],
            "text/html": [
              "\n",
              "    <div>\n",
              "      \n",
              "      <progress value='3584' max='3584' style='width:300px; height:20px; vertical-align: middle;'></progress>\n",
              "      [3584/3584 12:16, Epoch 2/2]\n",
              "    </div>\n",
              "    <table border=\"1\" class=\"dataframe\">\n",
              "  <thead>\n",
              " <tr style=\"text-align: left;\">\n",
              "      <th>Epoch</th>\n",
              "      <th>Training Loss</th>\n",
              "      <th>Validation Loss</th>\n",
              "      <th>Accuracy</th>\n",
              "      <th>Macro Precision</th>\n",
              "      <th>Macro Recall</th>\n",
              "      <th>Macro F1</th>\n",
              "      <th>Weighted F1</th>\n",
              "    </tr>\n",
              "  </thead>\n",
              "  <tbody>\n",
              "    <tr>\n",
              "      <td>1</td>\n",
              "      <td>0.673900</td>\n",
              "      <td>0.617329</td>\n",
              "      <td>0.874959</td>\n",
              "      <td>0.743248</td>\n",
              "      <td>0.756317</td>\n",
              "      <td>0.749515</td>\n",
              "      <td>0.875701</td>\n",
              "    </tr>\n",
              "    <tr>\n",
              "      <td>2</td>\n",
              "      <td>0.559500</td>\n",
              "      <td>0.657642</td>\n",
              "      <td>0.864865</td>\n",
              "      <td>0.733137</td>\n",
              "      <td>0.758954</td>\n",
              "      <td>0.744248</td>\n",
              "      <td>0.870553</td>\n",
              "    </tr>\n",
              "  </tbody>\n",
              "</table><p>"
            ]
          },
          "metadata": {}
        },
        {
          "output_type": "display_data",
          "data": {
            "text/plain": [
              "<IPython.core.display.HTML object>"
            ],
            "text/html": [
              "\n",
              "    <div>\n",
              "      \n",
              "      <progress value='384' max='384' style='width:300px; height:20px; vertical-align: middle;'></progress>\n",
              "      [384/384 00:23]\n",
              "    </div>\n",
              "    "
            ]
          },
          "metadata": {}
        },
        {
          "output_type": "stream",
          "name": "stderr",
          "text": [
            "Some weights of DistilBertForSequenceClassification were not initialized from the model checkpoint at distilbert-base-uncased and are newly initialized: ['classifier.bias', 'classifier.weight', 'pre_classifier.bias', 'pre_classifier.weight']\n",
            "You should probably TRAIN this model on a down-stream task to be able to use it for predictions and inference.\n",
            "/tmp/ipython-input-383261731.py:44: FutureWarning: `tokenizer` is deprecated and will be removed in version 5.0.0 for `WeightedTrainer.__init__`. Use `processing_class` instead.\n",
            "  trainer = WeightedTrainer(\n"
          ]
        },
        {
          "output_type": "display_data",
          "data": {
            "text/plain": [
              "<IPython.core.display.HTML object>"
            ],
            "text/html": [
              "\n",
              "    <div>\n",
              "      \n",
              "      <progress value='3584' max='3584' style='width:300px; height:20px; vertical-align: middle;'></progress>\n",
              "      [3584/3584 12:07, Epoch 2/2]\n",
              "    </div>\n",
              "    <table border=\"1\" class=\"dataframe\">\n",
              "  <thead>\n",
              " <tr style=\"text-align: left;\">\n",
              "      <th>Epoch</th>\n",
              "      <th>Training Loss</th>\n",
              "      <th>Validation Loss</th>\n",
              "      <th>Accuracy</th>\n",
              "      <th>Macro Precision</th>\n",
              "      <th>Macro Recall</th>\n",
              "      <th>Macro F1</th>\n",
              "      <th>Weighted F1</th>\n",
              "    </tr>\n",
              "  </thead>\n",
              "  <tbody>\n",
              "    <tr>\n",
              "      <td>1</td>\n",
              "      <td>0.667900</td>\n",
              "      <td>0.612145</td>\n",
              "      <td>0.868772</td>\n",
              "      <td>0.743553</td>\n",
              "      <td>0.751799</td>\n",
              "      <td>0.746107</td>\n",
              "      <td>0.872861</td>\n",
              "    </tr>\n",
              "    <tr>\n",
              "      <td>2</td>\n",
              "      <td>0.586600</td>\n",
              "      <td>0.656945</td>\n",
              "      <td>0.869424</td>\n",
              "      <td>0.742025</td>\n",
              "      <td>0.765705</td>\n",
              "      <td>0.751792</td>\n",
              "      <td>0.875212</td>\n",
              "    </tr>\n",
              "  </tbody>\n",
              "</table><p>"
            ]
          },
          "metadata": {}
        },
        {
          "output_type": "display_data",
          "data": {
            "text/plain": [
              "<IPython.core.display.HTML object>"
            ],
            "text/html": [
              "\n",
              "    <div>\n",
              "      \n",
              "      <progress value='384' max='384' style='width:300px; height:20px; vertical-align: middle;'></progress>\n",
              "      [384/384 00:23]\n",
              "    </div>\n",
              "    "
            ]
          },
          "metadata": {}
        },
        {
          "output_type": "stream",
          "name": "stderr",
          "text": [
            "Some weights of DistilBertForSequenceClassification were not initialized from the model checkpoint at distilbert-base-uncased and are newly initialized: ['classifier.bias', 'classifier.weight', 'pre_classifier.bias', 'pre_classifier.weight']\n",
            "You should probably TRAIN this model on a down-stream task to be able to use it for predictions and inference.\n",
            "/tmp/ipython-input-383261731.py:44: FutureWarning: `tokenizer` is deprecated and will be removed in version 5.0.0 for `WeightedTrainer.__init__`. Use `processing_class` instead.\n",
            "  trainer = WeightedTrainer(\n"
          ]
        },
        {
          "output_type": "display_data",
          "data": {
            "text/plain": [
              "<IPython.core.display.HTML object>"
            ],
            "text/html": [
              "\n",
              "    <div>\n",
              "      \n",
              "      <progress value='3584' max='3584' style='width:300px; height:20px; vertical-align: middle;'></progress>\n",
              "      [3584/3584 12:11, Epoch 2/2]\n",
              "    </div>\n",
              "    <table border=\"1\" class=\"dataframe\">\n",
              "  <thead>\n",
              " <tr style=\"text-align: left;\">\n",
              "      <th>Epoch</th>\n",
              "      <th>Training Loss</th>\n",
              "      <th>Validation Loss</th>\n",
              "      <th>Accuracy</th>\n",
              "      <th>Macro Precision</th>\n",
              "      <th>Macro Recall</th>\n",
              "      <th>Macro F1</th>\n",
              "      <th>Weighted F1</th>\n",
              "    </tr>\n",
              "  </thead>\n",
              "  <tbody>\n",
              "    <tr>\n",
              "      <td>1</td>\n",
              "      <td>0.708900</td>\n",
              "      <td>0.594078</td>\n",
              "      <td>0.868772</td>\n",
              "      <td>0.742383</td>\n",
              "      <td>0.758329</td>\n",
              "      <td>0.748679</td>\n",
              "      <td>0.873765</td>\n",
              "    </tr>\n",
              "    <tr>\n",
              "      <td>2</td>\n",
              "      <td>0.544800</td>\n",
              "      <td>0.652714</td>\n",
              "      <td>0.865516</td>\n",
              "      <td>0.740885</td>\n",
              "      <td>0.763943</td>\n",
              "      <td>0.749111</td>\n",
              "      <td>0.872674</td>\n",
              "    </tr>\n",
              "  </tbody>\n",
              "</table><p>"
            ]
          },
          "metadata": {}
        },
        {
          "output_type": "display_data",
          "data": {
            "text/plain": [
              "<IPython.core.display.HTML object>"
            ],
            "text/html": [
              "\n",
              "    <div>\n",
              "      \n",
              "      <progress value='384' max='384' style='width:300px; height:20px; vertical-align: middle;'></progress>\n",
              "      [384/384 00:23]\n",
              "    </div>\n",
              "    "
            ]
          },
          "metadata": {}
        },
        {
          "output_type": "stream",
          "name": "stderr",
          "text": [
            "Some weights of DistilBertForSequenceClassification were not initialized from the model checkpoint at distilbert-base-uncased and are newly initialized: ['classifier.bias', 'classifier.weight', 'pre_classifier.bias', 'pre_classifier.weight']\n",
            "You should probably TRAIN this model on a down-stream task to be able to use it for predictions and inference.\n",
            "/tmp/ipython-input-383261731.py:44: FutureWarning: `tokenizer` is deprecated and will be removed in version 5.0.0 for `WeightedTrainer.__init__`. Use `processing_class` instead.\n",
            "  trainer = WeightedTrainer(\n"
          ]
        },
        {
          "output_type": "display_data",
          "data": {
            "text/plain": [
              "<IPython.core.display.HTML object>"
            ],
            "text/html": [
              "\n",
              "    <div>\n",
              "      \n",
              "      <progress value='3584' max='3584' style='width:300px; height:20px; vertical-align: middle;'></progress>\n",
              "      [3584/3584 12:03, Epoch 2/2]\n",
              "    </div>\n",
              "    <table border=\"1\" class=\"dataframe\">\n",
              "  <thead>\n",
              " <tr style=\"text-align: left;\">\n",
              "      <th>Epoch</th>\n",
              "      <th>Training Loss</th>\n",
              "      <th>Validation Loss</th>\n",
              "      <th>Accuracy</th>\n",
              "      <th>Macro Precision</th>\n",
              "      <th>Macro Recall</th>\n",
              "      <th>Macro F1</th>\n",
              "      <th>Weighted F1</th>\n",
              "    </tr>\n",
              "  </thead>\n",
              "  <tbody>\n",
              "    <tr>\n",
              "      <td>1</td>\n",
              "      <td>0.665000</td>\n",
              "      <td>0.629270</td>\n",
              "      <td>0.864865</td>\n",
              "      <td>0.729841</td>\n",
              "      <td>0.753290</td>\n",
              "      <td>0.740307</td>\n",
              "      <td>0.869648</td>\n",
              "    </tr>\n",
              "    <tr>\n",
              "      <td>2</td>\n",
              "      <td>0.556800</td>\n",
              "      <td>0.682739</td>\n",
              "      <td>0.865190</td>\n",
              "      <td>0.734288</td>\n",
              "      <td>0.761174</td>\n",
              "      <td>0.745576</td>\n",
              "      <td>0.871383</td>\n",
              "    </tr>\n",
              "  </tbody>\n",
              "</table><p>"
            ]
          },
          "metadata": {}
        },
        {
          "output_type": "display_data",
          "data": {
            "text/plain": [
              "<IPython.core.display.HTML object>"
            ],
            "text/html": [
              "\n",
              "    <div>\n",
              "      \n",
              "      <progress value='384' max='384' style='width:300px; height:20px; vertical-align: middle;'></progress>\n",
              "      [384/384 00:23]\n",
              "    </div>\n",
              "    "
            ]
          },
          "metadata": {}
        },
        {
          "output_type": "stream",
          "name": "stderr",
          "text": [
            "Some weights of DistilBertForSequenceClassification were not initialized from the model checkpoint at distilbert-base-uncased and are newly initialized: ['classifier.bias', 'classifier.weight', 'pre_classifier.bias', 'pre_classifier.weight']\n",
            "You should probably TRAIN this model on a down-stream task to be able to use it for predictions and inference.\n",
            "/tmp/ipython-input-383261731.py:44: FutureWarning: `tokenizer` is deprecated and will be removed in version 5.0.0 for `WeightedTrainer.__init__`. Use `processing_class` instead.\n",
            "  trainer = WeightedTrainer(\n"
          ]
        },
        {
          "output_type": "display_data",
          "data": {
            "text/plain": [
              "<IPython.core.display.HTML object>"
            ],
            "text/html": [
              "\n",
              "    <div>\n",
              "      \n",
              "      <progress value='3584' max='3584' style='width:300px; height:20px; vertical-align: middle;'></progress>\n",
              "      [3584/3584 12:01, Epoch 2/2]\n",
              "    </div>\n",
              "    <table border=\"1\" class=\"dataframe\">\n",
              "  <thead>\n",
              " <tr style=\"text-align: left;\">\n",
              "      <th>Epoch</th>\n",
              "      <th>Training Loss</th>\n",
              "      <th>Validation Loss</th>\n",
              "      <th>Accuracy</th>\n",
              "      <th>Macro Precision</th>\n",
              "      <th>Macro Recall</th>\n",
              "      <th>Macro F1</th>\n",
              "      <th>Weighted F1</th>\n",
              "    </tr>\n",
              "  </thead>\n",
              "  <tbody>\n",
              "    <tr>\n",
              "      <td>1</td>\n",
              "      <td>0.677600</td>\n",
              "      <td>0.628449</td>\n",
              "      <td>0.867144</td>\n",
              "      <td>0.734356</td>\n",
              "      <td>0.749738</td>\n",
              "      <td>0.741541</td>\n",
              "      <td>0.870162</td>\n",
              "    </tr>\n",
              "    <tr>\n",
              "      <td>2</td>\n",
              "      <td>0.536200</td>\n",
              "      <td>0.647202</td>\n",
              "      <td>0.869098</td>\n",
              "      <td>0.744408</td>\n",
              "      <td>0.765886</td>\n",
              "      <td>0.753280</td>\n",
              "      <td>0.874363</td>\n",
              "    </tr>\n",
              "  </tbody>\n",
              "</table><p>"
            ]
          },
          "metadata": {}
        },
        {
          "output_type": "display_data",
          "data": {
            "text/plain": [
              "<IPython.core.display.HTML object>"
            ],
            "text/html": [
              "\n",
              "    <div>\n",
              "      \n",
              "      <progress value='384' max='384' style='width:300px; height:20px; vertical-align: middle;'></progress>\n",
              "      [384/384 00:23]\n",
              "    </div>\n",
              "    "
            ]
          },
          "metadata": {}
        },
        {
          "output_type": "stream",
          "name": "stderr",
          "text": [
            "Some weights of DistilBertForSequenceClassification were not initialized from the model checkpoint at distilbert-base-uncased and are newly initialized: ['classifier.bias', 'classifier.weight', 'pre_classifier.bias', 'pre_classifier.weight']\n",
            "You should probably TRAIN this model on a down-stream task to be able to use it for predictions and inference.\n",
            "/tmp/ipython-input-383261731.py:44: FutureWarning: `tokenizer` is deprecated and will be removed in version 5.0.0 for `WeightedTrainer.__init__`. Use `processing_class` instead.\n",
            "  trainer = WeightedTrainer(\n"
          ]
        },
        {
          "output_type": "display_data",
          "data": {
            "text/plain": [
              "<IPython.core.display.HTML object>"
            ],
            "text/html": [
              "\n",
              "    <div>\n",
              "      \n",
              "      <progress value='5376' max='5376' style='width:300px; height:20px; vertical-align: middle;'></progress>\n",
              "      [5376/5376 18:10, Epoch 3/3]\n",
              "    </div>\n",
              "    <table border=\"1\" class=\"dataframe\">\n",
              "  <thead>\n",
              " <tr style=\"text-align: left;\">\n",
              "      <th>Epoch</th>\n",
              "      <th>Training Loss</th>\n",
              "      <th>Validation Loss</th>\n",
              "      <th>Accuracy</th>\n",
              "      <th>Macro Precision</th>\n",
              "      <th>Macro Recall</th>\n",
              "      <th>Macro F1</th>\n",
              "      <th>Weighted F1</th>\n",
              "    </tr>\n",
              "  </thead>\n",
              "  <tbody>\n",
              "    <tr>\n",
              "      <td>1</td>\n",
              "      <td>0.657300</td>\n",
              "      <td>0.600505</td>\n",
              "      <td>0.866167</td>\n",
              "      <td>0.733001</td>\n",
              "      <td>0.745808</td>\n",
              "      <td>0.738977</td>\n",
              "      <td>0.869001</td>\n",
              "    </tr>\n",
              "    <tr>\n",
              "      <td>2</td>\n",
              "      <td>0.573800</td>\n",
              "      <td>0.634655</td>\n",
              "      <td>0.864214</td>\n",
              "      <td>0.742733</td>\n",
              "      <td>0.759977</td>\n",
              "      <td>0.748441</td>\n",
              "      <td>0.870512</td>\n",
              "    </tr>\n",
              "    <tr>\n",
              "      <td>3</td>\n",
              "      <td>0.674100</td>\n",
              "      <td>0.752880</td>\n",
              "      <td>0.863888</td>\n",
              "      <td>0.734469</td>\n",
              "      <td>0.753280</td>\n",
              "      <td>0.742555</td>\n",
              "      <td>0.868723</td>\n",
              "    </tr>\n",
              "  </tbody>\n",
              "</table><p>"
            ]
          },
          "metadata": {}
        },
        {
          "output_type": "display_data",
          "data": {
            "text/plain": [
              "<IPython.core.display.HTML object>"
            ],
            "text/html": [
              "\n",
              "    <div>\n",
              "      \n",
              "      <progress value='384' max='384' style='width:300px; height:20px; vertical-align: middle;'></progress>\n",
              "      [384/384 00:23]\n",
              "    </div>\n",
              "    "
            ]
          },
          "metadata": {}
        },
        {
          "output_type": "stream",
          "name": "stderr",
          "text": [
            "Some weights of DistilBertForSequenceClassification were not initialized from the model checkpoint at distilbert-base-uncased and are newly initialized: ['classifier.bias', 'classifier.weight', 'pre_classifier.bias', 'pre_classifier.weight']\n",
            "You should probably TRAIN this model on a down-stream task to be able to use it for predictions and inference.\n",
            "/tmp/ipython-input-383261731.py:44: FutureWarning: `tokenizer` is deprecated and will be removed in version 5.0.0 for `WeightedTrainer.__init__`. Use `processing_class` instead.\n",
            "  trainer = WeightedTrainer(\n"
          ]
        },
        {
          "output_type": "display_data",
          "data": {
            "text/plain": [
              "<IPython.core.display.HTML object>"
            ],
            "text/html": [
              "\n",
              "    <div>\n",
              "      \n",
              "      <progress value='5376' max='5376' style='width:300px; height:20px; vertical-align: middle;'></progress>\n",
              "      [5376/5376 18:03, Epoch 3/3]\n",
              "    </div>\n",
              "    <table border=\"1\" class=\"dataframe\">\n",
              "  <thead>\n",
              " <tr style=\"text-align: left;\">\n",
              "      <th>Epoch</th>\n",
              "      <th>Training Loss</th>\n",
              "      <th>Validation Loss</th>\n",
              "      <th>Accuracy</th>\n",
              "      <th>Macro Precision</th>\n",
              "      <th>Macro Recall</th>\n",
              "      <th>Macro F1</th>\n",
              "      <th>Weighted F1</th>\n",
              "    </tr>\n",
              "  </thead>\n",
              "  <tbody>\n",
              "    <tr>\n",
              "      <td>1</td>\n",
              "      <td>0.648700</td>\n",
              "      <td>0.615526</td>\n",
              "      <td>0.875936</td>\n",
              "      <td>0.749276</td>\n",
              "      <td>0.752845</td>\n",
              "      <td>0.751029</td>\n",
              "      <td>0.876629</td>\n",
              "    </tr>\n",
              "    <tr>\n",
              "      <td>2</td>\n",
              "      <td>0.566000</td>\n",
              "      <td>0.639888</td>\n",
              "      <td>0.868447</td>\n",
              "      <td>0.745281</td>\n",
              "      <td>0.752740</td>\n",
              "      <td>0.747273</td>\n",
              "      <td>0.872738</td>\n",
              "    </tr>\n",
              "    <tr>\n",
              "      <td>3</td>\n",
              "      <td>0.648200</td>\n",
              "      <td>0.750286</td>\n",
              "      <td>0.868121</td>\n",
              "      <td>0.736796</td>\n",
              "      <td>0.758133</td>\n",
              "      <td>0.746438</td>\n",
              "      <td>0.872421</td>\n",
              "    </tr>\n",
              "  </tbody>\n",
              "</table><p>"
            ]
          },
          "metadata": {}
        },
        {
          "output_type": "display_data",
          "data": {
            "text/plain": [
              "<IPython.core.display.HTML object>"
            ],
            "text/html": [
              "\n",
              "    <div>\n",
              "      \n",
              "      <progress value='384' max='384' style='width:300px; height:20px; vertical-align: middle;'></progress>\n",
              "      [384/384 00:23]\n",
              "    </div>\n",
              "    "
            ]
          },
          "metadata": {}
        },
        {
          "output_type": "stream",
          "name": "stderr",
          "text": [
            "Some weights of DistilBertForSequenceClassification were not initialized from the model checkpoint at distilbert-base-uncased and are newly initialized: ['classifier.bias', 'classifier.weight', 'pre_classifier.bias', 'pre_classifier.weight']\n",
            "You should probably TRAIN this model on a down-stream task to be able to use it for predictions and inference.\n",
            "/tmp/ipython-input-383261731.py:44: FutureWarning: `tokenizer` is deprecated and will be removed in version 5.0.0 for `WeightedTrainer.__init__`. Use `processing_class` instead.\n",
            "  trainer = WeightedTrainer(\n"
          ]
        },
        {
          "output_type": "display_data",
          "data": {
            "text/plain": [
              "<IPython.core.display.HTML object>"
            ],
            "text/html": [
              "\n",
              "    <div>\n",
              "      \n",
              "      <progress value='5376' max='5376' style='width:300px; height:20px; vertical-align: middle;'></progress>\n",
              "      [5376/5376 18:07, Epoch 3/3]\n",
              "    </div>\n",
              "    <table border=\"1\" class=\"dataframe\">\n",
              "  <thead>\n",
              " <tr style=\"text-align: left;\">\n",
              "      <th>Epoch</th>\n",
              "      <th>Training Loss</th>\n",
              "      <th>Validation Loss</th>\n",
              "      <th>Accuracy</th>\n",
              "      <th>Macro Precision</th>\n",
              "      <th>Macro Recall</th>\n",
              "      <th>Macro F1</th>\n",
              "      <th>Weighted F1</th>\n",
              "    </tr>\n",
              "  </thead>\n",
              "  <tbody>\n",
              "    <tr>\n",
              "      <td>1</td>\n",
              "      <td>0.674200</td>\n",
              "      <td>0.612343</td>\n",
              "      <td>0.871703</td>\n",
              "      <td>0.742983</td>\n",
              "      <td>0.754634</td>\n",
              "      <td>0.748542</td>\n",
              "      <td>0.873783</td>\n",
              "    </tr>\n",
              "    <tr>\n",
              "      <td>2</td>\n",
              "      <td>0.570100</td>\n",
              "      <td>0.646092</td>\n",
              "      <td>0.866493</td>\n",
              "      <td>0.742370</td>\n",
              "      <td>0.753705</td>\n",
              "      <td>0.746267</td>\n",
              "      <td>0.871291</td>\n",
              "    </tr>\n",
              "    <tr>\n",
              "      <td>3</td>\n",
              "      <td>0.589600</td>\n",
              "      <td>0.712219</td>\n",
              "      <td>0.861934</td>\n",
              "      <td>0.727728</td>\n",
              "      <td>0.755333</td>\n",
              "      <td>0.739895</td>\n",
              "      <td>0.867575</td>\n",
              "    </tr>\n",
              "  </tbody>\n",
              "</table><p>"
            ]
          },
          "metadata": {}
        },
        {
          "output_type": "display_data",
          "data": {
            "text/plain": [
              "<IPython.core.display.HTML object>"
            ],
            "text/html": [
              "\n",
              "    <div>\n",
              "      \n",
              "      <progress value='384' max='384' style='width:300px; height:20px; vertical-align: middle;'></progress>\n",
              "      [384/384 00:23]\n",
              "    </div>\n",
              "    "
            ]
          },
          "metadata": {}
        },
        {
          "output_type": "stream",
          "name": "stderr",
          "text": [
            "Some weights of DistilBertForSequenceClassification were not initialized from the model checkpoint at distilbert-base-uncased and are newly initialized: ['classifier.bias', 'classifier.weight', 'pre_classifier.bias', 'pre_classifier.weight']\n",
            "You should probably TRAIN this model on a down-stream task to be able to use it for predictions and inference.\n",
            "/tmp/ipython-input-383261731.py:44: FutureWarning: `tokenizer` is deprecated and will be removed in version 5.0.0 for `WeightedTrainer.__init__`. Use `processing_class` instead.\n",
            "  trainer = WeightedTrainer(\n"
          ]
        },
        {
          "output_type": "display_data",
          "data": {
            "text/plain": [
              "<IPython.core.display.HTML object>"
            ],
            "text/html": [
              "\n",
              "    <div>\n",
              "      \n",
              "      <progress value='5376' max='5376' style='width:300px; height:20px; vertical-align: middle;'></progress>\n",
              "      [5376/5376 18:03, Epoch 3/3]\n",
              "    </div>\n",
              "    <table border=\"1\" class=\"dataframe\">\n",
              "  <thead>\n",
              " <tr style=\"text-align: left;\">\n",
              "      <th>Epoch</th>\n",
              "      <th>Training Loss</th>\n",
              "      <th>Validation Loss</th>\n",
              "      <th>Accuracy</th>\n",
              "      <th>Macro Precision</th>\n",
              "      <th>Macro Recall</th>\n",
              "      <th>Macro F1</th>\n",
              "      <th>Weighted F1</th>\n",
              "    </tr>\n",
              "  </thead>\n",
              "  <tbody>\n",
              "    <tr>\n",
              "      <td>1</td>\n",
              "      <td>0.665500</td>\n",
              "      <td>0.625650</td>\n",
              "      <td>0.876587</td>\n",
              "      <td>0.752965</td>\n",
              "      <td>0.747042</td>\n",
              "      <td>0.749956</td>\n",
              "      <td>0.876189</td>\n",
              "    </tr>\n",
              "    <tr>\n",
              "      <td>2</td>\n",
              "      <td>0.569300</td>\n",
              "      <td>0.644008</td>\n",
              "      <td>0.868447</td>\n",
              "      <td>0.745065</td>\n",
              "      <td>0.751868</td>\n",
              "      <td>0.746718</td>\n",
              "      <td>0.872753</td>\n",
              "    </tr>\n",
              "    <tr>\n",
              "      <td>3</td>\n",
              "      <td>0.588300</td>\n",
              "      <td>0.724134</td>\n",
              "      <td>0.865842</td>\n",
              "      <td>0.734313</td>\n",
              "      <td>0.764078</td>\n",
              "      <td>0.747226</td>\n",
              "      <td>0.871804</td>\n",
              "    </tr>\n",
              "  </tbody>\n",
              "</table><p>"
            ]
          },
          "metadata": {}
        },
        {
          "output_type": "display_data",
          "data": {
            "text/plain": [
              "<IPython.core.display.HTML object>"
            ],
            "text/html": [
              "\n",
              "    <div>\n",
              "      \n",
              "      <progress value='384' max='384' style='width:300px; height:20px; vertical-align: middle;'></progress>\n",
              "      [384/384 00:23]\n",
              "    </div>\n",
              "    "
            ]
          },
          "metadata": {}
        },
        {
          "output_type": "stream",
          "name": "stderr",
          "text": [
            "Some weights of DistilBertForSequenceClassification were not initialized from the model checkpoint at distilbert-base-uncased and are newly initialized: ['classifier.bias', 'classifier.weight', 'pre_classifier.bias', 'pre_classifier.weight']\n",
            "You should probably TRAIN this model on a down-stream task to be able to use it for predictions and inference.\n",
            "/tmp/ipython-input-383261731.py:44: FutureWarning: `tokenizer` is deprecated and will be removed in version 5.0.0 for `WeightedTrainer.__init__`. Use `processing_class` instead.\n",
            "  trainer = WeightedTrainer(\n"
          ]
        },
        {
          "output_type": "display_data",
          "data": {
            "text/plain": [
              "<IPython.core.display.HTML object>"
            ],
            "text/html": [
              "\n",
              "    <div>\n",
              "      \n",
              "      <progress value='5376' max='5376' style='width:300px; height:20px; vertical-align: middle;'></progress>\n",
              "      [5376/5376 18:04, Epoch 3/3]\n",
              "    </div>\n",
              "    <table border=\"1\" class=\"dataframe\">\n",
              "  <thead>\n",
              " <tr style=\"text-align: left;\">\n",
              "      <th>Epoch</th>\n",
              "      <th>Training Loss</th>\n",
              "      <th>Validation Loss</th>\n",
              "      <th>Accuracy</th>\n",
              "      <th>Macro Precision</th>\n",
              "      <th>Macro Recall</th>\n",
              "      <th>Macro F1</th>\n",
              "      <th>Weighted F1</th>\n",
              "    </tr>\n",
              "  </thead>\n",
              "  <tbody>\n",
              "    <tr>\n",
              "      <td>1</td>\n",
              "      <td>0.710400</td>\n",
              "      <td>0.595696</td>\n",
              "      <td>0.869098</td>\n",
              "      <td>0.747007</td>\n",
              "      <td>0.759027</td>\n",
              "      <td>0.751180</td>\n",
              "      <td>0.873682</td>\n",
              "    </tr>\n",
              "    <tr>\n",
              "      <td>2</td>\n",
              "      <td>0.610900</td>\n",
              "      <td>0.645316</td>\n",
              "      <td>0.870075</td>\n",
              "      <td>0.753428</td>\n",
              "      <td>0.760781</td>\n",
              "      <td>0.754635</td>\n",
              "      <td>0.874802</td>\n",
              "    </tr>\n",
              "    <tr>\n",
              "      <td>3</td>\n",
              "      <td>0.617500</td>\n",
              "      <td>0.797994</td>\n",
              "      <td>0.869424</td>\n",
              "      <td>0.741687</td>\n",
              "      <td>0.758729</td>\n",
              "      <td>0.748895</td>\n",
              "      <td>0.874015</td>\n",
              "    </tr>\n",
              "  </tbody>\n",
              "</table><p>"
            ]
          },
          "metadata": {}
        },
        {
          "output_type": "display_data",
          "data": {
            "text/plain": [
              "<IPython.core.display.HTML object>"
            ],
            "text/html": [
              "\n",
              "    <div>\n",
              "      \n",
              "      <progress value='384' max='384' style='width:300px; height:20px; vertical-align: middle;'></progress>\n",
              "      [384/384 00:23]\n",
              "    </div>\n",
              "    "
            ]
          },
          "metadata": {}
        },
        {
          "output_type": "stream",
          "name": "stderr",
          "text": [
            "Some weights of DistilBertForSequenceClassification were not initialized from the model checkpoint at distilbert-base-uncased and are newly initialized: ['classifier.bias', 'classifier.weight', 'pre_classifier.bias', 'pre_classifier.weight']\n",
            "You should probably TRAIN this model on a down-stream task to be able to use it for predictions and inference.\n",
            "/tmp/ipython-input-383261731.py:44: FutureWarning: `tokenizer` is deprecated and will be removed in version 5.0.0 for `WeightedTrainer.__init__`. Use `processing_class` instead.\n",
            "  trainer = WeightedTrainer(\n"
          ]
        },
        {
          "output_type": "display_data",
          "data": {
            "text/plain": [
              "<IPython.core.display.HTML object>"
            ],
            "text/html": [
              "\n",
              "    <div>\n",
              "      \n",
              "      <progress value='5376' max='5376' style='width:300px; height:20px; vertical-align: middle;'></progress>\n",
              "      [5376/5376 18:03, Epoch 3/3]\n",
              "    </div>\n",
              "    <table border=\"1\" class=\"dataframe\">\n",
              "  <thead>\n",
              " <tr style=\"text-align: left;\">\n",
              "      <th>Epoch</th>\n",
              "      <th>Training Loss</th>\n",
              "      <th>Validation Loss</th>\n",
              "      <th>Accuracy</th>\n",
              "      <th>Macro Precision</th>\n",
              "      <th>Macro Recall</th>\n",
              "      <th>Macro F1</th>\n",
              "      <th>Weighted F1</th>\n",
              "    </tr>\n",
              "  </thead>\n",
              "  <tbody>\n",
              "    <tr>\n",
              "      <td>1</td>\n",
              "      <td>0.713600</td>\n",
              "      <td>0.621717</td>\n",
              "      <td>0.866819</td>\n",
              "      <td>0.727530</td>\n",
              "      <td>0.744136</td>\n",
              "      <td>0.735482</td>\n",
              "      <td>0.868504</td>\n",
              "    </tr>\n",
              "    <tr>\n",
              "      <td>2</td>\n",
              "      <td>0.582600</td>\n",
              "      <td>0.689618</td>\n",
              "      <td>0.876262</td>\n",
              "      <td>0.754267</td>\n",
              "      <td>0.740797</td>\n",
              "      <td>0.747217</td>\n",
              "      <td>0.875688</td>\n",
              "    </tr>\n",
              "    <tr>\n",
              "      <td>3</td>\n",
              "      <td>0.543000</td>\n",
              "      <td>0.823706</td>\n",
              "      <td>0.871377</td>\n",
              "      <td>0.743104</td>\n",
              "      <td>0.756125</td>\n",
              "      <td>0.749023</td>\n",
              "      <td>0.874402</td>\n",
              "    </tr>\n",
              "  </tbody>\n",
              "</table><p>"
            ]
          },
          "metadata": {}
        },
        {
          "output_type": "display_data",
          "data": {
            "text/plain": [
              "<IPython.core.display.HTML object>"
            ],
            "text/html": [
              "\n",
              "    <div>\n",
              "      \n",
              "      <progress value='384' max='384' style='width:300px; height:20px; vertical-align: middle;'></progress>\n",
              "      [384/384 00:23]\n",
              "    </div>\n",
              "    "
            ]
          },
          "metadata": {}
        },
        {
          "output_type": "stream",
          "name": "stderr",
          "text": [
            "Some weights of DistilBertForSequenceClassification were not initialized from the model checkpoint at distilbert-base-uncased and are newly initialized: ['classifier.bias', 'classifier.weight', 'pre_classifier.bias', 'pre_classifier.weight']\n",
            "You should probably TRAIN this model on a down-stream task to be able to use it for predictions and inference.\n",
            "/tmp/ipython-input-383261731.py:44: FutureWarning: `tokenizer` is deprecated and will be removed in version 5.0.0 for `WeightedTrainer.__init__`. Use `processing_class` instead.\n",
            "  trainer = WeightedTrainer(\n"
          ]
        },
        {
          "output_type": "display_data",
          "data": {
            "text/plain": [
              "<IPython.core.display.HTML object>"
            ],
            "text/html": [
              "\n",
              "    <div>\n",
              "      \n",
              "      <progress value='5376' max='5376' style='width:300px; height:20px; vertical-align: middle;'></progress>\n",
              "      [5376/5376 18:02, Epoch 3/3]\n",
              "    </div>\n",
              "    <table border=\"1\" class=\"dataframe\">\n",
              "  <thead>\n",
              " <tr style=\"text-align: left;\">\n",
              "      <th>Epoch</th>\n",
              "      <th>Training Loss</th>\n",
              "      <th>Validation Loss</th>\n",
              "      <th>Accuracy</th>\n",
              "      <th>Macro Precision</th>\n",
              "      <th>Macro Recall</th>\n",
              "      <th>Macro F1</th>\n",
              "      <th>Weighted F1</th>\n",
              "    </tr>\n",
              "  </thead>\n",
              "  <tbody>\n",
              "    <tr>\n",
              "      <td>1</td>\n",
              "      <td>0.691000</td>\n",
              "      <td>0.620444</td>\n",
              "      <td>0.870401</td>\n",
              "      <td>0.740547</td>\n",
              "      <td>0.755900</td>\n",
              "      <td>0.747804</td>\n",
              "      <td>0.872984</td>\n",
              "    </tr>\n",
              "    <tr>\n",
              "      <td>2</td>\n",
              "      <td>0.601500</td>\n",
              "      <td>0.658801</td>\n",
              "      <td>0.876262</td>\n",
              "      <td>0.756502</td>\n",
              "      <td>0.760303</td>\n",
              "      <td>0.757713</td>\n",
              "      <td>0.878619</td>\n",
              "    </tr>\n",
              "    <tr>\n",
              "      <td>3</td>\n",
              "      <td>0.533200</td>\n",
              "      <td>0.786277</td>\n",
              "      <td>0.871377</td>\n",
              "      <td>0.740393</td>\n",
              "      <td>0.764078</td>\n",
              "      <td>0.751022</td>\n",
              "      <td>0.875895</td>\n",
              "    </tr>\n",
              "  </tbody>\n",
              "</table><p>"
            ]
          },
          "metadata": {}
        },
        {
          "output_type": "display_data",
          "data": {
            "text/plain": [
              "<IPython.core.display.HTML object>"
            ],
            "text/html": [
              "\n",
              "    <div>\n",
              "      \n",
              "      <progress value='384' max='384' style='width:300px; height:20px; vertical-align: middle;'></progress>\n",
              "      [384/384 00:23]\n",
              "    </div>\n",
              "    "
            ]
          },
          "metadata": {}
        },
        {
          "output_type": "stream",
          "name": "stderr",
          "text": [
            "Some weights of DistilBertForSequenceClassification were not initialized from the model checkpoint at distilbert-base-uncased and are newly initialized: ['classifier.bias', 'classifier.weight', 'pre_classifier.bias', 'pre_classifier.weight']\n",
            "You should probably TRAIN this model on a down-stream task to be able to use it for predictions and inference.\n",
            "/tmp/ipython-input-383261731.py:44: FutureWarning: `tokenizer` is deprecated and will be removed in version 5.0.0 for `WeightedTrainer.__init__`. Use `processing_class` instead.\n",
            "  trainer = WeightedTrainer(\n"
          ]
        },
        {
          "output_type": "display_data",
          "data": {
            "text/plain": [
              "<IPython.core.display.HTML object>"
            ],
            "text/html": [
              "\n",
              "    <div>\n",
              "      \n",
              "      <progress value='5376' max='5376' style='width:300px; height:20px; vertical-align: middle;'></progress>\n",
              "      [5376/5376 18:08, Epoch 3/3]\n",
              "    </div>\n",
              "    <table border=\"1\" class=\"dataframe\">\n",
              "  <thead>\n",
              " <tr style=\"text-align: left;\">\n",
              "      <th>Epoch</th>\n",
              "      <th>Training Loss</th>\n",
              "      <th>Validation Loss</th>\n",
              "      <th>Accuracy</th>\n",
              "      <th>Macro Precision</th>\n",
              "      <th>Macro Recall</th>\n",
              "      <th>Macro F1</th>\n",
              "      <th>Weighted F1</th>\n",
              "    </tr>\n",
              "  </thead>\n",
              "  <tbody>\n",
              "    <tr>\n",
              "      <td>1</td>\n",
              "      <td>0.708600</td>\n",
              "      <td>0.623883</td>\n",
              "      <td>0.863237</td>\n",
              "      <td>0.720259</td>\n",
              "      <td>0.743387</td>\n",
              "      <td>0.731134</td>\n",
              "      <td>0.866229</td>\n",
              "    </tr>\n",
              "    <tr>\n",
              "      <td>2</td>\n",
              "      <td>0.582800</td>\n",
              "      <td>0.668281</td>\n",
              "      <td>0.873657</td>\n",
              "      <td>0.744844</td>\n",
              "      <td>0.746916</td>\n",
              "      <td>0.745722</td>\n",
              "      <td>0.874886</td>\n",
              "    </tr>\n",
              "    <tr>\n",
              "      <td>3</td>\n",
              "      <td>0.437200</td>\n",
              "      <td>0.786339</td>\n",
              "      <td>0.869098</td>\n",
              "      <td>0.735925</td>\n",
              "      <td>0.756071</td>\n",
              "      <td>0.745103</td>\n",
              "      <td>0.873130</td>\n",
              "    </tr>\n",
              "  </tbody>\n",
              "</table><p>"
            ]
          },
          "metadata": {}
        },
        {
          "output_type": "display_data",
          "data": {
            "text/plain": [
              "<IPython.core.display.HTML object>"
            ],
            "text/html": [
              "\n",
              "    <div>\n",
              "      \n",
              "      <progress value='384' max='384' style='width:300px; height:20px; vertical-align: middle;'></progress>\n",
              "      [384/384 00:23]\n",
              "    </div>\n",
              "    "
            ]
          },
          "metadata": {}
        },
        {
          "output_type": "stream",
          "name": "stderr",
          "text": [
            "Some weights of DistilBertForSequenceClassification were not initialized from the model checkpoint at distilbert-base-uncased and are newly initialized: ['classifier.bias', 'classifier.weight', 'pre_classifier.bias', 'pre_classifier.weight']\n",
            "You should probably TRAIN this model on a down-stream task to be able to use it for predictions and inference.\n",
            "/tmp/ipython-input-383261731.py:44: FutureWarning: `tokenizer` is deprecated and will be removed in version 5.0.0 for `WeightedTrainer.__init__`. Use `processing_class` instead.\n",
            "  trainer = WeightedTrainer(\n"
          ]
        },
        {
          "output_type": "display_data",
          "data": {
            "text/plain": [
              "<IPython.core.display.HTML object>"
            ],
            "text/html": [
              "\n",
              "    <div>\n",
              "      \n",
              "      <progress value='5376' max='5376' style='width:300px; height:20px; vertical-align: middle;'></progress>\n",
              "      [5376/5376 18:03, Epoch 3/3]\n",
              "    </div>\n",
              "    <table border=\"1\" class=\"dataframe\">\n",
              "  <thead>\n",
              " <tr style=\"text-align: left;\">\n",
              "      <th>Epoch</th>\n",
              "      <th>Training Loss</th>\n",
              "      <th>Validation Loss</th>\n",
              "      <th>Accuracy</th>\n",
              "      <th>Macro Precision</th>\n",
              "      <th>Macro Recall</th>\n",
              "      <th>Macro F1</th>\n",
              "      <th>Weighted F1</th>\n",
              "    </tr>\n",
              "  </thead>\n",
              "  <tbody>\n",
              "    <tr>\n",
              "      <td>1</td>\n",
              "      <td>0.727500</td>\n",
              "      <td>0.642607</td>\n",
              "      <td>0.870726</td>\n",
              "      <td>0.738985</td>\n",
              "      <td>0.756152</td>\n",
              "      <td>0.747110</td>\n",
              "      <td>0.873449</td>\n",
              "    </tr>\n",
              "    <tr>\n",
              "      <td>2</td>\n",
              "      <td>0.595600</td>\n",
              "      <td>0.639250</td>\n",
              "      <td>0.876913</td>\n",
              "      <td>0.755881</td>\n",
              "      <td>0.759942</td>\n",
              "      <td>0.757514</td>\n",
              "      <td>0.878757</td>\n",
              "    </tr>\n",
              "    <tr>\n",
              "      <td>3</td>\n",
              "      <td>0.554600</td>\n",
              "      <td>0.800705</td>\n",
              "      <td>0.880169</td>\n",
              "      <td>0.761153</td>\n",
              "      <td>0.769473</td>\n",
              "      <td>0.765137</td>\n",
              "      <td>0.881636</td>\n",
              "    </tr>\n",
              "  </tbody>\n",
              "</table><p>"
            ]
          },
          "metadata": {}
        },
        {
          "output_type": "display_data",
          "data": {
            "text/plain": [
              "<IPython.core.display.HTML object>"
            ],
            "text/html": [
              "\n",
              "    <div>\n",
              "      \n",
              "      <progress value='384' max='384' style='width:300px; height:20px; vertical-align: middle;'></progress>\n",
              "      [384/384 00:23]\n",
              "    </div>\n",
              "    "
            ]
          },
          "metadata": {}
        },
        {
          "output_type": "stream",
          "name": "stderr",
          "text": [
            "Some weights of DistilBertForSequenceClassification were not initialized from the model checkpoint at distilbert-base-uncased and are newly initialized: ['classifier.bias', 'classifier.weight', 'pre_classifier.bias', 'pre_classifier.weight']\n",
            "You should probably TRAIN this model on a down-stream task to be able to use it for predictions and inference.\n",
            "/tmp/ipython-input-383261731.py:44: FutureWarning: `tokenizer` is deprecated and will be removed in version 5.0.0 for `WeightedTrainer.__init__`. Use `processing_class` instead.\n",
            "  trainer = WeightedTrainer(\n"
          ]
        },
        {
          "output_type": "display_data",
          "data": {
            "text/plain": [
              "<IPython.core.display.HTML object>"
            ],
            "text/html": [
              "\n",
              "    <div>\n",
              "      \n",
              "      <progress value='5376' max='5376' style='width:300px; height:20px; vertical-align: middle;'></progress>\n",
              "      [5376/5376 18:13, Epoch 3/3]\n",
              "    </div>\n",
              "    <table border=\"1\" class=\"dataframe\">\n",
              "  <thead>\n",
              " <tr style=\"text-align: left;\">\n",
              "      <th>Epoch</th>\n",
              "      <th>Training Loss</th>\n",
              "      <th>Validation Loss</th>\n",
              "      <th>Accuracy</th>\n",
              "      <th>Macro Precision</th>\n",
              "      <th>Macro Recall</th>\n",
              "      <th>Macro F1</th>\n",
              "      <th>Weighted F1</th>\n",
              "    </tr>\n",
              "  </thead>\n",
              "  <tbody>\n",
              "    <tr>\n",
              "      <td>1</td>\n",
              "      <td>0.703200</td>\n",
              "      <td>0.585804</td>\n",
              "      <td>0.859980</td>\n",
              "      <td>0.727047</td>\n",
              "      <td>0.760232</td>\n",
              "      <td>0.740923</td>\n",
              "      <td>0.867126</td>\n",
              "    </tr>\n",
              "    <tr>\n",
              "      <td>2</td>\n",
              "      <td>0.573700</td>\n",
              "      <td>0.683446</td>\n",
              "      <td>0.869749</td>\n",
              "      <td>0.742784</td>\n",
              "      <td>0.756700</td>\n",
              "      <td>0.748805</td>\n",
              "      <td>0.873425</td>\n",
              "    </tr>\n",
              "    <tr>\n",
              "      <td>3</td>\n",
              "      <td>0.484800</td>\n",
              "      <td>0.841496</td>\n",
              "      <td>0.871703</td>\n",
              "      <td>0.745651</td>\n",
              "      <td>0.763682</td>\n",
              "      <td>0.753718</td>\n",
              "      <td>0.875514</td>\n",
              "    </tr>\n",
              "  </tbody>\n",
              "</table><p>"
            ]
          },
          "metadata": {}
        },
        {
          "output_type": "display_data",
          "data": {
            "text/plain": [
              "<IPython.core.display.HTML object>"
            ],
            "text/html": [
              "\n",
              "    <div>\n",
              "      \n",
              "      <progress value='384' max='384' style='width:300px; height:20px; vertical-align: middle;'></progress>\n",
              "      [384/384 00:23]\n",
              "    </div>\n",
              "    "
            ]
          },
          "metadata": {}
        },
        {
          "output_type": "stream",
          "name": "stderr",
          "text": [
            "Some weights of DistilBertForSequenceClassification were not initialized from the model checkpoint at distilbert-base-uncased and are newly initialized: ['classifier.bias', 'classifier.weight', 'pre_classifier.bias', 'pre_classifier.weight']\n",
            "You should probably TRAIN this model on a down-stream task to be able to use it for predictions and inference.\n",
            "/tmp/ipython-input-383261731.py:44: FutureWarning: `tokenizer` is deprecated and will be removed in version 5.0.0 for `WeightedTrainer.__init__`. Use `processing_class` instead.\n",
            "  trainer = WeightedTrainer(\n"
          ]
        },
        {
          "output_type": "display_data",
          "data": {
            "text/plain": [
              "<IPython.core.display.HTML object>"
            ],
            "text/html": [
              "\n",
              "    <div>\n",
              "      \n",
              "      <progress value='5376' max='5376' style='width:300px; height:20px; vertical-align: middle;'></progress>\n",
              "      [5376/5376 18:16, Epoch 3/3]\n",
              "    </div>\n",
              "    <table border=\"1\" class=\"dataframe\">\n",
              "  <thead>\n",
              " <tr style=\"text-align: left;\">\n",
              "      <th>Epoch</th>\n",
              "      <th>Training Loss</th>\n",
              "      <th>Validation Loss</th>\n",
              "      <th>Accuracy</th>\n",
              "      <th>Macro Precision</th>\n",
              "      <th>Macro Recall</th>\n",
              "      <th>Macro F1</th>\n",
              "      <th>Weighted F1</th>\n",
              "    </tr>\n",
              "  </thead>\n",
              "  <tbody>\n",
              "    <tr>\n",
              "      <td>1</td>\n",
              "      <td>0.740400</td>\n",
              "      <td>0.627994</td>\n",
              "      <td>0.868772</td>\n",
              "      <td>0.745627</td>\n",
              "      <td>0.752992</td>\n",
              "      <td>0.748445</td>\n",
              "      <td>0.871790</td>\n",
              "    </tr>\n",
              "    <tr>\n",
              "      <td>2</td>\n",
              "      <td>0.631300</td>\n",
              "      <td>0.607439</td>\n",
              "      <td>0.868772</td>\n",
              "      <td>0.742174</td>\n",
              "      <td>0.774013</td>\n",
              "      <td>0.755954</td>\n",
              "      <td>0.874600</td>\n",
              "    </tr>\n",
              "    <tr>\n",
              "      <td>3</td>\n",
              "      <td>0.530600</td>\n",
              "      <td>0.767148</td>\n",
              "      <td>0.876262</td>\n",
              "      <td>0.755773</td>\n",
              "      <td>0.772393</td>\n",
              "      <td>0.762963</td>\n",
              "      <td>0.880080</td>\n",
              "    </tr>\n",
              "  </tbody>\n",
              "</table><p>"
            ]
          },
          "metadata": {}
        },
        {
          "output_type": "display_data",
          "data": {
            "text/plain": [
              "<IPython.core.display.HTML object>"
            ],
            "text/html": [
              "\n",
              "    <div>\n",
              "      \n",
              "      <progress value='384' max='384' style='width:300px; height:20px; vertical-align: middle;'></progress>\n",
              "      [384/384 00:23]\n",
              "    </div>\n",
              "    "
            ]
          },
          "metadata": {}
        },
        {
          "output_type": "stream",
          "name": "stderr",
          "text": [
            "Some weights of DistilBertForSequenceClassification were not initialized from the model checkpoint at distilbert-base-uncased and are newly initialized: ['classifier.bias', 'classifier.weight', 'pre_classifier.bias', 'pre_classifier.weight']\n",
            "You should probably TRAIN this model on a down-stream task to be able to use it for predictions and inference.\n",
            "/tmp/ipython-input-383261731.py:44: FutureWarning: `tokenizer` is deprecated and will be removed in version 5.0.0 for `WeightedTrainer.__init__`. Use `processing_class` instead.\n",
            "  trainer = WeightedTrainer(\n"
          ]
        },
        {
          "output_type": "display_data",
          "data": {
            "text/plain": [
              "<IPython.core.display.HTML object>"
            ],
            "text/html": [
              "\n",
              "    <div>\n",
              "      \n",
              "      <progress value='5376' max='5376' style='width:300px; height:20px; vertical-align: middle;'></progress>\n",
              "      [5376/5376 18:08, Epoch 3/3]\n",
              "    </div>\n",
              "    <table border=\"1\" class=\"dataframe\">\n",
              "  <thead>\n",
              " <tr style=\"text-align: left;\">\n",
              "      <th>Epoch</th>\n",
              "      <th>Training Loss</th>\n",
              "      <th>Validation Loss</th>\n",
              "      <th>Accuracy</th>\n",
              "      <th>Macro Precision</th>\n",
              "      <th>Macro Recall</th>\n",
              "      <th>Macro F1</th>\n",
              "      <th>Weighted F1</th>\n",
              "    </tr>\n",
              "  </thead>\n",
              "  <tbody>\n",
              "    <tr>\n",
              "      <td>1</td>\n",
              "      <td>0.727000</td>\n",
              "      <td>0.583796</td>\n",
              "      <td>0.859655</td>\n",
              "      <td>0.728211</td>\n",
              "      <td>0.758780</td>\n",
              "      <td>0.740654</td>\n",
              "      <td>0.866905</td>\n",
              "    </tr>\n",
              "    <tr>\n",
              "      <td>2</td>\n",
              "      <td>0.600200</td>\n",
              "      <td>0.666844</td>\n",
              "      <td>0.877890</td>\n",
              "      <td>0.757856</td>\n",
              "      <td>0.764416</td>\n",
              "      <td>0.760658</td>\n",
              "      <td>0.880014</td>\n",
              "    </tr>\n",
              "    <tr>\n",
              "      <td>3</td>\n",
              "      <td>0.488500</td>\n",
              "      <td>0.803967</td>\n",
              "      <td>0.875285</td>\n",
              "      <td>0.753396</td>\n",
              "      <td>0.769230</td>\n",
              "      <td>0.759912</td>\n",
              "      <td>0.879536</td>\n",
              "    </tr>\n",
              "  </tbody>\n",
              "</table><p>"
            ]
          },
          "metadata": {}
        },
        {
          "output_type": "display_data",
          "data": {
            "text/plain": [
              "<IPython.core.display.HTML object>"
            ],
            "text/html": [
              "\n",
              "    <div>\n",
              "      \n",
              "      <progress value='384' max='384' style='width:300px; height:20px; vertical-align: middle;'></progress>\n",
              "      [384/384 00:23]\n",
              "    </div>\n",
              "    "
            ]
          },
          "metadata": {}
        },
        {
          "output_type": "stream",
          "name": "stderr",
          "text": [
            "Some weights of DistilBertForSequenceClassification were not initialized from the model checkpoint at distilbert-base-uncased and are newly initialized: ['classifier.bias', 'classifier.weight', 'pre_classifier.bias', 'pre_classifier.weight']\n",
            "You should probably TRAIN this model on a down-stream task to be able to use it for predictions and inference.\n",
            "/tmp/ipython-input-383261731.py:44: FutureWarning: `tokenizer` is deprecated and will be removed in version 5.0.0 for `WeightedTrainer.__init__`. Use `processing_class` instead.\n",
            "  trainer = WeightedTrainer(\n"
          ]
        },
        {
          "output_type": "display_data",
          "data": {
            "text/plain": [
              "<IPython.core.display.HTML object>"
            ],
            "text/html": [
              "\n",
              "    <div>\n",
              "      \n",
              "      <progress value='7168' max='7168' style='width:300px; height:20px; vertical-align: middle;'></progress>\n",
              "      [7168/7168 24:12, Epoch 4/4]\n",
              "    </div>\n",
              "    <table border=\"1\" class=\"dataframe\">\n",
              "  <thead>\n",
              " <tr style=\"text-align: left;\">\n",
              "      <th>Epoch</th>\n",
              "      <th>Training Loss</th>\n",
              "      <th>Validation Loss</th>\n",
              "      <th>Accuracy</th>\n",
              "      <th>Macro Precision</th>\n",
              "      <th>Macro Recall</th>\n",
              "      <th>Macro F1</th>\n",
              "      <th>Weighted F1</th>\n",
              "    </tr>\n",
              "  </thead>\n",
              "  <tbody>\n",
              "    <tr>\n",
              "      <td>1</td>\n",
              "      <td>0.674400</td>\n",
              "      <td>0.614150</td>\n",
              "      <td>0.871377</td>\n",
              "      <td>0.741957</td>\n",
              "      <td>0.753398</td>\n",
              "      <td>0.747441</td>\n",
              "      <td>0.873329</td>\n",
              "    </tr>\n",
              "    <tr>\n",
              "      <td>2</td>\n",
              "      <td>0.575700</td>\n",
              "      <td>0.657063</td>\n",
              "      <td>0.868121</td>\n",
              "      <td>0.751081</td>\n",
              "      <td>0.746607</td>\n",
              "      <td>0.746393</td>\n",
              "      <td>0.871870</td>\n",
              "    </tr>\n",
              "    <tr>\n",
              "      <td>3</td>\n",
              "      <td>0.631000</td>\n",
              "      <td>0.797335</td>\n",
              "      <td>0.867796</td>\n",
              "      <td>0.735745</td>\n",
              "      <td>0.750249</td>\n",
              "      <td>0.742563</td>\n",
              "      <td>0.870580</td>\n",
              "    </tr>\n",
              "    <tr>\n",
              "      <td>4</td>\n",
              "      <td>0.398400</td>\n",
              "      <td>0.842249</td>\n",
              "      <td>0.863562</td>\n",
              "      <td>0.728786</td>\n",
              "      <td>0.756287</td>\n",
              "      <td>0.741113</td>\n",
              "      <td>0.868738</td>\n",
              "    </tr>\n",
              "  </tbody>\n",
              "</table><p>"
            ]
          },
          "metadata": {}
        },
        {
          "output_type": "display_data",
          "data": {
            "text/plain": [
              "<IPython.core.display.HTML object>"
            ],
            "text/html": [
              "\n",
              "    <div>\n",
              "      \n",
              "      <progress value='384' max='384' style='width:300px; height:20px; vertical-align: middle;'></progress>\n",
              "      [384/384 00:23]\n",
              "    </div>\n",
              "    "
            ]
          },
          "metadata": {}
        },
        {
          "output_type": "stream",
          "name": "stderr",
          "text": [
            "Some weights of DistilBertForSequenceClassification were not initialized from the model checkpoint at distilbert-base-uncased and are newly initialized: ['classifier.bias', 'classifier.weight', 'pre_classifier.bias', 'pre_classifier.weight']\n",
            "You should probably TRAIN this model on a down-stream task to be able to use it for predictions and inference.\n",
            "/tmp/ipython-input-383261731.py:44: FutureWarning: `tokenizer` is deprecated and will be removed in version 5.0.0 for `WeightedTrainer.__init__`. Use `processing_class` instead.\n",
            "  trainer = WeightedTrainer(\n"
          ]
        },
        {
          "output_type": "display_data",
          "data": {
            "text/plain": [
              "<IPython.core.display.HTML object>"
            ],
            "text/html": [
              "\n",
              "    <div>\n",
              "      \n",
              "      <progress value='7168' max='7168' style='width:300px; height:20px; vertical-align: middle;'></progress>\n",
              "      [7168/7168 24:17, Epoch 4/4]\n",
              "    </div>\n",
              "    <table border=\"1\" class=\"dataframe\">\n",
              "  <thead>\n",
              " <tr style=\"text-align: left;\">\n",
              "      <th>Epoch</th>\n",
              "      <th>Training Loss</th>\n",
              "      <th>Validation Loss</th>\n",
              "      <th>Accuracy</th>\n",
              "      <th>Macro Precision</th>\n",
              "      <th>Macro Recall</th>\n",
              "      <th>Macro F1</th>\n",
              "      <th>Weighted F1</th>\n",
              "    </tr>\n",
              "  </thead>\n",
              "  <tbody>\n",
              "    <tr>\n",
              "      <td>1</td>\n",
              "      <td>0.674100</td>\n",
              "      <td>0.629605</td>\n",
              "      <td>0.869098</td>\n",
              "      <td>0.733477</td>\n",
              "      <td>0.743319</td>\n",
              "      <td>0.738280</td>\n",
              "      <td>0.870218</td>\n",
              "    </tr>\n",
              "    <tr>\n",
              "      <td>2</td>\n",
              "      <td>0.604000</td>\n",
              "      <td>0.642026</td>\n",
              "      <td>0.870401</td>\n",
              "      <td>0.748119</td>\n",
              "      <td>0.744576</td>\n",
              "      <td>0.745868</td>\n",
              "      <td>0.871742</td>\n",
              "    </tr>\n",
              "    <tr>\n",
              "      <td>3</td>\n",
              "      <td>0.608900</td>\n",
              "      <td>0.780167</td>\n",
              "      <td>0.868447</td>\n",
              "      <td>0.734620</td>\n",
              "      <td>0.752065</td>\n",
              "      <td>0.742942</td>\n",
              "      <td>0.870868</td>\n",
              "    </tr>\n",
              "    <tr>\n",
              "      <td>4</td>\n",
              "      <td>0.412000</td>\n",
              "      <td>0.827510</td>\n",
              "      <td>0.866493</td>\n",
              "      <td>0.731852</td>\n",
              "      <td>0.761534</td>\n",
              "      <td>0.745282</td>\n",
              "      <td>0.871436</td>\n",
              "    </tr>\n",
              "  </tbody>\n",
              "</table><p>"
            ]
          },
          "metadata": {}
        },
        {
          "output_type": "display_data",
          "data": {
            "text/plain": [
              "<IPython.core.display.HTML object>"
            ],
            "text/html": [
              "\n",
              "    <div>\n",
              "      \n",
              "      <progress value='384' max='384' style='width:300px; height:20px; vertical-align: middle;'></progress>\n",
              "      [384/384 00:23]\n",
              "    </div>\n",
              "    "
            ]
          },
          "metadata": {}
        },
        {
          "output_type": "stream",
          "name": "stderr",
          "text": [
            "Some weights of DistilBertForSequenceClassification were not initialized from the model checkpoint at distilbert-base-uncased and are newly initialized: ['classifier.bias', 'classifier.weight', 'pre_classifier.bias', 'pre_classifier.weight']\n",
            "You should probably TRAIN this model on a down-stream task to be able to use it for predictions and inference.\n",
            "/tmp/ipython-input-383261731.py:44: FutureWarning: `tokenizer` is deprecated and will be removed in version 5.0.0 for `WeightedTrainer.__init__`. Use `processing_class` instead.\n",
            "  trainer = WeightedTrainer(\n"
          ]
        },
        {
          "output_type": "display_data",
          "data": {
            "text/plain": [
              "<IPython.core.display.HTML object>"
            ],
            "text/html": [
              "\n",
              "    <div>\n",
              "      \n",
              "      <progress value='7168' max='7168' style='width:300px; height:20px; vertical-align: middle;'></progress>\n",
              "      [7168/7168 24:18, Epoch 4/4]\n",
              "    </div>\n",
              "    <table border=\"1\" class=\"dataframe\">\n",
              "  <thead>\n",
              " <tr style=\"text-align: left;\">\n",
              "      <th>Epoch</th>\n",
              "      <th>Training Loss</th>\n",
              "      <th>Validation Loss</th>\n",
              "      <th>Accuracy</th>\n",
              "      <th>Macro Precision</th>\n",
              "      <th>Macro Recall</th>\n",
              "      <th>Macro F1</th>\n",
              "      <th>Weighted F1</th>\n",
              "    </tr>\n",
              "  </thead>\n",
              "  <tbody>\n",
              "    <tr>\n",
              "      <td>1</td>\n",
              "      <td>0.670400</td>\n",
              "      <td>0.616580</td>\n",
              "      <td>0.864539</td>\n",
              "      <td>0.725943</td>\n",
              "      <td>0.742672</td>\n",
              "      <td>0.733937</td>\n",
              "      <td>0.866922</td>\n",
              "    </tr>\n",
              "    <tr>\n",
              "      <td>2</td>\n",
              "      <td>0.579100</td>\n",
              "      <td>0.627843</td>\n",
              "      <td>0.869098</td>\n",
              "      <td>0.748284</td>\n",
              "      <td>0.755107</td>\n",
              "      <td>0.749933</td>\n",
              "      <td>0.873171</td>\n",
              "    </tr>\n",
              "    <tr>\n",
              "      <td>3</td>\n",
              "      <td>0.654900</td>\n",
              "      <td>0.752312</td>\n",
              "      <td>0.865842</td>\n",
              "      <td>0.735834</td>\n",
              "      <td>0.766910</td>\n",
              "      <td>0.749208</td>\n",
              "      <td>0.872040</td>\n",
              "    </tr>\n",
              "    <tr>\n",
              "      <td>4</td>\n",
              "      <td>0.409600</td>\n",
              "      <td>0.801875</td>\n",
              "      <td>0.868121</td>\n",
              "      <td>0.737695</td>\n",
              "      <td>0.760861</td>\n",
              "      <td>0.747958</td>\n",
              "      <td>0.872913</td>\n",
              "    </tr>\n",
              "  </tbody>\n",
              "</table><p>"
            ]
          },
          "metadata": {}
        },
        {
          "output_type": "display_data",
          "data": {
            "text/plain": [
              "<IPython.core.display.HTML object>"
            ],
            "text/html": [
              "\n",
              "    <div>\n",
              "      \n",
              "      <progress value='384' max='384' style='width:300px; height:20px; vertical-align: middle;'></progress>\n",
              "      [384/384 00:23]\n",
              "    </div>\n",
              "    "
            ]
          },
          "metadata": {}
        },
        {
          "output_type": "stream",
          "name": "stderr",
          "text": [
            "Some weights of DistilBertForSequenceClassification were not initialized from the model checkpoint at distilbert-base-uncased and are newly initialized: ['classifier.bias', 'classifier.weight', 'pre_classifier.bias', 'pre_classifier.weight']\n",
            "You should probably TRAIN this model on a down-stream task to be able to use it for predictions and inference.\n",
            "/tmp/ipython-input-383261731.py:44: FutureWarning: `tokenizer` is deprecated and will be removed in version 5.0.0 for `WeightedTrainer.__init__`. Use `processing_class` instead.\n",
            "  trainer = WeightedTrainer(\n"
          ]
        },
        {
          "output_type": "display_data",
          "data": {
            "text/plain": [
              "<IPython.core.display.HTML object>"
            ],
            "text/html": [
              "\n",
              "    <div>\n",
              "      \n",
              "      <progress value='7168' max='7168' style='width:300px; height:20px; vertical-align: middle;'></progress>\n",
              "      [7168/7168 24:20, Epoch 4/4]\n",
              "    </div>\n",
              "    <table border=\"1\" class=\"dataframe\">\n",
              "  <thead>\n",
              " <tr style=\"text-align: left;\">\n",
              "      <th>Epoch</th>\n",
              "      <th>Training Loss</th>\n",
              "      <th>Validation Loss</th>\n",
              "      <th>Accuracy</th>\n",
              "      <th>Macro Precision</th>\n",
              "      <th>Macro Recall</th>\n",
              "      <th>Macro F1</th>\n",
              "      <th>Weighted F1</th>\n",
              "    </tr>\n",
              "  </thead>\n",
              "  <tbody>\n",
              "    <tr>\n",
              "      <td>1</td>\n",
              "      <td>0.685700</td>\n",
              "      <td>0.627121</td>\n",
              "      <td>0.868772</td>\n",
              "      <td>0.732928</td>\n",
              "      <td>0.749380</td>\n",
              "      <td>0.740825</td>\n",
              "      <td>0.870698</td>\n",
              "    </tr>\n",
              "    <tr>\n",
              "      <td>2</td>\n",
              "      <td>0.608900</td>\n",
              "      <td>0.643530</td>\n",
              "      <td>0.871703</td>\n",
              "      <td>0.751997</td>\n",
              "      <td>0.747238</td>\n",
              "      <td>0.748979</td>\n",
              "      <td>0.873142</td>\n",
              "    </tr>\n",
              "    <tr>\n",
              "      <td>3</td>\n",
              "      <td>0.620100</td>\n",
              "      <td>0.764003</td>\n",
              "      <td>0.869098</td>\n",
              "      <td>0.740063</td>\n",
              "      <td>0.766640</td>\n",
              "      <td>0.751944</td>\n",
              "      <td>0.873922</td>\n",
              "    </tr>\n",
              "    <tr>\n",
              "      <td>4</td>\n",
              "      <td>0.413800</td>\n",
              "      <td>0.807310</td>\n",
              "      <td>0.868121</td>\n",
              "      <td>0.736299</td>\n",
              "      <td>0.762382</td>\n",
              "      <td>0.748151</td>\n",
              "      <td>0.872618</td>\n",
              "    </tr>\n",
              "  </tbody>\n",
              "</table><p>"
            ]
          },
          "metadata": {}
        },
        {
          "output_type": "display_data",
          "data": {
            "text/plain": [
              "<IPython.core.display.HTML object>"
            ],
            "text/html": [
              "\n",
              "    <div>\n",
              "      \n",
              "      <progress value='384' max='384' style='width:300px; height:20px; vertical-align: middle;'></progress>\n",
              "      [384/384 00:23]\n",
              "    </div>\n",
              "    "
            ]
          },
          "metadata": {}
        },
        {
          "output_type": "stream",
          "name": "stderr",
          "text": [
            "Some weights of DistilBertForSequenceClassification were not initialized from the model checkpoint at distilbert-base-uncased and are newly initialized: ['classifier.bias', 'classifier.weight', 'pre_classifier.bias', 'pre_classifier.weight']\n",
            "You should probably TRAIN this model on a down-stream task to be able to use it for predictions and inference.\n",
            "/tmp/ipython-input-383261731.py:44: FutureWarning: `tokenizer` is deprecated and will be removed in version 5.0.0 for `WeightedTrainer.__init__`. Use `processing_class` instead.\n",
            "  trainer = WeightedTrainer(\n"
          ]
        },
        {
          "output_type": "display_data",
          "data": {
            "text/plain": [
              "<IPython.core.display.HTML object>"
            ],
            "text/html": [
              "\n",
              "    <div>\n",
              "      \n",
              "      <progress value='7168' max='7168' style='width:300px; height:20px; vertical-align: middle;'></progress>\n",
              "      [7168/7168 24:24, Epoch 4/4]\n",
              "    </div>\n",
              "    <table border=\"1\" class=\"dataframe\">\n",
              "  <thead>\n",
              " <tr style=\"text-align: left;\">\n",
              "      <th>Epoch</th>\n",
              "      <th>Training Loss</th>\n",
              "      <th>Validation Loss</th>\n",
              "      <th>Accuracy</th>\n",
              "      <th>Macro Precision</th>\n",
              "      <th>Macro Recall</th>\n",
              "      <th>Macro F1</th>\n",
              "      <th>Weighted F1</th>\n",
              "    </tr>\n",
              "  </thead>\n",
              "  <tbody>\n",
              "    <tr>\n",
              "      <td>1</td>\n",
              "      <td>0.690000</td>\n",
              "      <td>0.617726</td>\n",
              "      <td>0.867144</td>\n",
              "      <td>0.731981</td>\n",
              "      <td>0.755187</td>\n",
              "      <td>0.742654</td>\n",
              "      <td>0.871206</td>\n",
              "    </tr>\n",
              "    <tr>\n",
              "      <td>2</td>\n",
              "      <td>0.598800</td>\n",
              "      <td>0.734818</td>\n",
              "      <td>0.873982</td>\n",
              "      <td>0.752745</td>\n",
              "      <td>0.721578</td>\n",
              "      <td>0.735956</td>\n",
              "      <td>0.871297</td>\n",
              "    </tr>\n",
              "    <tr>\n",
              "      <td>3</td>\n",
              "      <td>0.511400</td>\n",
              "      <td>0.838302</td>\n",
              "      <td>0.862260</td>\n",
              "      <td>0.725726</td>\n",
              "      <td>0.758962</td>\n",
              "      <td>0.740625</td>\n",
              "      <td>0.867763</td>\n",
              "    </tr>\n",
              "    <tr>\n",
              "      <td>4</td>\n",
              "      <td>0.254300</td>\n",
              "      <td>0.952379</td>\n",
              "      <td>0.867144</td>\n",
              "      <td>0.737204</td>\n",
              "      <td>0.758137</td>\n",
              "      <td>0.746067</td>\n",
              "      <td>0.872288</td>\n",
              "    </tr>\n",
              "  </tbody>\n",
              "</table><p>"
            ]
          },
          "metadata": {}
        },
        {
          "output_type": "display_data",
          "data": {
            "text/plain": [
              "<IPython.core.display.HTML object>"
            ],
            "text/html": [
              "\n",
              "    <div>\n",
              "      \n",
              "      <progress value='384' max='384' style='width:300px; height:20px; vertical-align: middle;'></progress>\n",
              "      [384/384 00:23]\n",
              "    </div>\n",
              "    "
            ]
          },
          "metadata": {}
        },
        {
          "output_type": "stream",
          "name": "stderr",
          "text": [
            "Some weights of DistilBertForSequenceClassification were not initialized from the model checkpoint at distilbert-base-uncased and are newly initialized: ['classifier.bias', 'classifier.weight', 'pre_classifier.bias', 'pre_classifier.weight']\n",
            "You should probably TRAIN this model on a down-stream task to be able to use it for predictions and inference.\n",
            "/tmp/ipython-input-383261731.py:44: FutureWarning: `tokenizer` is deprecated and will be removed in version 5.0.0 for `WeightedTrainer.__init__`. Use `processing_class` instead.\n",
            "  trainer = WeightedTrainer(\n"
          ]
        },
        {
          "output_type": "display_data",
          "data": {
            "text/plain": [
              "<IPython.core.display.HTML object>"
            ],
            "text/html": [
              "\n",
              "    <div>\n",
              "      \n",
              "      <progress value='7168' max='7168' style='width:300px; height:20px; vertical-align: middle;'></progress>\n",
              "      [7168/7168 24:15, Epoch 4/4]\n",
              "    </div>\n",
              "    <table border=\"1\" class=\"dataframe\">\n",
              "  <thead>\n",
              " <tr style=\"text-align: left;\">\n",
              "      <th>Epoch</th>\n",
              "      <th>Training Loss</th>\n",
              "      <th>Validation Loss</th>\n",
              "      <th>Accuracy</th>\n",
              "      <th>Macro Precision</th>\n",
              "      <th>Macro Recall</th>\n",
              "      <th>Macro F1</th>\n",
              "      <th>Weighted F1</th>\n",
              "    </tr>\n",
              "  </thead>\n",
              "  <tbody>\n",
              "    <tr>\n",
              "      <td>1</td>\n",
              "      <td>0.726900</td>\n",
              "      <td>0.652056</td>\n",
              "      <td>0.868121</td>\n",
              "      <td>0.726968</td>\n",
              "      <td>0.739054</td>\n",
              "      <td>0.732244</td>\n",
              "      <td>0.867595</td>\n",
              "    </tr>\n",
              "    <tr>\n",
              "      <td>2</td>\n",
              "      <td>0.597800</td>\n",
              "      <td>0.698070</td>\n",
              "      <td>0.871052</td>\n",
              "      <td>0.746072</td>\n",
              "      <td>0.733430</td>\n",
              "      <td>0.739363</td>\n",
              "      <td>0.870838</td>\n",
              "    </tr>\n",
              "    <tr>\n",
              "      <td>3</td>\n",
              "      <td>0.558900</td>\n",
              "      <td>0.886985</td>\n",
              "      <td>0.872029</td>\n",
              "      <td>0.734953</td>\n",
              "      <td>0.752591</td>\n",
              "      <td>0.743356</td>\n",
              "      <td>0.873443</td>\n",
              "    </tr>\n",
              "    <tr>\n",
              "      <td>4</td>\n",
              "      <td>0.364500</td>\n",
              "      <td>0.998615</td>\n",
              "      <td>0.873657</td>\n",
              "      <td>0.744136</td>\n",
              "      <td>0.766303</td>\n",
              "      <td>0.754345</td>\n",
              "      <td>0.877423</td>\n",
              "    </tr>\n",
              "  </tbody>\n",
              "</table><p>"
            ]
          },
          "metadata": {}
        },
        {
          "output_type": "display_data",
          "data": {
            "text/plain": [
              "<IPython.core.display.HTML object>"
            ],
            "text/html": [
              "\n",
              "    <div>\n",
              "      \n",
              "      <progress value='384' max='384' style='width:300px; height:20px; vertical-align: middle;'></progress>\n",
              "      [384/384 00:23]\n",
              "    </div>\n",
              "    "
            ]
          },
          "metadata": {}
        },
        {
          "output_type": "stream",
          "name": "stderr",
          "text": [
            "Some weights of DistilBertForSequenceClassification were not initialized from the model checkpoint at distilbert-base-uncased and are newly initialized: ['classifier.bias', 'classifier.weight', 'pre_classifier.bias', 'pre_classifier.weight']\n",
            "You should probably TRAIN this model on a down-stream task to be able to use it for predictions and inference.\n",
            "/tmp/ipython-input-383261731.py:44: FutureWarning: `tokenizer` is deprecated and will be removed in version 5.0.0 for `WeightedTrainer.__init__`. Use `processing_class` instead.\n",
            "  trainer = WeightedTrainer(\n"
          ]
        },
        {
          "output_type": "display_data",
          "data": {
            "text/plain": [
              "<IPython.core.display.HTML object>"
            ],
            "text/html": [
              "\n",
              "    <div>\n",
              "      \n",
              "      <progress value='7168' max='7168' style='width:300px; height:20px; vertical-align: middle;'></progress>\n",
              "      [7168/7168 23:52, Epoch 4/4]\n",
              "    </div>\n",
              "    <table border=\"1\" class=\"dataframe\">\n",
              "  <thead>\n",
              " <tr style=\"text-align: left;\">\n",
              "      <th>Epoch</th>\n",
              "      <th>Training Loss</th>\n",
              "      <th>Validation Loss</th>\n",
              "      <th>Accuracy</th>\n",
              "      <th>Macro Precision</th>\n",
              "      <th>Macro Recall</th>\n",
              "      <th>Macro F1</th>\n",
              "      <th>Weighted F1</th>\n",
              "    </tr>\n",
              "  </thead>\n",
              "  <tbody>\n",
              "    <tr>\n",
              "      <td>1</td>\n",
              "      <td>0.690000</td>\n",
              "      <td>0.616045</td>\n",
              "      <td>0.866819</td>\n",
              "      <td>0.731972</td>\n",
              "      <td>0.749696</td>\n",
              "      <td>0.740345</td>\n",
              "      <td>0.869733</td>\n",
              "    </tr>\n",
              "    <tr>\n",
              "      <td>2</td>\n",
              "      <td>0.625100</td>\n",
              "      <td>0.694351</td>\n",
              "      <td>0.868772</td>\n",
              "      <td>0.744949</td>\n",
              "      <td>0.727829</td>\n",
              "      <td>0.735252</td>\n",
              "      <td>0.869341</td>\n",
              "    </tr>\n",
              "    <tr>\n",
              "      <td>3</td>\n",
              "      <td>0.494600</td>\n",
              "      <td>0.864284</td>\n",
              "      <td>0.862585</td>\n",
              "      <td>0.727643</td>\n",
              "      <td>0.754212</td>\n",
              "      <td>0.739389</td>\n",
              "      <td>0.868089</td>\n",
              "    </tr>\n",
              "    <tr>\n",
              "      <td>4</td>\n",
              "      <td>0.287300</td>\n",
              "      <td>0.956253</td>\n",
              "      <td>0.867144</td>\n",
              "      <td>0.735745</td>\n",
              "      <td>0.754754</td>\n",
              "      <td>0.744195</td>\n",
              "      <td>0.871459</td>\n",
              "    </tr>\n",
              "  </tbody>\n",
              "</table><p>"
            ]
          },
          "metadata": {}
        },
        {
          "output_type": "display_data",
          "data": {
            "text/plain": [
              "<IPython.core.display.HTML object>"
            ],
            "text/html": [
              "\n",
              "    <div>\n",
              "      \n",
              "      <progress value='384' max='384' style='width:300px; height:20px; vertical-align: middle;'></progress>\n",
              "      [384/384 00:23]\n",
              "    </div>\n",
              "    "
            ]
          },
          "metadata": {}
        },
        {
          "output_type": "stream",
          "name": "stderr",
          "text": [
            "Some weights of DistilBertForSequenceClassification were not initialized from the model checkpoint at distilbert-base-uncased and are newly initialized: ['classifier.bias', 'classifier.weight', 'pre_classifier.bias', 'pre_classifier.weight']\n",
            "You should probably TRAIN this model on a down-stream task to be able to use it for predictions and inference.\n",
            "/tmp/ipython-input-383261731.py:44: FutureWarning: `tokenizer` is deprecated and will be removed in version 5.0.0 for `WeightedTrainer.__init__`. Use `processing_class` instead.\n",
            "  trainer = WeightedTrainer(\n"
          ]
        },
        {
          "output_type": "display_data",
          "data": {
            "text/plain": [
              "<IPython.core.display.HTML object>"
            ],
            "text/html": [
              "\n",
              "    <div>\n",
              "      \n",
              "      <progress value='7168' max='7168' style='width:300px; height:20px; vertical-align: middle;'></progress>\n",
              "      [7168/7168 24:00, Epoch 4/4]\n",
              "    </div>\n",
              "    <table border=\"1\" class=\"dataframe\">\n",
              "  <thead>\n",
              " <tr style=\"text-align: left;\">\n",
              "      <th>Epoch</th>\n",
              "      <th>Training Loss</th>\n",
              "      <th>Validation Loss</th>\n",
              "      <th>Accuracy</th>\n",
              "      <th>Macro Precision</th>\n",
              "      <th>Macro Recall</th>\n",
              "      <th>Macro F1</th>\n",
              "      <th>Weighted F1</th>\n",
              "    </tr>\n",
              "  </thead>\n",
              "  <tbody>\n",
              "    <tr>\n",
              "      <td>1</td>\n",
              "      <td>0.714000</td>\n",
              "      <td>0.659639</td>\n",
              "      <td>0.869749</td>\n",
              "      <td>0.728057</td>\n",
              "      <td>0.746544</td>\n",
              "      <td>0.736306</td>\n",
              "      <td>0.870025</td>\n",
              "    </tr>\n",
              "    <tr>\n",
              "      <td>2</td>\n",
              "      <td>0.572800</td>\n",
              "      <td>0.684708</td>\n",
              "      <td>0.872029</td>\n",
              "      <td>0.751571</td>\n",
              "      <td>0.737688</td>\n",
              "      <td>0.743884</td>\n",
              "      <td>0.872468</td>\n",
              "    </tr>\n",
              "    <tr>\n",
              "      <td>3</td>\n",
              "      <td>0.494300</td>\n",
              "      <td>0.873718</td>\n",
              "      <td>0.872680</td>\n",
              "      <td>0.741658</td>\n",
              "      <td>0.751155</td>\n",
              "      <td>0.746176</td>\n",
              "      <td>0.874644</td>\n",
              "    </tr>\n",
              "    <tr>\n",
              "      <td>4</td>\n",
              "      <td>0.355000</td>\n",
              "      <td>0.970977</td>\n",
              "      <td>0.871052</td>\n",
              "      <td>0.741976</td>\n",
              "      <td>0.761971</td>\n",
              "      <td>0.750854</td>\n",
              "      <td>0.875339</td>\n",
              "    </tr>\n",
              "  </tbody>\n",
              "</table><p>"
            ]
          },
          "metadata": {}
        },
        {
          "output_type": "display_data",
          "data": {
            "text/plain": [
              "<IPython.core.display.HTML object>"
            ],
            "text/html": [
              "\n",
              "    <div>\n",
              "      \n",
              "      <progress value='384' max='384' style='width:300px; height:20px; vertical-align: middle;'></progress>\n",
              "      [384/384 00:23]\n",
              "    </div>\n",
              "    "
            ]
          },
          "metadata": {}
        },
        {
          "output_type": "stream",
          "name": "stderr",
          "text": [
            "Some weights of DistilBertForSequenceClassification were not initialized from the model checkpoint at distilbert-base-uncased and are newly initialized: ['classifier.bias', 'classifier.weight', 'pre_classifier.bias', 'pre_classifier.weight']\n",
            "You should probably TRAIN this model on a down-stream task to be able to use it for predictions and inference.\n",
            "/tmp/ipython-input-383261731.py:44: FutureWarning: `tokenizer` is deprecated and will be removed in version 5.0.0 for `WeightedTrainer.__init__`. Use `processing_class` instead.\n",
            "  trainer = WeightedTrainer(\n"
          ]
        },
        {
          "output_type": "display_data",
          "data": {
            "text/plain": [
              "<IPython.core.display.HTML object>"
            ],
            "text/html": [
              "\n",
              "    <div>\n",
              "      \n",
              "      <progress value='7168' max='7168' style='width:300px; height:20px; vertical-align: middle;'></progress>\n",
              "      [7168/7168 23:55, Epoch 4/4]\n",
              "    </div>\n",
              "    <table border=\"1\" class=\"dataframe\">\n",
              "  <thead>\n",
              " <tr style=\"text-align: left;\">\n",
              "      <th>Epoch</th>\n",
              "      <th>Training Loss</th>\n",
              "      <th>Validation Loss</th>\n",
              "      <th>Accuracy</th>\n",
              "      <th>Macro Precision</th>\n",
              "      <th>Macro Recall</th>\n",
              "      <th>Macro F1</th>\n",
              "      <th>Weighted F1</th>\n",
              "    </tr>\n",
              "  </thead>\n",
              "  <tbody>\n",
              "    <tr>\n",
              "      <td>1</td>\n",
              "      <td>0.726900</td>\n",
              "      <td>0.629943</td>\n",
              "      <td>0.857375</td>\n",
              "      <td>0.712835</td>\n",
              "      <td>0.754785</td>\n",
              "      <td>0.731474</td>\n",
              "      <td>0.862986</td>\n",
              "    </tr>\n",
              "    <tr>\n",
              "      <td>2</td>\n",
              "      <td>0.610000</td>\n",
              "      <td>0.686660</td>\n",
              "      <td>0.874959</td>\n",
              "      <td>0.761818</td>\n",
              "      <td>0.734883</td>\n",
              "      <td>0.746691</td>\n",
              "      <td>0.874355</td>\n",
              "    </tr>\n",
              "    <tr>\n",
              "      <td>3</td>\n",
              "      <td>0.489900</td>\n",
              "      <td>0.888816</td>\n",
              "      <td>0.874308</td>\n",
              "      <td>0.738733</td>\n",
              "      <td>0.747080</td>\n",
              "      <td>0.742001</td>\n",
              "      <td>0.872940</td>\n",
              "    </tr>\n",
              "    <tr>\n",
              "      <td>4</td>\n",
              "      <td>0.322900</td>\n",
              "      <td>1.003650</td>\n",
              "      <td>0.871377</td>\n",
              "      <td>0.743008</td>\n",
              "      <td>0.758630</td>\n",
              "      <td>0.750340</td>\n",
              "      <td>0.874114</td>\n",
              "    </tr>\n",
              "  </tbody>\n",
              "</table><p>"
            ]
          },
          "metadata": {}
        },
        {
          "output_type": "display_data",
          "data": {
            "text/plain": [
              "<IPython.core.display.HTML object>"
            ],
            "text/html": [
              "\n",
              "    <div>\n",
              "      \n",
              "      <progress value='384' max='384' style='width:300px; height:20px; vertical-align: middle;'></progress>\n",
              "      [384/384 00:23]\n",
              "    </div>\n",
              "    "
            ]
          },
          "metadata": {}
        },
        {
          "output_type": "stream",
          "name": "stderr",
          "text": [
            "Some weights of DistilBertForSequenceClassification were not initialized from the model checkpoint at distilbert-base-uncased and are newly initialized: ['classifier.bias', 'classifier.weight', 'pre_classifier.bias', 'pre_classifier.weight']\n",
            "You should probably TRAIN this model on a down-stream task to be able to use it for predictions and inference.\n",
            "/tmp/ipython-input-383261731.py:44: FutureWarning: `tokenizer` is deprecated and will be removed in version 5.0.0 for `WeightedTrainer.__init__`. Use `processing_class` instead.\n",
            "  trainer = WeightedTrainer(\n"
          ]
        },
        {
          "output_type": "display_data",
          "data": {
            "text/plain": [
              "<IPython.core.display.HTML object>"
            ],
            "text/html": [
              "\n",
              "    <div>\n",
              "      \n",
              "      <progress value='7168' max='7168' style='width:300px; height:20px; vertical-align: middle;'></progress>\n",
              "      [7168/7168 24:04, Epoch 4/4]\n",
              "    </div>\n",
              "    <table border=\"1\" class=\"dataframe\">\n",
              "  <thead>\n",
              " <tr style=\"text-align: left;\">\n",
              "      <th>Epoch</th>\n",
              "      <th>Training Loss</th>\n",
              "      <th>Validation Loss</th>\n",
              "      <th>Accuracy</th>\n",
              "      <th>Macro Precision</th>\n",
              "      <th>Macro Recall</th>\n",
              "      <th>Macro F1</th>\n",
              "      <th>Weighted F1</th>\n",
              "    </tr>\n",
              "  </thead>\n",
              "  <tbody>\n",
              "    <tr>\n",
              "      <td>1</td>\n",
              "      <td>0.746700</td>\n",
              "      <td>0.574869</td>\n",
              "      <td>0.851189</td>\n",
              "      <td>0.725805</td>\n",
              "      <td>0.764435</td>\n",
              "      <td>0.738468</td>\n",
              "      <td>0.862662</td>\n",
              "    </tr>\n",
              "    <tr>\n",
              "      <td>2</td>\n",
              "      <td>0.601300</td>\n",
              "      <td>0.705362</td>\n",
              "      <td>0.876262</td>\n",
              "      <td>0.761371</td>\n",
              "      <td>0.749084</td>\n",
              "      <td>0.754417</td>\n",
              "      <td>0.876962</td>\n",
              "    </tr>\n",
              "    <tr>\n",
              "      <td>3</td>\n",
              "      <td>0.522300</td>\n",
              "      <td>0.890941</td>\n",
              "      <td>0.875936</td>\n",
              "      <td>0.744170</td>\n",
              "      <td>0.743791</td>\n",
              "      <td>0.743684</td>\n",
              "      <td>0.874465</td>\n",
              "    </tr>\n",
              "    <tr>\n",
              "      <td>4</td>\n",
              "      <td>0.206800</td>\n",
              "      <td>1.036583</td>\n",
              "      <td>0.873982</td>\n",
              "      <td>0.746282</td>\n",
              "      <td>0.766018</td>\n",
              "      <td>0.755217</td>\n",
              "      <td>0.877855</td>\n",
              "    </tr>\n",
              "  </tbody>\n",
              "</table><p>"
            ]
          },
          "metadata": {}
        },
        {
          "output_type": "display_data",
          "data": {
            "text/plain": [
              "<IPython.core.display.HTML object>"
            ],
            "text/html": [
              "\n",
              "    <div>\n",
              "      \n",
              "      <progress value='384' max='384' style='width:300px; height:20px; vertical-align: middle;'></progress>\n",
              "      [384/384 00:23]\n",
              "    </div>\n",
              "    "
            ]
          },
          "metadata": {}
        },
        {
          "output_type": "stream",
          "name": "stderr",
          "text": [
            "Some weights of DistilBertForSequenceClassification were not initialized from the model checkpoint at distilbert-base-uncased and are newly initialized: ['classifier.bias', 'classifier.weight', 'pre_classifier.bias', 'pre_classifier.weight']\n",
            "You should probably TRAIN this model on a down-stream task to be able to use it for predictions and inference.\n",
            "/tmp/ipython-input-383261731.py:44: FutureWarning: `tokenizer` is deprecated and will be removed in version 5.0.0 for `WeightedTrainer.__init__`. Use `processing_class` instead.\n",
            "  trainer = WeightedTrainer(\n"
          ]
        },
        {
          "output_type": "display_data",
          "data": {
            "text/plain": [
              "<IPython.core.display.HTML object>"
            ],
            "text/html": [
              "\n",
              "    <div>\n",
              "      \n",
              "      <progress value='7168' max='7168' style='width:300px; height:20px; vertical-align: middle;'></progress>\n",
              "      [7168/7168 24:05, Epoch 4/4]\n",
              "    </div>\n",
              "    <table border=\"1\" class=\"dataframe\">\n",
              "  <thead>\n",
              " <tr style=\"text-align: left;\">\n",
              "      <th>Epoch</th>\n",
              "      <th>Training Loss</th>\n",
              "      <th>Validation Loss</th>\n",
              "      <th>Accuracy</th>\n",
              "      <th>Macro Precision</th>\n",
              "      <th>Macro Recall</th>\n",
              "      <th>Macro F1</th>\n",
              "      <th>Weighted F1</th>\n",
              "    </tr>\n",
              "  </thead>\n",
              "  <tbody>\n",
              "    <tr>\n",
              "      <td>1</td>\n",
              "      <td>0.731800</td>\n",
              "      <td>0.610705</td>\n",
              "      <td>0.859980</td>\n",
              "      <td>0.725003</td>\n",
              "      <td>0.771332</td>\n",
              "      <td>0.744880</td>\n",
              "      <td>0.867402</td>\n",
              "    </tr>\n",
              "    <tr>\n",
              "      <td>2</td>\n",
              "      <td>0.579800</td>\n",
              "      <td>0.718885</td>\n",
              "      <td>0.879518</td>\n",
              "      <td>0.762773</td>\n",
              "      <td>0.740743</td>\n",
              "      <td>0.751213</td>\n",
              "      <td>0.877082</td>\n",
              "    </tr>\n",
              "    <tr>\n",
              "      <td>3</td>\n",
              "      <td>0.548800</td>\n",
              "      <td>0.799360</td>\n",
              "      <td>0.875936</td>\n",
              "      <td>0.745563</td>\n",
              "      <td>0.767328</td>\n",
              "      <td>0.755897</td>\n",
              "      <td>0.878129</td>\n",
              "    </tr>\n",
              "    <tr>\n",
              "      <td>4</td>\n",
              "      <td>0.292800</td>\n",
              "      <td>0.946165</td>\n",
              "      <td>0.879844</td>\n",
              "      <td>0.757956</td>\n",
              "      <td>0.773358</td>\n",
              "      <td>0.764998</td>\n",
              "      <td>0.882799</td>\n",
              "    </tr>\n",
              "  </tbody>\n",
              "</table><p>"
            ]
          },
          "metadata": {}
        },
        {
          "output_type": "display_data",
          "data": {
            "text/plain": [
              "<IPython.core.display.HTML object>"
            ],
            "text/html": [
              "\n",
              "    <div>\n",
              "      \n",
              "      <progress value='384' max='384' style='width:300px; height:20px; vertical-align: middle;'></progress>\n",
              "      [384/384 00:23]\n",
              "    </div>\n",
              "    "
            ]
          },
          "metadata": {}
        },
        {
          "output_type": "stream",
          "name": "stderr",
          "text": [
            "Some weights of DistilBertForSequenceClassification were not initialized from the model checkpoint at distilbert-base-uncased and are newly initialized: ['classifier.bias', 'classifier.weight', 'pre_classifier.bias', 'pre_classifier.weight']\n",
            "You should probably TRAIN this model on a down-stream task to be able to use it for predictions and inference.\n",
            "/tmp/ipython-input-383261731.py:44: FutureWarning: `tokenizer` is deprecated and will be removed in version 5.0.0 for `WeightedTrainer.__init__`. Use `processing_class` instead.\n",
            "  trainer = WeightedTrainer(\n"
          ]
        },
        {
          "output_type": "display_data",
          "data": {
            "text/plain": [
              "<IPython.core.display.HTML object>"
            ],
            "text/html": [
              "\n",
              "    <div>\n",
              "      \n",
              "      <progress value='7168' max='7168' style='width:300px; height:20px; vertical-align: middle;'></progress>\n",
              "      [7168/7168 24:00, Epoch 4/4]\n",
              "    </div>\n",
              "    <table border=\"1\" class=\"dataframe\">\n",
              "  <thead>\n",
              " <tr style=\"text-align: left;\">\n",
              "      <th>Epoch</th>\n",
              "      <th>Training Loss</th>\n",
              "      <th>Validation Loss</th>\n",
              "      <th>Accuracy</th>\n",
              "      <th>Macro Precision</th>\n",
              "      <th>Macro Recall</th>\n",
              "      <th>Macro F1</th>\n",
              "      <th>Weighted F1</th>\n",
              "    </tr>\n",
              "  </thead>\n",
              "  <tbody>\n",
              "    <tr>\n",
              "      <td>1</td>\n",
              "      <td>0.739900</td>\n",
              "      <td>0.566571</td>\n",
              "      <td>0.845327</td>\n",
              "      <td>0.720853</td>\n",
              "      <td>0.765487</td>\n",
              "      <td>0.734561</td>\n",
              "      <td>0.859098</td>\n",
              "    </tr>\n",
              "    <tr>\n",
              "      <td>2</td>\n",
              "      <td>0.557600</td>\n",
              "      <td>0.654600</td>\n",
              "      <td>0.872029</td>\n",
              "      <td>0.749757</td>\n",
              "      <td>0.745752</td>\n",
              "      <td>0.746905</td>\n",
              "      <td>0.873924</td>\n",
              "    </tr>\n",
              "    <tr>\n",
              "      <td>3</td>\n",
              "      <td>0.513300</td>\n",
              "      <td>0.862384</td>\n",
              "      <td>0.877890</td>\n",
              "      <td>0.749327</td>\n",
              "      <td>0.749802</td>\n",
              "      <td>0.749540</td>\n",
              "      <td>0.877547</td>\n",
              "    </tr>\n",
              "    <tr>\n",
              "      <td>4</td>\n",
              "      <td>0.253100</td>\n",
              "      <td>1.002398</td>\n",
              "      <td>0.874308</td>\n",
              "      <td>0.744243</td>\n",
              "      <td>0.755596</td>\n",
              "      <td>0.749551</td>\n",
              "      <td>0.876769</td>\n",
              "    </tr>\n",
              "  </tbody>\n",
              "</table><p>"
            ]
          },
          "metadata": {}
        },
        {
          "output_type": "display_data",
          "data": {
            "text/plain": [
              "<IPython.core.display.HTML object>"
            ],
            "text/html": [
              "\n",
              "    <div>\n",
              "      \n",
              "      <progress value='384' max='384' style='width:300px; height:20px; vertical-align: middle;'></progress>\n",
              "      [384/384 00:23]\n",
              "    </div>\n",
              "    "
            ]
          },
          "metadata": {}
        }
      ]
    },
    {
      "cell_type": "code",
      "source": [
        "# 7) Pick best by macro-F1 and retrain once\n",
        "res_df = pd.DataFrame(results).sort_values(\"eval_macro_f1\", ascending=False)\n",
        "res_df.to_csv(ROOT_DIR / \"sweep_results_sentiment.csv\", index=False)\n",
        "best = res_df.iloc[0]\n",
        "print(\"Best config:\\n\", best.to_dict())\n",
        "\n",
        "FINAL_DIR = ROOT_DIR / \"best_model\"\n",
        "FINAL_DIR.mkdir(parents=True, exist_ok=True)\n",
        "\n",
        "best_args = TrainingArguments(\n",
        "    output_dir=str(FINAL_DIR),\n",
        "    per_device_train_batch_size=8,\n",
        "    per_device_eval_batch_size=8,\n",
        "    learning_rate=float(best[\"lr\"]),\n",
        "    num_train_epochs=int(best[\"epochs\"]),\n",
        "    weight_decay=0.01,\n",
        "    eval_strategy=\"epoch\",\n",
        "    save_strategy=\"epoch\",\n",
        "    load_best_model_at_end=True,\n",
        "    metric_for_best_model=\"macro_f1\",\n",
        "    greater_is_better=True,\n",
        "    lr_scheduler_type=best[\"scheduler\"],\n",
        "    warmup_ratio=float(best[\"warmup\"]),\n",
        "    logging_steps=100,\n",
        "    save_total_limit=1,\n",
        "    report_to=[],\n",
        "    seed=42,\n",
        "    fp16=False,\n",
        ")\n",
        "\n",
        "model = new_model()\n",
        "trainer = WeightedTrainer(\n",
        "    model=model,\n",
        "    args=best_args,\n",
        "    train_dataset=train_ds,\n",
        "    eval_dataset=val_ds,\n",
        "    tokenizer=tokenizer,\n",
        "    compute_metrics=compute_metrics,\n",
        ")\n",
        "\n",
        "trainer.train()\n",
        "print(\"\\nValidation (best run):\", trainer.evaluate())"
      ],
      "metadata": {
        "colab": {
          "base_uri": "https://localhost:8080/",
          "height": 438
        },
        "id": "Ajl1yIktgWrY",
        "outputId": "e2c32f7e-9a51-4d20-b715-bcc75ffc41d9"
      },
      "execution_count": 48,
      "outputs": [
        {
          "metadata": {
            "tags": null
          },
          "name": "stdout",
          "output_type": "stream",
          "text": [
            "Best config:\n",
            " {'run': 'e3_lr3e-05_sch-linear_warm0.0', 'epochs': 3, 'lr': 3e-05, 'scheduler': 'linear', 'warmup': 0.0, 'eval_accuracy': 0.8802, 'eval_macro_precision': 0.7612, 'eval_macro_recall': 0.7695, 'eval_macro_f1': 0.7651, 'eval_weighted_f1': 0.8816}\n"
          ]
        },
        {
          "metadata": {
            "tags": null
          },
          "name": "stderr",
          "output_type": "stream",
          "text": [
            "Some weights of DistilBertForSequenceClassification were not initialized from the model checkpoint at distilbert-base-uncased and are newly initialized: ['classifier.bias', 'classifier.weight', 'pre_classifier.bias', 'pre_classifier.weight']\n",
            "You should probably TRAIN this model on a down-stream task to be able to use it for predictions and inference.\n",
            "/tmp/ipython-input-1669826983.py:32: FutureWarning: `tokenizer` is deprecated and will be removed in version 5.0.0 for `WeightedTrainer.__init__`. Use `processing_class` instead.\n",
            "  trainer = WeightedTrainer(\n"
          ]
        },
        {
          "data": {
            "text/html": [
              "\n",
              "    <div>\n",
              "      \n",
              "      <progress value='3315' max='5376' style='width:300px; height:20px; vertical-align: middle;'></progress>\n",
              "      [3315/5376 10:33 < 06:34, 5.23 it/s, Epoch 1.85/3]\n",
              "    </div>\n",
              "    <table border=\"1\" class=\"dataframe\">\n",
              "  <thead>\n",
              " <tr style=\"text-align: left;\">\n",
              "      <th>Epoch</th>\n",
              "      <th>Training Loss</th>\n",
              "      <th>Validation Loss</th>\n",
              "      <th>Accuracy</th>\n",
              "      <th>Macro Precision</th>\n",
              "      <th>Macro Recall</th>\n",
              "      <th>Macro F1</th>\n",
              "      <th>Weighted F1</th>\n",
              "    </tr>\n",
              "  </thead>\n",
              "  <tbody>\n",
              "    <tr>\n",
              "      <td>1</td>\n",
              "      <td>0.733400</td>\n",
              "      <td>0.578547</td>\n",
              "      <td>0.858027</td>\n",
              "      <td>0.738041</td>\n",
              "      <td>0.760560</td>\n",
              "      <td>0.744025</td>\n",
              "      <td>0.867067</td>\n",
              "    </tr>\n",
              "  </tbody>\n",
              "</table><p>"
            ],
            "text/plain": [
              "<IPython.core.display.HTML object>"
            ]
          },
          "metadata": {},
          "output_type": "display_data"
        },
        {
          "output_type": "display_data",
          "data": {
            "text/plain": [
              "<IPython.core.display.HTML object>"
            ],
            "text/html": [
              "\n",
              "    <div>\n",
              "      \n",
              "      <progress value='5376' max='5376' style='width:300px; height:20px; vertical-align: middle;'></progress>\n",
              "      [5376/5376 17:50, Epoch 3/3]\n",
              "    </div>\n",
              "    <table border=\"1\" class=\"dataframe\">\n",
              "  <thead>\n",
              " <tr style=\"text-align: left;\">\n",
              "      <th>Epoch</th>\n",
              "      <th>Training Loss</th>\n",
              "      <th>Validation Loss</th>\n",
              "      <th>Accuracy</th>\n",
              "      <th>Macro Precision</th>\n",
              "      <th>Macro Recall</th>\n",
              "      <th>Macro F1</th>\n",
              "      <th>Weighted F1</th>\n",
              "    </tr>\n",
              "  </thead>\n",
              "  <tbody>\n",
              "    <tr>\n",
              "      <td>1</td>\n",
              "      <td>0.733400</td>\n",
              "      <td>0.578547</td>\n",
              "      <td>0.858027</td>\n",
              "      <td>0.738041</td>\n",
              "      <td>0.760560</td>\n",
              "      <td>0.744025</td>\n",
              "      <td>0.867067</td>\n",
              "    </tr>\n",
              "    <tr>\n",
              "      <td>2</td>\n",
              "      <td>0.579300</td>\n",
              "      <td>0.644733</td>\n",
              "      <td>0.873331</td>\n",
              "      <td>0.751419</td>\n",
              "      <td>0.752767</td>\n",
              "      <td>0.751202</td>\n",
              "      <td>0.875915</td>\n",
              "    </tr>\n",
              "    <tr>\n",
              "      <td>3</td>\n",
              "      <td>0.513100</td>\n",
              "      <td>0.823133</td>\n",
              "      <td>0.875936</td>\n",
              "      <td>0.751794</td>\n",
              "      <td>0.760149</td>\n",
              "      <td>0.755590</td>\n",
              "      <td>0.878159</td>\n",
              "    </tr>\n",
              "  </tbody>\n",
              "</table><p>"
            ]
          },
          "metadata": {}
        },
        {
          "output_type": "display_data",
          "data": {
            "text/plain": [
              "<IPython.core.display.HTML object>"
            ],
            "text/html": [
              "\n",
              "    <div>\n",
              "      \n",
              "      <progress value='384' max='384' style='width:300px; height:20px; vertical-align: middle;'></progress>\n",
              "      [384/384 00:23]\n",
              "    </div>\n",
              "    "
            ]
          },
          "metadata": {}
        },
        {
          "output_type": "stream",
          "name": "stdout",
          "text": [
            "\n",
            "Validation (best run): {'eval_loss': 0.8231328725814819, 'eval_accuracy': 0.8759361771409964, 'eval_macro_precision': 0.7517936440425953, 'eval_macro_recall': 0.7601488272555913, 'eval_macro_f1': 0.7555896341565437, 'eval_weighted_f1': 0.8781594251082689, 'eval_runtime': 23.4119, 'eval_samples_per_second': 131.172, 'eval_steps_per_second': 16.402, 'epoch': 3.0}\n"
          ]
        }
      ]
    },
    {
      "cell_type": "code",
      "source": [
        "# 8) Final test evaluation\n",
        "test_metrics = trainer.evaluate(test_ds)\n",
        "print(\"\\nTest metrics:\", test_metrics)"
      ],
      "metadata": {
        "colab": {
          "base_uri": "https://localhost:8080/",
          "height": 92
        },
        "id": "lN1MAk_ygWoo",
        "outputId": "e39bc492-ece3-4f97-8b2e-33c32af1ddbd"
      },
      "execution_count": 49,
      "outputs": [
        {
          "output_type": "display_data",
          "data": {
            "text/plain": [
              "<IPython.core.display.HTML object>"
            ],
            "text/html": [
              "\n",
              "    <div>\n",
              "      \n",
              "      <progress value='768' max='384' style='width:300px; height:20px; vertical-align: middle;'></progress>\n",
              "      [384/384 02:29]\n",
              "    </div>\n",
              "    "
            ]
          },
          "metadata": {}
        },
        {
          "output_type": "stream",
          "name": "stdout",
          "text": [
            "\n",
            "Test metrics: {'eval_loss': 0.9721450209617615, 'eval_accuracy': 0.8661673721914686, 'eval_macro_precision': 0.7383556241840465, 'eval_macro_recall': 0.7272764936768302, 'eval_macro_f1': 0.7326130051579872, 'eval_weighted_f1': 0.8656708699466312, 'eval_runtime': 24.824, 'eval_samples_per_second': 123.711, 'eval_steps_per_second': 15.469, 'epoch': 3.0}\n"
          ]
        }
      ]
    },
    {
      "cell_type": "code",
      "source": [
        "# 9) Save artifacts\n",
        "trainer.save_model(FINAL_DIR)          # model + config\n",
        "tokenizer.save_pretrained(FINAL_DIR)   # tokenizer files\n",
        "joblib.dump(id2label, FINAL_DIR / \"label_map.joblib\")\n",
        "print(\"\\nSaved to:\", FINAL_DIR.resolve())"
      ],
      "metadata": {
        "colab": {
          "base_uri": "https://localhost:8080/"
        },
        "id": "rOqDCZ79gWl-",
        "outputId": "6fb85b5e-de34-4bc8-d914-f07dc4d24591"
      },
      "execution_count": 50,
      "outputs": [
        {
          "output_type": "stream",
          "name": "stdout",
          "text": [
            "\n",
            "Saved to: /content/drive/MyDrive/Colab Notebooks/airbnb_nz_deception_sentiment/artifacts/distilbert_sentiment_sweep/best_model\n"
          ]
        }
      ]
    },
    {
      "cell_type": "code",
      "source": [
        "from sklearn.metrics import confusion_matrix, ConfusionMatrixDisplay\n",
        "import matplotlib.pyplot as plt\n",
        "import numpy as np\n",
        "\n",
        "# Get predictions and labels\n",
        "preds_output = trainer.predict(test_ds)\n",
        "y_pred = np.argmax(preds_output.predictions, axis=1)\n",
        "y_true = preds_output.label_ids\n",
        "\n",
        "# Create confusion matrix\n",
        "cm = confusion_matrix(y_true, y_pred)\n",
        "disp = ConfusionMatrixDisplay(confusion_matrix=cm, display_labels=[\"negative\", \"netural\", \"positive\"])\n",
        "\n",
        "plt.figure(figsize=(5, 5))\n",
        "plt.imshow(cm, interpolation=\"nearest\", cmap=\"Blues\")\n",
        "plt.title(\"Confusion Matrix (Test) — Sentiment DistillBERT\", fontsize=13)\n",
        "plt.xticks([0, 1, 2], [\"negative\", \"netural\", \"positive\"])\n",
        "plt.yticks([0, 1, 2], [\"negative\", \"netural\", \"positive\"])\n",
        "plt.xlabel(\"Predicted\")\n",
        "plt.ylabel(\"True\")\n",
        "\n",
        "for (i, j), v in np.ndenumerate(cm):\n",
        "    color = \"white\" if v > cm.max() / 2 else \"black\"\n",
        "    plt.text(j, i, str(v), ha=\"center\", va=\"center\", color=color, fontsize=13)\n",
        "\n",
        "plt.tight_layout()\n",
        "\n",
        "# === SAVE TO FILE ===\n",
        "plt.savefig(\"figures/confusion_matrix_distilbert_sentiment.png\", dpi=300, bbox_inches=\"tight\")\n",
        "plt.show()"
      ],
      "metadata": {
        "colab": {
          "base_uri": "https://localhost:8080/",
          "height": 482
        },
        "id": "B2zXVTDsgWjL",
        "outputId": "82f5c79b-678d-4f05-9618-d1472b486dda"
      },
      "execution_count": 65,
      "outputs": [
        {
          "output_type": "display_data",
          "data": {
            "text/plain": [
              "<IPython.core.display.HTML object>"
            ],
            "text/html": []
          },
          "metadata": {}
        },
        {
          "output_type": "display_data",
          "data": {
            "text/plain": [
              "<Figure size 500x500 with 1 Axes>"
            ],
            "image/png": "[encoded data removed]"
          },
          "metadata": {}
        }
      ]
    },
    {
      "cell_type": "code",
      "source": [
        "from sklearn.metrics import accuracy_score, f1_score, precision_score, recall_score\n",
        "\n",
        "# Compute metrics from test predictions\n",
        "\n",
        "row_test = {\n",
        "    \"Model\": \"DistilBERT (Fine-tuned, test))\",\n",
        "    \"Accuracy\": round(accuracy_score(y_true, y_pred), 2),\n",
        "    \"Macro-F1\": round(f1_score(y_true, y_pred, average=\"macro\"), 2),\n",
        "    \"Precision\": round(precision_score(y_true, y_pred, average=\"macro\"), 2),\n",
        "    \"Recall\": round(recall_score(y_true, y_pred, average=\"macro\"), 2)\n",
        "}\n",
        "\n",
        "# Create dataframe or append to file\n",
        "try:\n",
        "    df_test = pd.read_csv(\"figures/model_comparison_sentiment.csv\")\n",
        "except FileNotFoundError:\n",
        "    df_test = pd.DataFrame(columns=[\"Model\", \"Accuracy\", \"Macro-F1\", \"Precision\", \"Recall\"])\n",
        "\n",
        "df_test = pd.concat([df_test, pd.DataFrame([row_test])], ignore_index=True)\n",
        "\n",
        "# Save updated comparison table\n",
        "df_test.to_csv(\"figures/model_comparison_sentiment.csv\", index=False)\n",
        "print(\"Added DistilBERT results to model_comparison_sentiment.csv\")\n",
        "print(df_test)"
      ],
      "metadata": {
        "colab": {
          "base_uri": "https://localhost:8080/"
        },
        "id": "R9nuyFxGgWf8",
        "outputId": "5a7d4145-45c6-41ed-9c5f-c3927b99e9cc"
      },
      "execution_count": 57,
      "outputs": [
        {
          "output_type": "stream",
          "name": "stdout",
          "text": [
            "Added DistilBERT results to model_comparison_sentiment.csv\n",
            "                            Model  Accuracy  Macro-F1  Precision  Recall\n",
            "0                    SVM (TF–IDF)      0.87      0.70       0.73    0.69\n",
            "1  DistilBERT (Fine-tuned, test))      0.87      0.73       0.74    0.73\n"
          ]
        }
      ]
    },
    {
      "cell_type": "code",
      "source": [
        "import numpy as np\n",
        "import matplotlib.pyplot as plt\n",
        "from sklearn.metrics import confusion_matrix, ConfusionMatrixDisplay\n",
        "from transformers import DistilBertTokenizer, DistilBertForSequenceClassification, Trainer\n",
        "\n",
        "# === 1) Load the fine-tuned model and tokenizer ===\n",
        "MODEL_DIR = \"/content/drive/MyDrive/Colab Notebooks/airbnb_nz_deception_sentiment/artifacts/distilbert_sentiment_sweep/best_model\"\n",
        "\n",
        "tokenizer = DistilBertTokenizer.from_pretrained(MODEL_DIR)\n",
        "model = DistilBertForSequenceClassification.from_pretrained(MODEL_DIR)\n",
        "\n",
        "# === 2) Initialize Trainer (for prediction) ===\n",
        "trainer = Trainer(model=model)\n",
        "\n",
        "# === 3) Run prediction on test dataset ===\n",
        "preds_output = trainer.predict(test_ds)\n",
        "y_pred = np.argmax(preds_output.predictions, axis=1)\n",
        "y_true = preds_output.label_ids\n",
        "\n",
        "# === 4) Create confusion matrix ===\n",
        "labels = [\"negative\", \"neutral\", \"positive\"]\n",
        "cm = confusion_matrix(y_true, y_pred)\n",
        "\n",
        "# --- Plot raw confusion matrix ---\n",
        "plt.figure(figsize=(5, 5))\n",
        "disp = ConfusionMatrixDisplay(confusion_matrix=cm, display_labels=labels)\n",
        "disp.plot(cmap=\"Blues\", colorbar=False)\n",
        "plt.title(\"Confusion Matrix (Test) — Sentiment DistilBERT\", fontsize=13)\n",
        "plt.tight_layout()\n",
        "plt.savefig(\"figures/confusion_matrix_distilbert_sentiment.png\", dpi=300, bbox_inches=\"tight\")\n",
        "\n",
        "# --- Plot normalized confusion matrix (percentages) ---\n",
        "cm_normalized = cm.astype(\"float\") / cm.sum(axis=1)[:, np.newaxis]\n",
        "plt.figure(figsize=(5, 5))\n",
        "disp_norm = ConfusionMatrixDisplay(confusion_matrix=cm_normalized, display_labels=labels)\n",
        "disp_norm.plot(cmap=\"Blues\", colorbar=False, values_format=\".2f\")\n",
        "plt.title(\"Normalized Confusion Matrix (Test) — Sentiment DistilBERT\", fontsize=13)\n",
        "plt.tight_layout()\n",
        "plt.savefig(\"figures/confusion_matrix_distilbert_sentiment_normalized.png\", dpi=300, bbox_inches=\"tight\")\n",
        "\n",
        "plt.show()\n",
        "\n",
        "print(\"Confusion matrices saved to:\")\n",
        "print(\"  → Figures/confusion_matrix_distilbert_sentiment.png\")\n",
        "print(\"  → Figures/confusion_matrix_distilbert_sentiment_normalized.png\")"
      ],
      "metadata": {
        "colab": {
          "base_uri": "https://localhost:8080/",
          "height": 1000
        },
        "id": "YgqeSiclLIEp",
        "outputId": "de50a280-9599-4516-9101-cad33c580150"
      },
      "execution_count": 67,
      "outputs": [
        {
          "output_type": "stream",
          "name": "stderr",
          "text": [
            "Using the `WANDB_DISABLED` environment variable is deprecated and will be removed in v5. Use the --report_to flag to control the integrations used for logging result (for instance --report_to none).\n"
          ]
        },
        {
          "output_type": "display_data",
          "data": {
            "text/plain": [
              "<IPython.core.display.HTML object>"
            ],
            "text/html": []
          },
          "metadata": {}
        },
        {
          "output_type": "display_data",
          "data": {
            "text/plain": [
              "<Figure size 500x500 with 0 Axes>"
            ]
          },
          "metadata": {}
        },
        {
          "output_type": "display_data",
          "data": {
            "text/plain": [
              "<Figure size 640x480 with 1 Axes>"
            ],
            "image/png": "[encoded data removed]"
          },
          "metadata": {}
        },
        {
          "output_type": "display_data",
          "data": {
            "text/plain": [
              "<Figure size 500x500 with 0 Axes>"
            ]
          },
          "metadata": {}
        },
        {
          "output_type": "display_data",
          "data": {
            "text/plain": [
              "<Figure size 640x480 with 1 Axes>"
            ],
            "image/png": "[encoded data removed]"
          },
          "metadata": {}
        },
        {
          "output_type": "stream",
          "name": "stdout",
          "text": [
            "Confusion matrices saved to:\n",
            "  → Figures/confusion_matrix_distilbert_sentiment.png\n",
            "  → Figures/confusion_matrix_distilbert_sentiment_normalized.png\n"
          ]
        }
      ]
    },
    {
      "cell_type": "code",
      "source": [
        "import torch\n",
        "import joblib\n",
        "from transformers import AutoTokenizer, AutoModelForSequenceClassification\n",
        "\n",
        "# ======================\n",
        "# 1. Load trained model\n",
        "# ======================\n",
        "MODEL_DIR = \"artifacts/distilbert_sentiment_sweep/best_model\"  # update if needed\n",
        "\n",
        "tokenizer = AutoTokenizer.from_pretrained(MODEL_DIR)\n",
        "model = AutoModelForSequenceClassification.from_pretrained(MODEL_DIR)\n",
        "id2label = joblib.load(f\"{MODEL_DIR}/label_map.joblib\")\n",
        "\n",
        "model.eval()\n",
        "device = torch.device(\"cuda\" if torch.cuda.is_available() else \"cpu\")\n",
        "model.to(device)\n",
        "\n",
        "# ======================\n",
        "# 2. Define inference function\n",
        "# ======================\n",
        "def predict_sentiment(texts, model=model, tokenizer=tokenizer, id2label=id2label):\n",
        "    \"\"\"\n",
        "    Perform sentiment prediction on a list of texts.\n",
        "    Returns: list of dicts with predicted label and probabilities.\n",
        "    \"\"\"\n",
        "    inputs = tokenizer(\n",
        "        texts,\n",
        "        padding=True,\n",
        "        truncation=True,\n",
        "        max_length=256,\n",
        "        return_tensors=\"pt\"\n",
        "    ).to(device)\n",
        "\n",
        "    with torch.no_grad():\n",
        "        outputs = model(**inputs)\n",
        "        probs = torch.nn.functional.softmax(outputs.logits, dim=-1)\n",
        "        preds = torch.argmax(probs, dim=-1)\n",
        "\n",
        "    results = []\n",
        "    for i, text in enumerate(texts):\n",
        "        pred_label = id2label[int(preds[i])]\n",
        "        prob_dict = {\n",
        "            id2label[j]: float(probs[i][j]) for j in range(probs.shape[1])\n",
        "        }\n",
        "        results.append({\n",
        "            \"text\": text,\n",
        "            \"predicted_label\": pred_label,\n",
        "            \"probabilities\": prob_dict\n",
        "        })\n",
        "    return results\n",
        "\n",
        "\n",
        "# ======================\n",
        "# 3. Test on sample examples\n",
        "# ======================\n",
        "examples = [\n",
        "    \"The room was clean and the staff were extremely helpful.\",\n",
        "    \"It was okay, nothing special about the experience.\",\n",
        "    \"The food was terrible and the service was slow.\"\n",
        "]\n",
        "\n",
        "predictions = predict_sentiment(examples)\n",
        "\n",
        "# Pretty-print results\n",
        "for p in predictions:\n",
        "    print(f\"\\nText: {p['text']}\")\n",
        "    print(f\"Predicted Sentiment: {p['predicted_label']}\")\n",
        "    for label, prob in p[\"probabilities\"].items():\n",
        "        print(f\"  {label}: {prob:.4f}\")"
      ],
      "metadata": {
        "colab": {
          "base_uri": "https://localhost:8080/"
        },
        "id": "Jm7bF3NTgWaR",
        "outputId": "f37f9952-40ae-4beb-d2d2-5203782d657f"
      },
      "execution_count": 58,
      "outputs": [
        {
          "output_type": "stream",
          "name": "stdout",
          "text": [
            "\n",
            "Text: The room was clean and the staff were extremely helpful.\n",
            "Predicted Sentiment: positive\n",
            "  negative: 0.0024\n",
            "  neutral: 0.0553\n",
            "  positive: 0.9423\n",
            "\n",
            "Text: It was okay, nothing special about the experience.\n",
            "Predicted Sentiment: neutral\n",
            "  negative: 0.1068\n",
            "  neutral: 0.8738\n",
            "  positive: 0.0195\n",
            "\n",
            "Text: The food was terrible and the service was slow.\n",
            "Predicted Sentiment: negative\n",
            "  negative: 0.9965\n",
            "  neutral: 0.0029\n",
            "  positive: 0.0006\n"
          ]
        }
      ]
    },
    {
      "cell_type": "code",
      "source": [
        "!jupyter nbconvert --ClearMetadataPreprocessor.enabled=True --to notebook \"04_DistillBERT_sentiment.ipynb\" --output fixed.ipynb\n"
      ],
      "metadata": {
        "colab": {
          "base_uri": "https://localhost:8080/"
        },
        "id": "pPMeUAEqE4v1",
        "outputId": "7d42db28-20f5-4931-bb61-69069ed777b4"
      },
      "execution_count": null,
      "outputs": [
        {
          "output_type": "stream",
          "name": "stdout",
          "text": [
            "[NbConvertApp] Converting notebook 04_DistillBERT_sentiment.ipynb to notebook\n",
            "[NbConvertApp] Writing 83671 bytes to fixed.ipynb\n"
          ]
        }
      ]
    }
  ]
}