{
  "nbformat": 4,
  "nbformat_minor": 0,
  "metadata": {
    "colab": {
      "provenance": [],
      "authorship_tag": "ABX9TyOp0m27GieamKK1UldqjlWA",
      "include_colab_link": true
    },
    "kernelspec": {
      "name": "python3",
      "display_name": "Python 3"
    },
    "language_info": {
      "name": "python"
    }
  },
  "cells": [
    {
      "cell_type": "markdown",
      "metadata": {
        "id": "view-in-github",
        "colab_type": "text"
      },
      "source": [
        "<a href=\"https://colab.research.google.com/github/nantmoe-theingi/airbnb-nz-deception-sentiment/blob/main/notebooks/02_svm_deception.ipynb\" target=\"_parent\"><img src=\"https://colab.research.google.com/assets/colab-badge.svg\" alt=\"Open In Colab\"/></a>"
      ]
    },
    {
      "cell_type": "code",
      "source": [
        "PROJECT_DRIVE_DIR = \"/content/drive/MyDrive/Colab Notebooks/airbnb_nz_deception_sentiment\"\n",
        "\n",
        "from google.colab import drive\n",
        "drive.mount('/content/drive')\n",
        "\n",
        "import os\n",
        "os.makedirs(PROJECT_DRIVE_DIR, exist_ok=True)\n",
        "print(\"Drive project folder:\", PROJECT_DRIVE_DIR)"
      ],
      "metadata": {
        "colab": {
          "base_uri": "https://localhost:8080/"
        },
        "id": "Vu2kkg1f-_R4",
        "outputId": "44796d09-9a71-4324-936f-75ca8da5043e"
      },
      "execution_count": 44,
      "outputs": [
        {
          "output_type": "stream",
          "name": "stdout",
          "text": [
            "Drive already mounted at /content/drive; to attempt to forcibly remount, call drive.mount(\"/content/drive\", force_remount=True).\n",
            "Drive project folder: /content/drive/MyDrive/Colab Notebooks/airbnb_nz_deception_sentiment\n"
          ]
        }
      ]
    },
    {
      "cell_type": "code",
      "source": [
        "cd /content/drive/MyDrive/Colab\\ Notebooks/airbnb_nz_deception_sentiment"
      ],
      "metadata": {
        "colab": {
          "base_uri": "https://localhost:8080/"
        },
        "id": "kqI4LTT-_kiy",
        "outputId": "2406fc11-251c-4852-9f43-6334f50aea26"
      },
      "execution_count": 45,
      "outputs": [
        {
          "output_type": "stream",
          "name": "stdout",
          "text": [
            "/content/drive/MyDrive/Colab Notebooks/airbnb_nz_deception_sentiment\n"
          ]
        }
      ]
    },
    {
      "cell_type": "code",
      "execution_count": 46,
      "metadata": {
        "colab": {
          "base_uri": "https://localhost:8080/"
        },
        "id": "BYcxibC2-q4D",
        "outputId": "a7013538-9554-4e3a-bfc6-7dc4773ca1ad"
      },
      "outputs": [
        {
          "output_type": "stream",
          "name": "stdout",
          "text": [
            "<class 'pandas.core.frame.DataFrame'>\n",
            "RangeIndex: 1600 entries, 0 to 1599\n",
            "Data columns (total 5 columns):\n",
            " #   Column     Non-Null Count  Dtype \n",
            "---  ------     --------------  ----- \n",
            " 0   deceptive  1600 non-null   object\n",
            " 1   hotel      1600 non-null   object\n",
            " 2   polarity   1600 non-null   object\n",
            " 3   source     1600 non-null   object\n",
            " 4   text       1600 non-null   object\n",
            "dtypes: object(5)\n",
            "memory usage: 62.6+ KB\n",
            "None\n",
            "  deceptive   hotel  polarity       source  \\\n",
            "0  truthful  conrad  positive  TripAdvisor   \n",
            "1  truthful   hyatt  positive  TripAdvisor   \n",
            "2  truthful   hyatt  positive  TripAdvisor   \n",
            "3  truthful    omni  positive  TripAdvisor   \n",
            "4  truthful   hyatt  positive  TripAdvisor   \n",
            "\n",
            "                                                text  \n",
            "0  We stayed for a one night getaway with family ...  \n",
            "1  Triple A rate with upgrade to view room was le...  \n",
            "2  This comes a little late as I'm finally catchi...  \n",
            "3  The Omni Chicago really delivers on all fronts...  \n",
            "4  I asked for a high floor away from the elevato...  \n"
          ]
        }
      ],
      "source": [
        "import pandas as pd\n",
        "\n",
        "# Load dataset\n",
        "df = pd.read_csv(\"data/deceptive_opinion.csv\")\n",
        "\n",
        "# 1. Check basic info\n",
        "print(df.info())\n",
        "print(df.head())"
      ]
    },
    {
      "cell_type": "code",
      "source": [
        "# 2. Check missing values\n",
        "print(\"Missing values per column:\\n\", df.isna().sum())\n",
        "\n",
        "# 3. Check duplicates\n",
        "dup_texts = df.duplicated(subset=[\"text\"]).sum()\n",
        "df = df.drop_duplicates(subset=[\"text\"], keep=\"first\").copy()\n",
        "print(f\"[Duplicate Reviews] Removed {dup_texts:,} identical comment texts → {len(df):,} remain.\")\n",
        "\n",
        "\n",
        "# 4. Label distribution\n",
        "print(\"Label distribution:\")\n",
        "print(df[\"deceptive\"].value_counts())\n",
        "\n",
        "# If labels are strings, map them to numeric\n",
        "label_map = {\"truthful\": 0, \"deceptive\": 1}\n",
        "df[\"label\"] = df[\"deceptive\"].map(label_map)\n",
        "\n",
        "# 5. Class balance summary\n",
        "total = len(df)\n",
        "for lbl, count in df[\"label\"].value_counts().items():\n",
        "    pct = (count / total) * 100\n",
        "    print(f\"Class {lbl} ({'deceptive' if lbl==1 else 'truthful'}): {count} ({pct:.2f}%)\")\n",
        "\n",
        "# check text length check\n",
        "df[\"length\"] = df[\"text\"].str.split().apply(len)\n",
        "print(\"Average review length (in words):\", df[\"length\"].mean())\n",
        "print(\"Shortest:\", df[\"length\"].min(), \"| Longest:\", df[\"length\"].max())"
      ],
      "metadata": {
        "colab": {
          "base_uri": "https://localhost:8080/"
        },
        "id": "c5vWsREkHt1v",
        "outputId": "fd1c15af-74ec-435c-877d-bd8ac7b50d0a"
      },
      "execution_count": 47,
      "outputs": [
        {
          "output_type": "stream",
          "name": "stdout",
          "text": [
            "Missing values per column:\n",
            " deceptive    0\n",
            "hotel        0\n",
            "polarity     0\n",
            "source       0\n",
            "text         0\n",
            "dtype: int64\n",
            "[Duplicate Reviews] Removed 4 identical comment texts → 1,596 remain.\n",
            "Label distribution:\n",
            "deceptive\n",
            "deceptive    800\n",
            "truthful     796\n",
            "Name: count, dtype: int64\n",
            "Class 1 (deceptive): 800 (50.13%)\n",
            "Class 0 (truthful): 796 (49.87%)\n",
            "Average review length (in words): 148.71804511278197\n",
            "Shortest: 25 | Longest: 784\n"
          ]
        }
      ]
    },
    {
      "cell_type": "code",
      "source": [
        "import numpy as np\n",
        "from pathlib import Path\n",
        "\n",
        "from sklearn.model_selection import train_test_split, StratifiedKFold, GridSearchCV\n",
        "from sklearn.feature_extraction.text import TfidfVectorizer\n",
        "from sklearn.pipeline import Pipeline\n",
        "from sklearn.svm import LinearSVC\n",
        "from sklearn.metrics import classification_report, confusion_matrix, accuracy_score, f1_score\n",
        "import joblib\n",
        "import matplotlib.pyplot as plt\n",
        "\n",
        "RANDOM_STATE = 42\n",
        "ARTIFACTS_DIR = Path(\"artifacts/deception_svm\")\n",
        "ARTIFACTS_DIR.mkdir(parents=True, exist_ok=True)"
      ],
      "metadata": {
        "id": "-N7noeZECu0C"
      },
      "execution_count": 48,
      "outputs": []
    },
    {
      "cell_type": "code",
      "source": [
        "import matplotlib.pyplot as plt\n",
        "\n",
        "label_type = {0: \"Truthful\", 1: \"Deceptive\"}\n",
        "\n",
        "# Count per class\n",
        "counts = df[\"label\"].value_counts().rename(index=label_type).sort_index()\n",
        "\n",
        "# --- Plot ---\n",
        "plt.figure(figsize=(5,6))\n",
        "bars = plt.bar(counts.index, counts.values, color=\"#4C72B0\")\n",
        "plt.title(\"Label Distribution in Deceptive Opinion Spam Corpus\")\n",
        "plt.ylabel(\"Number of Reviews\")\n",
        "plt.xlabel(\"Class Label\")\n",
        "\n",
        "# Add value labels on top\n",
        "for bar in bars:\n",
        "    yval = bar.get_height()\n",
        "    plt.text(bar.get_x() + bar.get_width()/2, yval + 5, int(yval),\n",
        "             ha='center', va='bottom', fontsize=10)\n",
        "\n",
        "plt.tight_layout()\n",
        "plt.savefig(\"figures/deceptive_opinion_label_distribution.png\", dpi=300)\n",
        "plt.show()"
      ],
      "metadata": {
        "colab": {
          "base_uri": "https://localhost:8080/",
          "height": 607
        },
        "id": "1AEtAqUlWL0o",
        "outputId": "190058e2-c879-4cf8-dbd8-ccd769232fa2"
      },
      "execution_count": 52,
      "outputs": [
        {
          "output_type": "display_data",
          "data": {
            "text/plain": [
              "<Figure size 500x600 with 1 Axes>"
            ],
            "image/png": "[encoded data removed]"
          },
          "metadata": {}
        }
      ]
    },
    {
      "cell_type": "code",
      "source": [
        "print(df[\"label\"].value_counts(dropna=False))\n",
        "print(df.head(2))"
      ],
      "metadata": {
        "colab": {
          "base_uri": "https://localhost:8080/"
        },
        "id": "t--Q0jALOC-C",
        "outputId": "c4ef7dab-d084-40c9-d259-5daa6c385ef5"
      },
      "execution_count": 53,
      "outputs": [
        {
          "output_type": "stream",
          "name": "stdout",
          "text": [
            "label\n",
            "1    800\n",
            "0    796\n",
            "Name: count, dtype: int64\n",
            "  deceptive   hotel  polarity       source  \\\n",
            "0  truthful  conrad  positive  TripAdvisor   \n",
            "1  truthful   hyatt  positive  TripAdvisor   \n",
            "\n",
            "                                                text  label  length  \n",
            "0  We stayed for a one night getaway with family ...      0     105  \n",
            "1  Triple A rate with upgrade to view room was le...      0      45  \n"
          ]
        }
      ]
    },
    {
      "cell_type": "code",
      "source": [
        "X_train, X_temp, y_train, y_temp = train_test_split(\n",
        "    df[\"text\"], df[\"label\"], test_size=0.2, random_state=RANDOM_STATE, stratify=df[\"label\"]\n",
        ")\n",
        "X_val, X_test, y_val, y_test = train_test_split(\n",
        "    X_temp, y_temp, test_size=0.5, random_state=RANDOM_STATE, stratify=y_temp\n",
        ")\n",
        "\n",
        "print(f\"Train: {len(X_train)} | Val: {len(X_val)} | Test: {len(X_test)}\")"
      ],
      "metadata": {
        "colab": {
          "base_uri": "https://localhost:8080/"
        },
        "id": "bNJiBLZTODBZ",
        "outputId": "53b412fb-2aa0-4371-c8bd-2ae0be630d1a"
      },
      "execution_count": 54,
      "outputs": [
        {
          "output_type": "stream",
          "name": "stdout",
          "text": [
            "Train: 1276 | Val: 160 | Test: 160\n"
          ]
        }
      ]
    },
    {
      "cell_type": "code",
      "source": [
        "# Pipeline: TF-IDF (1–2 grams) -> LinearSVC\n",
        "# Characteristic setup that works well for deception datasets: 1–2 n-grams, sublinear TF, min_df to ignore rare tokens.\n",
        "svm_pipe = Pipeline([\n",
        "    (\"tfidf\", TfidfVectorizer(\n",
        "        lowercase=True,\n",
        "        strip_accents=\"unicode\",\n",
        "        ngram_range=(1,2),\n",
        "        min_df=2,\n",
        "        max_df=0.9,\n",
        "        sublinear_tf=True\n",
        "    )),\n",
        "    (\"clf\", LinearSVC(random_state=RANDOM_STATE))\n",
        "])"
      ],
      "metadata": {
        "id": "p-uhaVTUODG4"
      },
      "execution_count": 55,
      "outputs": []
    },
    {
      "cell_type": "code",
      "source": [
        "# Hyperparameter search\n",
        "param_grid = {\n",
        "    \"clf__C\": [0.25, 0.5, 1.0, 2.0, 4.0],\n",
        "}\n",
        "cv = StratifiedKFold(n_splits=5, shuffle=True, random_state=RANDOM_STATE)\n",
        "\n",
        "grid = GridSearchCV(\n",
        "    svm_pipe,\n",
        "    param_grid=param_grid,\n",
        "    scoring=\"f1\",  # macro or binary; binary f1 assumes positive class=1 (deceptive)\n",
        "    cv=cv,\n",
        "    n_jobs=-1,\n",
        "    verbose=1,\n",
        "    refit=True\n",
        ")\n",
        "grid.fit(X_train, y_train)\n",
        "\n",
        "print(\"Best params:\", grid.best_params_)\n",
        "print(\"Best CV score (F1):\", grid.best_score_)\n",
        "best_model = grid.best_estimator_"
      ],
      "metadata": {
        "colab": {
          "base_uri": "https://localhost:8080/"
        },
        "id": "4mXLomWjODKi",
        "outputId": "8a3d6173-e0fb-46f0-d1c6-478bed9d8557"
      },
      "execution_count": 56,
      "outputs": [
        {
          "output_type": "stream",
          "name": "stdout",
          "text": [
            "Fitting 5 folds for each of 5 candidates, totalling 25 fits\n",
            "Best params: {'clf__C': 4.0}\n",
            "Best CV score (F1): 0.8956235076893282\n"
          ]
        }
      ]
    },
    {
      "cell_type": "code",
      "source": [
        "# Validate\n",
        "y_val_pred = best_model.predict(X_val)\n",
        "print(\"\\nVALIDATION\")\n",
        "print(\"Accuracy:\", accuracy_score(y_val, y_val_pred))\n",
        "print(\"F1 (deceptive=1):\", f1_score(y_val, y_val_pred))\n",
        "print(classification_report(y_val, y_val_pred, target_names=[\"truthful\",\"deceptive\"]))"
      ],
      "metadata": {
        "colab": {
          "base_uri": "https://localhost:8080/"
        },
        "id": "9L3wGtq-QTZN",
        "outputId": "2e46d3b0-cdf4-4835-e039-099b45abf375"
      },
      "execution_count": 57,
      "outputs": [
        {
          "output_type": "stream",
          "name": "stdout",
          "text": [
            "\n",
            "VALIDATION\n",
            "Accuracy: 0.9125\n",
            "F1 (deceptive=1): 0.9135802469135802\n",
            "              precision    recall  f1-score   support\n",
            "\n",
            "    truthful       0.92      0.90      0.91        80\n",
            "   deceptive       0.90      0.93      0.91        80\n",
            "\n",
            "    accuracy                           0.91       160\n",
            "   macro avg       0.91      0.91      0.91       160\n",
            "weighted avg       0.91      0.91      0.91       160\n",
            "\n"
          ]
        }
      ]
    },
    {
      "cell_type": "code",
      "source": [
        "# 6) Test\n",
        "y_test_pred = best_model.predict(X_test)\n",
        "print(\"\\nTEST\")\n",
        "print(\"Accuracy:\", accuracy_score(y_test, y_test_pred))\n",
        "print(\"F1 (deceptive=1):\", f1_score(y_test, y_test_pred))\n",
        "print(classification_report(y_test, y_test_pred, target_names=[\"truthful\",\"deceptive\"]))\n",
        "\n",
        "cm = confusion_matrix(y_test, y_test_pred)\n",
        "print(\"Confusion matrix (test):\\n\", cm)"
      ],
      "metadata": {
        "colab": {
          "base_uri": "https://localhost:8080/"
        },
        "id": "RLg3obm3QTc5",
        "outputId": "8c5766a5-fb36-470e-e618-086ef0f2ac46"
      },
      "execution_count": 58,
      "outputs": [
        {
          "output_type": "stream",
          "name": "stdout",
          "text": [
            "\n",
            "TEST\n",
            "Accuracy: 0.86875\n",
            "F1 (deceptive=1): 0.8727272727272727\n",
            "              precision    recall  f1-score   support\n",
            "\n",
            "    truthful       0.89      0.84      0.86        80\n",
            "   deceptive       0.85      0.90      0.87        80\n",
            "\n",
            "    accuracy                           0.87       160\n",
            "   macro avg       0.87      0.87      0.87       160\n",
            "weighted avg       0.87      0.87      0.87       160\n",
            "\n",
            "Confusion matrix (test):\n",
            " [[67 13]\n",
            " [ 8 72]]\n"
          ]
        }
      ]
    },
    {
      "cell_type": "code",
      "source": [
        "# CM plot\n",
        "plt.figure()\n",
        "plt.imshow(cm, interpolation=\"nearest\")\n",
        "plt.title(\"Confusion Matrix (Test) — Deception SVM\")\n",
        "plt.xticks([0,1], [\"truthful\",\"deceptive\"])\n",
        "plt.yticks([0,1], [\"truthful\",\"deceptive\"])\n",
        "for (i,j),v in np.ndenumerate(cm):\n",
        "    plt.text(j, i, str(v), ha=\"center\", va=\"center\")\n",
        "plt.xlabel(\"Predicted\");\n",
        "plt.ylabel(\"True\");\n",
        "plt.tight_layout();\n",
        "plt.show()"
      ],
      "metadata": {
        "colab": {
          "base_uri": "https://localhost:8080/",
          "height": 487
        },
        "id": "I3ovN8WEQTg_",
        "outputId": "3a388ce7-95f9-4c16-e408-36a8fdd5f85d"
      },
      "execution_count": 59,
      "outputs": [
        {
          "output_type": "display_data",
          "data": {
            "text/plain": [
              "<Figure size 640x480 with 1 Axes>"
            ],
            "image/png": "[encoded data removed]"
          },
          "metadata": {}
        }
      ]
    },
    {
      "cell_type": "code",
      "source": [
        "# 7) Save artifacts\n",
        "joblib.dump(best_model, ARTIFACTS_DIR / \"svm_deception_pipeline.joblib\")\n",
        "joblib.dump({\"truthful\":0, \"deceptive\":1}, ARTIFACTS_DIR / \"label_map.joblib\")\n",
        "print(\"Saved model & label map to:\", ARTIFACTS_DIR.resolve())"
      ],
      "metadata": {
        "colab": {
          "base_uri": "https://localhost:8080/"
        },
        "id": "ves2jwjgQTnP",
        "outputId": "5cae5b0c-f9f0-4614-d1a1-44164bcbb2d1"
      },
      "execution_count": 60,
      "outputs": [
        {
          "output_type": "stream",
          "name": "stdout",
          "text": [
            "Saved model & label map to: /content/drive/MyDrive/Colab Notebooks/airbnb_nz_deception_sentiment/artifacts/deception_svm\n"
          ]
        }
      ]
    },
    {
      "cell_type": "code",
      "source": [
        "# Inference helper to reuse\n",
        "def predict_deception(texts, pipeline_path=ARTIFACTS_DIR / \"svm_deception_pipeline.joblib\"):\n",
        "    model = joblib.load(pipeline_path)\n",
        "    preds = model.predict(texts)\n",
        "    return preds  # 0 truthful, 1 deceptive\n",
        "\n",
        "# Example:\n",
        "preds = predict_deception(pd.Series([\"The hotel was lovely, great service!\", \"Totally fake vibe...\"]))\n",
        "print(preds)"
      ],
      "metadata": {
        "colab": {
          "base_uri": "https://localhost:8080/"
        },
        "id": "uOM6hjYzQTqF",
        "outputId": "1a7dc4e1-4a01-41ba-e467-1f02c95e2b2f"
      },
      "execution_count": 61,
      "outputs": [
        {
          "output_type": "stream",
          "name": "stdout",
          "text": [
            "[0 0]\n"
          ]
        }
      ]
    }
  ]
}