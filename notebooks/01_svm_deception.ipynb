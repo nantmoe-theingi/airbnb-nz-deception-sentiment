{
  "nbformat": 4,
  "nbformat_minor": 0,
  "metadata": {
    "colab": {
      "provenance": [],
      "authorship_tag": "ABX9TyPF3rv2s2jJ9MoGmz3Zaayu",
      "include_colab_link": true
    },
    "kernelspec": {
      "name": "python3",
      "display_name": "Python 3"
    },
    "language_info": {
      "name": "python"
    }
  },
  "cells": [
    {
      "cell_type": "markdown",
      "metadata": {
        "id": "view-in-github",
        "colab_type": "text"
      },
      "source": [
        "<a href=\"https://colab.research.google.com/github/nantmoe-theingi/airbnb-nz-deception-sentiment/blob/main/notebooks/01_svm_deception.ipynb\" target=\"_parent\"><img src=\"https://colab.research.google.com/assets/colab-badge.svg\" alt=\"Open In Colab\"/></a>"
      ]
    },
    {
      "cell_type": "code",
      "execution_count": null,
      "metadata": {
        "colab": {
          "base_uri": "https://localhost:8080/"
        },
        "id": "BYcxibC2-q4D",
        "outputId": "b92a381d-f930-4e42-f8f4-ea5d6cd150ba"
      },
      "outputs": [
        {
          "output_type": "stream",
          "name": "stdout",
          "text": [
            "<class 'pandas.core.frame.DataFrame'>\n",
            "RangeIndex: 1600 entries, 0 to 1599\n",
            "Data columns (total 5 columns):\n",
            " #   Column     Non-Null Count  Dtype \n",
            "---  ------     --------------  ----- \n",
            " 0   deceptive  1600 non-null   object\n",
            " 1   hotel      1600 non-null   object\n",
            " 2   polarity   1600 non-null   object\n",
            " 3   source     1600 non-null   object\n",
            " 4   text       1600 non-null   object\n",
            "dtypes: object(5)\n",
            "memory usage: 62.6+ KB\n",
            "None\n",
            "  deceptive   hotel  polarity       source  \\\n",
            "0  truthful  conrad  positive  TripAdvisor   \n",
            "1  truthful   hyatt  positive  TripAdvisor   \n",
            "2  truthful   hyatt  positive  TripAdvisor   \n",
            "3  truthful    omni  positive  TripAdvisor   \n",
            "4  truthful   hyatt  positive  TripAdvisor   \n",
            "\n",
            "                                                text  \n",
            "0  We stayed for a one night getaway with family ...  \n",
            "1  Triple A rate with upgrade to view room was le...  \n",
            "2  This comes a little late as I'm finally catchi...  \n",
            "3  The Omni Chicago really delivers on all fronts...  \n",
            "4  I asked for a high floor away from the elevato...  \n"
          ]
        }
      ],
      "source": [
        "import pandas as pd\n",
        "\n",
        "# Load dataset\n",
        "df = pd.read_csv(\"data/deceptive_opinion.csv\")\n",
        "\n",
        "# 1. Check basic info\n",
        "print(df.info())\n",
        "print(df.head())"
      ]
    },
    {
      "cell_type": "code",
      "source": [
        "from langdetect import detect\n",
        "# Detect language for each review\n",
        "df[\"language\"] = df[\"text\"].apply(lambda x: detect(x) if isinstance(x, str) and x.strip() else \"unknown\")\n",
        "\n",
        "# Keep only English reviews\n",
        "english_df = df[df[\"language\"] == \"en\"]\n",
        "\n",
        "print(len(df))\n",
        "print(\"\\nEnglish only:\")\n",
        "print(len(english_df))"
      ],
      "metadata": {
        "id": "YWvu5RZmQ_Wn",
        "outputId": "25c823c8-c5fe-47cb-f90f-80b96de00d2a",
        "colab": {
          "base_uri": "https://localhost:8080/"
        }
      },
      "execution_count": 5,
      "outputs": [
        {
          "output_type": "stream",
          "name": "stdout",
          "text": [
            "1596\n",
            "\n",
            "English only:\n",
            "1596\n"
          ]
        }
      ]
    },
    {
      "cell_type": "code",
      "source": [
        "# 2. Check missing values\n",
        "print(\"Missing values per column:\\n\", df.isna().sum())\n",
        "\n",
        "# 3. Check duplicates\n",
        "dup_texts = df.duplicated(subset=[\"text\"]).sum()\n",
        "df = df.drop_duplicates(subset=[\"text\"], keep=\"first\").copy()\n",
        "print(f\"[Duplicate Reviews] Removed {dup_texts:,} identical comment texts → {len(df):,} remain.\")\n",
        "\n",
        "\n",
        "# 4. Label distribution\n",
        "print(\"Label distribution:\")\n",
        "print(df[\"deceptive\"].value_counts())\n",
        "\n",
        "# If labels are strings, map them to numeric\n",
        "label_map = {\"truthful\": 0, \"deceptive\": 1}\n",
        "df[\"label\"] = df[\"deceptive\"].map(label_map)\n",
        "\n",
        "# 5. Class balance summary\n",
        "total = len(df)\n",
        "for lbl, count in df[\"label\"].value_counts().items():\n",
        "    pct = (count / total) * 100\n",
        "    print(f\"Class {lbl} ({'deceptive' if lbl==1 else 'truthful'}): {count} ({pct:.2f}%)\")\n",
        "\n",
        "# check text length check\n",
        "df[\"length\"] = df[\"text\"].str.split().apply(len)\n",
        "print(\"Average review length (in words):\", df[\"length\"].mean())\n",
        "print(\"Shortest:\", df[\"length\"].min(), \"| Longest:\", df[\"length\"].max())"
      ],
      "metadata": {
        "colab": {
          "base_uri": "https://localhost:8080/"
        },
        "id": "c5vWsREkHt1v",
        "outputId": "faa3e29b-acf7-4465-c4df-04fa37a618d8"
      },
      "execution_count": null,
      "outputs": [
        {
          "output_type": "stream",
          "name": "stdout",
          "text": [
            "Missing values per column:\n",
            " deceptive    0\n",
            "hotel        0\n",
            "polarity     0\n",
            "source       0\n",
            "text         0\n",
            "dtype: int64\n",
            "[Duplicate Reviews] Removed 4 identical comment texts → 1,596 remain.\n",
            "Label distribution:\n",
            "deceptive\n",
            "deceptive    800\n",
            "truthful     796\n",
            "Name: count, dtype: int64\n",
            "Class 1 (deceptive): 800 (50.13%)\n",
            "Class 0 (truthful): 796 (49.87%)\n",
            "Average review length (in words): 148.71804511278197\n",
            "Shortest: 25 | Longest: 784\n"
          ]
        }
      ]
    },
    {
      "cell_type": "code",
      "source": [
        "import numpy as np\n",
        "from pathlib import Path\n",
        "\n",
        "from sklearn.model_selection import train_test_split, StratifiedKFold, GridSearchCV\n",
        "from sklearn.feature_extraction.text import TfidfVectorizer\n",
        "from sklearn.pipeline import Pipeline\n",
        "from sklearn.svm import LinearSVC\n",
        "from sklearn.metrics import classification_report, confusion_matrix, accuracy_score, f1_score\n",
        "import joblib\n",
        "import matplotlib.pyplot as plt\n",
        "\n",
        "RANDOM_STATE = 42\n",
        "ARTIFACTS_DIR = Path(\"artifacts/deception_svm\")\n",
        "ARTIFACTS_DIR.mkdir(parents=True, exist_ok=True)"
      ],
      "metadata": {
        "id": "-N7noeZECu0C"
      },
      "execution_count": null,
      "outputs": []
    },
    {
      "cell_type": "code",
      "source": [
        "import matplotlib.pyplot as plt\n",
        "\n",
        "label_type = {0: \"Truthful\", 1: \"Deceptive\"}\n",
        "\n",
        "# Count per class\n",
        "counts = df[\"label\"].value_counts().rename(index=label_type).sort_index()\n",
        "\n",
        "# --- Plot ---\n",
        "plt.figure(figsize=(5,6))\n",
        "bars = plt.bar(counts.index, counts.values, color=\"#4C72B0\")\n",
        "plt.title(\"Label Distribution in Deceptive Opinion Spam Corpus\")\n",
        "plt.ylabel(\"Number of Reviews\")\n",
        "plt.xlabel(\"Class Label\")\n",
        "\n",
        "# Add value labels on top\n",
        "for bar in bars:\n",
        "    yval = bar.get_height()\n",
        "    plt.text(bar.get_x() + bar.get_width()/2, yval + 5, int(yval),\n",
        "             ha='center', va='bottom', fontsize=10)\n",
        "\n",
        "plt.tight_layout()\n",
        "plt.savefig(\"figures/deceptive_opinion_label_distribution.png\", dpi=300)\n",
        "plt.show()"
      ],
      "metadata": {
        "colab": {
          "base_uri": "https://localhost:8080/",
          "height": 606
        },
        "id": "1AEtAqUlWL0o",
        "outputId": "d33c2a06-a42a-4f09-c74a-a8d53bd94af7"
      },
      "execution_count": null,
      "outputs": [
        {
          "output_type": "display_data",
          "data": {
            "text/plain": [
              "<Figure size 500x600 with 1 Axes>"
            ],
            "image/png": "[encoded data removed]"
          },
          "metadata": {}
        }
      ]
    },
    {
      "cell_type": "code",
      "source": [
        "print(df[\"label\"].value_counts(dropna=False))\n",
        "print(df.head(2))"
      ],
      "metadata": {
        "colab": {
          "base_uri": "https://localhost:8080/"
        },
        "id": "t--Q0jALOC-C",
        "outputId": "76e2889b-0158-482d-f4a6-5d52a44f2bd4"
      },
      "execution_count": null,
      "outputs": [
        {
          "output_type": "stream",
          "name": "stdout",
          "text": [
            "label\n",
            "1    800\n",
            "0    796\n",
            "Name: count, dtype: int64\n",
            "  deceptive   hotel  polarity       source  \\\n",
            "0  truthful  conrad  positive  TripAdvisor   \n",
            "1  truthful   hyatt  positive  TripAdvisor   \n",
            "\n",
            "                                                text  label  length  \n",
            "0  We stayed for a one night getaway with family ...      0     105  \n",
            "1  Triple A rate with upgrade to view room was le...      0      45  \n"
          ]
        }
      ]
    },
    {
      "cell_type": "code",
      "source": [
        "X_train, X_temp, y_train, y_temp = train_test_split(\n",
        "    df[\"text\"], df[\"label\"], test_size=0.2, random_state=RANDOM_STATE, stratify=df[\"label\"]\n",
        ")\n",
        "X_val, X_test, y_val, y_test = train_test_split(\n",
        "    X_temp, y_temp, test_size=0.5, random_state=RANDOM_STATE, stratify=y_temp\n",
        ")\n",
        "\n",
        "print(f\"Train: {len(X_train)} | Val: {len(X_val)} | Test: {len(X_test)}\")"
      ],
      "metadata": {
        "colab": {
          "base_uri": "https://localhost:8080/"
        },
        "id": "bNJiBLZTODBZ",
        "outputId": "76cd0b4c-f0e3-4e02-82ea-711156eb6754"
      },
      "execution_count": null,
      "outputs": [
        {
          "output_type": "stream",
          "name": "stdout",
          "text": [
            "Train: 1276 | Val: 160 | Test: 160\n"
          ]
        }
      ]
    },
    {
      "cell_type": "code",
      "source": [
        "# Pipeline: TF-IDF (1–2 grams) -> LinearSVC\n",
        "# Characteristic setup that works well for deception datasets: 1–2 n-grams, sublinear TF, min_df to ignore rare tokens.\n",
        "svm_pipe = Pipeline([\n",
        "    (\"tfidf\", TfidfVectorizer(\n",
        "        lowercase=True,\n",
        "        strip_accents=\"unicode\",\n",
        "        ngram_range=(1,2),\n",
        "        min_df=2,\n",
        "        max_df=0.9,\n",
        "        sublinear_tf=True\n",
        "    )),\n",
        "    (\"clf\", LinearSVC(random_state=RANDOM_STATE))\n",
        "])"
      ],
      "metadata": {
        "id": "p-uhaVTUODG4"
      },
      "execution_count": null,
      "outputs": []
    },
    {
      "cell_type": "code",
      "source": [
        "# Hyperparameter search\n",
        "param_grid = {\n",
        "    \"clf__C\": [0.25, 0.5, 1.0, 2.0, 4.0],\n",
        "}\n",
        "cv = StratifiedKFold(n_splits=5, shuffle=True, random_state=RANDOM_STATE)\n",
        "\n",
        "grid = GridSearchCV(\n",
        "    svm_pipe,\n",
        "    param_grid=param_grid,\n",
        "    scoring=\"f1\",  # macro or binary; binary f1 assumes positive class=1 (deceptive)\n",
        "    cv=cv,\n",
        "    n_jobs=-1,\n",
        "    verbose=1,\n",
        "    refit=True\n",
        ")\n",
        "grid.fit(X_train, y_train)\n",
        "\n",
        "print(\"Best params:\", grid.best_params_)\n",
        "print(\"Best CV score (F1):\", grid.best_score_)\n",
        "best_model = grid.best_estimator_"
      ],
      "metadata": {
        "colab": {
          "base_uri": "https://localhost:8080/"
        },
        "id": "4mXLomWjODKi",
        "outputId": "856a8309-18af-46ba-accc-acf8985b054f"
      },
      "execution_count": null,
      "outputs": [
        {
          "output_type": "stream",
          "name": "stdout",
          "text": [
            "Fitting 5 folds for each of 5 candidates, totalling 25 fits\n",
            "Best params: {'clf__C': 4.0}\n",
            "Best CV score (F1): 0.8956235076893282\n"
          ]
        }
      ]
    },
    {
      "cell_type": "code",
      "source": [
        "# Validate\n",
        "y_val_pred = best_model.predict(X_val)\n",
        "print(\"\\nVALIDATION\")\n",
        "print(\"Accuracy:\", accuracy_score(y_val, y_val_pred))\n",
        "print(\"F1 (deceptive=1):\", f1_score(y_val, y_val_pred))\n",
        "print(classification_report(y_val, y_val_pred, target_names=[\"truthful\",\"deceptive\"]))"
      ],
      "metadata": {
        "colab": {
          "base_uri": "https://localhost:8080/"
        },
        "id": "9L3wGtq-QTZN",
        "outputId": "846ca5ba-36d1-49ce-dea1-18f6d028db74"
      },
      "execution_count": null,
      "outputs": [
        {
          "output_type": "stream",
          "name": "stdout",
          "text": [
            "\n",
            "VALIDATION\n",
            "Accuracy: 0.9125\n",
            "F1 (deceptive=1): 0.9135802469135802\n",
            "              precision    recall  f1-score   support\n",
            "\n",
            "    truthful       0.92      0.90      0.91        80\n",
            "   deceptive       0.90      0.93      0.91        80\n",
            "\n",
            "    accuracy                           0.91       160\n",
            "   macro avg       0.91      0.91      0.91       160\n",
            "weighted avg       0.91      0.91      0.91       160\n",
            "\n"
          ]
        }
      ]
    },
    {
      "cell_type": "code",
      "source": [
        "# 6) Test\n",
        "y_test_pred = best_model.predict(X_test)\n",
        "print(\"\\nTEST\")\n",
        "print(\"Accuracy:\", accuracy_score(y_test, y_test_pred))\n",
        "print(\"F1 (deceptive=1):\", f1_score(y_test, y_test_pred))\n",
        "print(classification_report(y_test, y_test_pred, target_names=[\"truthful\",\"deceptive\"]))\n",
        "\n",
        "cm = confusion_matrix(y_test, y_test_pred)\n",
        "print(\"Confusion matrix (test):\\n\", cm)"
      ],
      "metadata": {
        "colab": {
          "base_uri": "https://localhost:8080/"
        },
        "id": "RLg3obm3QTc5",
        "outputId": "7ba9793e-777a-4cdc-c6a6-565aa47fb453"
      },
      "execution_count": null,
      "outputs": [
        {
          "output_type": "stream",
          "name": "stdout",
          "text": [
            "\n",
            "TEST\n",
            "Accuracy: 0.86875\n",
            "F1 (deceptive=1): 0.8727272727272727\n",
            "              precision    recall  f1-score   support\n",
            "\n",
            "    truthful       0.89      0.84      0.86        80\n",
            "   deceptive       0.85      0.90      0.87        80\n",
            "\n",
            "    accuracy                           0.87       160\n",
            "   macro avg       0.87      0.87      0.87       160\n",
            "weighted avg       0.87      0.87      0.87       160\n",
            "\n",
            "Confusion matrix (test):\n",
            " [[67 13]\n",
            " [ 8 72]]\n"
          ]
        }
      ]
    },
    {
      "cell_type": "code",
      "source": [
        "# CM plot\n",
        "plt.figure(figsize=(5, 5))\n",
        "plt.imshow(cm, interpolation=\"nearest\", cmap=\"Blues\")\n",
        "plt.title(\"Confusion Matrix (Test) — Deception SVM\", fontsize=13)\n",
        "plt.xticks([0, 1], [\"truthful\", \"deceptive\"])\n",
        "plt.yticks([0, 1], [\"truthful\", \"deceptive\"])\n",
        "plt.xlabel(\"Predicted\")\n",
        "plt.ylabel(\"True\")\n",
        "\n",
        "for (i, j), v in np.ndenumerate(cm):\n",
        "    color = \"white\" if v > cm.max() / 2 else \"black\"\n",
        "    plt.text(j, i, str(v), ha=\"center\", va=\"center\", color=color, fontsize=13)\n",
        "\n",
        "plt.tight_layout()\n",
        "plt.show()\n"
      ],
      "metadata": {
        "colab": {
          "base_uri": "https://localhost:8080/",
          "height": 476
        },
        "id": "I3ovN8WEQTg_",
        "outputId": "f93e23dc-56e2-488e-fa98-4cd19d34b01e"
      },
      "execution_count": null,
      "outputs": [
        {
          "output_type": "display_data",
          "data": {
            "text/plain": [
              "<Figure size 500x500 with 1 Axes>"
            ],
            "image/png": "[encoded data removed]"
          },
          "metadata": {}
        }
      ]
    },
    {
      "cell_type": "code",
      "source": [
        "# 7) Save artifacts\n",
        "joblib.dump(best_model, ARTIFACTS_DIR / \"svm_deception_pipeline.joblib\")\n",
        "joblib.dump({\"truthful\":0, \"deceptive\":1}, ARTIFACTS_DIR / \"label_map.joblib\")\n",
        "print(\"Saved model & label map to:\", ARTIFACTS_DIR.resolve())"
      ],
      "metadata": {
        "colab": {
          "base_uri": "https://localhost:8080/"
        },
        "id": "ves2jwjgQTnP",
        "outputId": "d1233df6-d264-42e9-d44d-d15a7ce7415e"
      },
      "execution_count": null,
      "outputs": [
        {
          "output_type": "stream",
          "name": "stdout",
          "text": [
            "Saved model & label map to: /content/drive/MyDrive/Colab Notebooks/airbnb_nz_deception_sentiment/artifacts/deception_svm\n"
          ]
        }
      ]
    },
    {
      "cell_type": "code",
      "source": [
        "# Inference helper to reuse\n",
        "def predict_deception(texts, pipeline_path=ARTIFACTS_DIR / \"svm_deception_pipeline.joblib\"):\n",
        "    model = joblib.load(pipeline_path)\n",
        "    preds = model.predict(texts)\n",
        "    return preds  # 0 truthful, 1 deceptive\n",
        "\n",
        "# Example:\n",
        "preds = predict_deception(pd.Series([\"The hotel was lovely, great service!\", \"Totally fake vibe...\"]))\n",
        "print(preds)"
      ],
      "metadata": {
        "colab": {
          "base_uri": "https://localhost:8080/"
        },
        "id": "uOM6hjYzQTqF",
        "outputId": "1482959f-cdcf-49c3-f9a6-f2484f564ce9"
      },
      "execution_count": null,
      "outputs": [
        {
          "output_type": "stream",
          "name": "stdout",
          "text": [
            "[0 0]\n"
          ]
        }
      ]
    },
    {
      "cell_type": "code",
      "source": [
        "# model comparison for SVM (deception)\n",
        "\n",
        "from sklearn.metrics import accuracy_score, f1_score, precision_score, recall_score\n",
        "import pandas as pd\n",
        "\n",
        "# Evaluate SVM predictions on test set\n",
        "svm_results = {\n",
        "    \"Model\": \"SVM (TF–IDF)\",\n",
        "    \"Accuracy\": round(accuracy_score(y_test, y_test_pred), 2),\n",
        "    \"F1\": round(f1_score(y_test, y_test_pred), 2),\n",
        "    \"Precision\": round(precision_score(y_test, y_test_pred), 2),\n",
        "    \"Recall\": round(recall_score(y_test, y_test_pred), 2)\n",
        "}\n",
        "\n",
        "# Create dataframe or append to file\n",
        "try:\n",
        "    df = pd.read_csv(\"figures/model_comparison_deception.csv\")\n",
        "except FileNotFoundError:\n",
        "    df = pd.DataFrame(columns=[\"Model\", \"Accuracy\", \"F1\", \"Precision\", \"Recall\"])\n",
        "\n",
        "df = pd.concat([df, pd.DataFrame([svm_results])], ignore_index=True)\n",
        "\n",
        "# Save updated comparison table\n",
        "df.to_csv(\"figures/model_comparison_deception.csv\", index=False)\n",
        "print(\"Added SVM results to model_comparison_deception.csv\")\n"
      ],
      "metadata": {
        "colab": {
          "base_uri": "https://localhost:8080/"
        },
        "id": "xchCcdIq1pcW",
        "outputId": "32a21b1c-ecca-4d0b-b6c1-0592c14edc41"
      },
      "execution_count": null,
      "outputs": [
        {
          "output_type": "stream",
          "name": "stdout",
          "text": [
            "Added SVM results to model_comparison_deception.csv\n"
          ]
        },
        {
          "output_type": "stream",
          "name": "stderr",
          "text": [
            "/tmp/ipython-input-4259097997.py:21: FutureWarning: The behavior of DataFrame concatenation with empty or all-NA entries is deprecated. In a future version, this will no longer exclude empty or all-NA columns when determining the result dtypes. To retain the old behavior, exclude the relevant entries before the concat operation.\n",
            "  df = pd.concat([df, pd.DataFrame([svm_results])], ignore_index=True)\n"
          ]
        }
      ]
    }
  ]
}