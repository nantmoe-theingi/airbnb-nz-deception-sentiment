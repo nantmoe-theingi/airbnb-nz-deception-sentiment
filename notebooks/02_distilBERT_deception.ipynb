{
 "cells": [
  {
   "cell_type": "code",
   "execution_count": 1,
   "metadata": {},
   "outputs": [
    {
     "name": "stdout",
     "output_type": "stream",
     "text": [
      "Device: cuda\n"
     ]
    }
   ],
   "source": [
    "import numpy as np, pandas as pd, torch\n",
    "from sklearn.model_selection import train_test_split\n",
    "from sklearn.metrics import accuracy_score, f1_score, classification_report, confusion_matrix\n",
    "from datasets import Dataset\n",
    "from transformers import (\n",
    "    AutoTokenizer, AutoModelForSequenceClassification,\n",
    "    TrainingArguments, Trainer, set_seed\n",
    ")\n",
    "\n",
    "set_seed(42)\n",
    "device = torch.device(\"cuda\" if torch.cuda.is_available() else \"cpu\")\n",
    "print(\"Device:\", device)"
   ]
  },
  {
   "cell_type": "code",
   "execution_count": 2,
   "metadata": {},
   "outputs": [
    {
     "name": "stdout",
     "output_type": "stream",
     "text": [
      "Mounted at /content/drive\n",
      "Drive project folder: /content/drive/MyDrive/Colab Notebooks/airbnb_nz_deception_sentiment\n"
     ]
    }
   ],
   "source": [
    "PROJECT_DRIVE_DIR = \"/content/drive/MyDrive/Colab Notebooks/airbnb_nz_deception_sentiment\"\n",
    "\n",
    "from google.colab import drive\n",
    "drive.mount('/content/drive')\n",
    "\n",
    "import os\n",
    "os.makedirs(PROJECT_DRIVE_DIR, exist_ok=True)\n",
    "print(\"Drive project folder:\", PROJECT_DRIVE_DIR)"
   ]
  },
  {
   "cell_type": "code",
   "execution_count": 3,
   "metadata": {},
   "outputs": [
    {
     "name": "stdout",
     "output_type": "stream",
     "text": [
      "/content/drive/MyDrive/Colab Notebooks/airbnb_nz_deception_sentiment\n"
     ]
    }
   ],
   "source": [
    "cd {PROJECT_DRIVE_DIR}"
   ]
  },
  {
   "cell_type": "code",
   "execution_count": 5,
   "metadata": {},
   "outputs": [
    {
     "name": "stdout",
     "output_type": "stream",
     "text": [
      "Train: 1276 | Val: 160 | Test: 160\n"
     ]
    }
   ],
   "source": [
    "# Load and Split Dataset\n",
    "df = pd.read_csv(\"data/deception_opinion_cleaned.csv\")\n",
    "df = df.dropna(subset=[\"text\", \"label\"])\n",
    "df[\"label\"] = df[\"label\"].astype(int)\n",
    "\n",
    "train_df, temp_df = train_test_split(df, test_size=0.2, stratify=df[\"label\"], random_state=42)\n",
    "val_df, test_df = train_test_split(temp_df, test_size=0.5, stratify=temp_df[\"label\"], random_state=42)\n",
    "\n",
    "print(f\"Train: {len(train_df)} | Val: {len(val_df)} | Test: {len(test_df)}\")"
   ]
  },
  {
   "cell_type": "code",
   "execution_count": 6,
   "metadata": {},
   "outputs": [
    {
     "name": "stderr",
     "output_type": "stream",
     "text": [
      "/usr/local/lib/python3.12/dist-packages/huggingface_hub/utils/_auth.py:94: UserWarning: \n",
      "The secret `HF_TOKEN` does not exist in your Colab secrets.\n",
      "To authenticate with the Hugging Face Hub, create a token in your settings tab (https://huggingface.co/settings/tokens), set it as secret in your Google Colab and restart your session.\n",
      "You will be able to reuse this secret in all of your notebooks.\n",
      "Please note that authentication is recommended but still optional to access public models or datasets.\n",
      "  warnings.warn(\n"
     ]
    },
    {
     "data": {
      "application/vnd.jupyter.widget-view+json": {
       "model_id": "dceb328b51344a10b77fb5e1ec45607c",
       "version_major": 2,
       "version_minor": 0
      },
      "text/plain": [
       "tokenizer_config.json:   0%|          | 0.00/48.0 [00:00<?, ?B/s]"
      ]
     },
     "metadata": {},
     "output_type": "display_data"
    },
    {
     "data": {
      "application/vnd.jupyter.widget-view+json": {
       "model_id": "982af0d2afff4b398f2ef45c16cbb8b8",
       "version_major": 2,
       "version_minor": 0
      },
      "text/plain": [
       "config.json:   0%|          | 0.00/483 [00:00<?, ?B/s]"
      ]
     },
     "metadata": {},
     "output_type": "display_data"
    },
    {
     "data": {
      "application/vnd.jupyter.widget-view+json": {
       "model_id": "1bf2af1a534c492280a21ecb31b6e968",
       "version_major": 2,
       "version_minor": 0
      },
      "text/plain": [
       "vocab.txt:   0%|          | 0.00/232k [00:00<?, ?B/s]"
      ]
     },
     "metadata": {},
     "output_type": "display_data"
    },
    {
     "data": {
      "application/vnd.jupyter.widget-view+json": {
       "model_id": "7c591dd77aeb44b6a915079e22d18035",
       "version_major": 2,
       "version_minor": 0
      },
      "text/plain": [
       "tokenizer.json:   0%|          | 0.00/466k [00:00<?, ?B/s]"
      ]
     },
     "metadata": {},
     "output_type": "display_data"
    },
    {
     "data": {
      "application/vnd.jupyter.widget-view+json": {
       "model_id": "2d50ef7e70b74d68b3f39ac304387512",
       "version_major": 2,
       "version_minor": 0
      },
      "text/plain": [
       "Map:   0%|          | 0/1276 [00:00<?, ? examples/s]"
      ]
     },
     "metadata": {},
     "output_type": "display_data"
    },
    {
     "data": {
      "application/vnd.jupyter.widget-view+json": {
       "model_id": "51697b61a4a74a328496262472005fdd",
       "version_major": 2,
       "version_minor": 0
      },
      "text/plain": [
       "Map:   0%|          | 0/160 [00:00<?, ? examples/s]"
      ]
     },
     "metadata": {},
     "output_type": "display_data"
    },
    {
     "data": {
      "application/vnd.jupyter.widget-view+json": {
       "model_id": "e1477caf152946aebc20d3ccbe155fa5",
       "version_major": 2,
       "version_minor": 0
      },
      "text/plain": [
       "Map:   0%|          | 0/160 [00:00<?, ? examples/s]"
      ]
     },
     "metadata": {},
     "output_type": "display_data"
    }
   ],
   "source": [
    "# Tokenization\n",
    "model_name = \"distilbert-base-uncased\"\n",
    "tokenizer = AutoTokenizer.from_pretrained(model_name)\n",
    "\n",
    "def tokenize(batch):\n",
    "    return tokenizer(batch[\"text\"], padding=\"max_length\", truncation=True, max_length=256)\n",
    "\n",
    "train_ds = Dataset.from_pandas(train_df).map(tokenize, batched=True)\n",
    "val_ds   = Dataset.from_pandas(val_df).map(tokenize, batched=True)\n",
    "test_ds  = Dataset.from_pandas(test_df).map(tokenize, batched=True)\n",
    "\n",
    "train_ds.set_format(\"torch\", columns=[\"input_ids\", \"attention_mask\", \"label\"])\n",
    "val_ds.set_format(\"torch\", columns=[\"input_ids\", \"attention_mask\", \"label\"])\n",
    "test_ds.set_format(\"torch\", columns=[\"input_ids\", \"attention_mask\", \"label\"])"
   ]
  },
  {
   "cell_type": "code",
   "execution_count": 7,
   "metadata": {},
   "outputs": [
    {
     "data": {
      "application/vnd.jupyter.widget-view+json": {
       "model_id": "57eebaf578684e93a7b7e5461af4f7b7",
       "version_major": 2,
       "version_minor": 0
      },
      "text/plain": [
       "model.safetensors:   0%|          | 0.00/268M [00:00<?, ?B/s]"
      ]
     },
     "metadata": {},
     "output_type": "display_data"
    },
    {
     "name": "stderr",
     "output_type": "stream",
     "text": [
      "Some weights of DistilBertForSequenceClassification were not initialized from the model checkpoint at distilbert-base-uncased and are newly initialized: ['classifier.bias', 'classifier.weight', 'pre_classifier.bias', 'pre_classifier.weight']\n",
      "You should probably TRAIN this model on a down-stream task to be able to use it for predictions and inference.\n"
     ]
    }
   ],
   "source": [
    "# Load Model\n",
    "model = AutoModelForSequenceClassification.from_pretrained(model_name, num_labels=2).to(device)"
   ]
  },
  {
   "cell_type": "code",
   "execution_count": 16,
   "metadata": {},
   "outputs": [],
   "source": [
    "# Training Arguments\n",
    "args = TrainingArguments(\n",
    "    output_dir=\"artifacts/distilbert_deception\",\n",
    "    per_device_train_batch_size=8,\n",
    "    per_device_eval_batch_size=8,\n",
    "    learning_rate=2e-5,\n",
    "    num_train_epochs=3,\n",
    "    weight_decay=0.01,\n",
    "    eval_strategy=\"steps\",\n",
    "    save_steps=500,\n",
    "    logging_steps=100,\n",
    "    report_to=[],\n",
    ")\n",
    "\n"
   ]
  },
  {
   "cell_type": "code",
   "execution_count": 17,
   "metadata": {},
   "outputs": [],
   "source": [
    "# Define Metrics\n",
    "\n",
    "def compute_metrics(eval_pred):\n",
    "    logits, labels = eval_pred\n",
    "    preds = np.argmax(logits, axis=-1)\n",
    "    acc = accuracy_score(labels, preds)\n",
    "    f1 = f1_score(labels, preds)\n",
    "    return {\"accuracy\": acc, \"f1\": f1}"
   ]
  },
  {
   "cell_type": "code",
   "execution_count": 18,
   "metadata": {},
   "outputs": [
    {
     "name": "stderr",
     "output_type": "stream",
     "text": [
      "/tmp/ipython-input-704814256.py:2: FutureWarning: `tokenizer` is deprecated and will be removed in version 5.0.0 for `Trainer.__init__`. Use `processing_class` instead.\n",
      "  trainer = Trainer(\n"
     ]
    },
    {
     "data": {
      "text/html": [
       "\n",
       "    <div>\n",
       "      \n",
       "      <progress value='480' max='480' style='width:300px; height:20px; vertical-align: middle;'></progress>\n",
       "      [480/480 01:38, Epoch 3/3]\n",
       "    </div>\n",
       "    <table border=\"1\" class=\"dataframe\">\n",
       "  <thead>\n",
       " <tr style=\"text-align: left;\">\n",
       "      <th>Step</th>\n",
       "      <th>Training Loss</th>\n",
       "      <th>Validation Loss</th>\n",
       "      <th>Accuracy</th>\n",
       "      <th>F1</th>\n",
       "    </tr>\n",
       "  </thead>\n",
       "  <tbody>\n",
       "    <tr>\n",
       "      <td>100</td>\n",
       "      <td>0.530200</td>\n",
       "      <td>0.393633</td>\n",
       "      <td>0.812500</td>\n",
       "      <td>0.819277</td>\n",
       "    </tr>\n",
       "    <tr>\n",
       "      <td>200</td>\n",
       "      <td>0.360200</td>\n",
       "      <td>0.341817</td>\n",
       "      <td>0.850000</td>\n",
       "      <td>0.862069</td>\n",
       "    </tr>\n",
       "    <tr>\n",
       "      <td>300</td>\n",
       "      <td>0.218400</td>\n",
       "      <td>0.379643</td>\n",
       "      <td>0.862500</td>\n",
       "      <td>0.873563</td>\n",
       "    </tr>\n",
       "    <tr>\n",
       "      <td>400</td>\n",
       "      <td>0.159000</td>\n",
       "      <td>0.323979</td>\n",
       "      <td>0.925000</td>\n",
       "      <td>0.925926</td>\n",
       "    </tr>\n",
       "  </tbody>\n",
       "</table><p>"
      ],
      "text/plain": [
       "<IPython.core.display.HTML object>"
      ]
     },
     "metadata": {},
     "output_type": "display_data"
    },
    {
     "data": {
      "text/plain": [
       "TrainOutput(global_step=480, training_loss=0.28250775337219236, metrics={'train_runtime': 99.396, 'train_samples_per_second': 38.513, 'train_steps_per_second': 4.829, 'total_flos': 253542601027584.0, 'train_loss': 0.28250775337219236, 'epoch': 3.0})"
      ]
     },
     "execution_count": 18,
     "metadata": {},
     "output_type": "execute_result"
    }
   ],
   "source": [
    "# Train the model\n",
    "trainer = Trainer(\n",
    "    model=model,\n",
    "    args=args,\n",
    "    train_dataset=train_ds,\n",
    "    eval_dataset=val_ds,\n",
    "    tokenizer=tokenizer,\n",
    "    compute_metrics=compute_metrics,\n",
    ")\n",
    "\n",
    "trainer.train()"
   ]
  },
  {
   "cell_type": "code",
   "execution_count": 19,
   "metadata": {},
   "outputs": [
    {
     "name": "stdout",
     "output_type": "stream",
     "text": [
      "\n",
      "VALIDATION RESULTS\n"
     ]
    },
    {
     "data": {
      "text/html": [],
      "text/plain": [
       "<IPython.core.display.HTML object>"
      ]
     },
     "metadata": {},
     "output_type": "display_data"
    },
    {
     "name": "stdout",
     "output_type": "stream",
     "text": [
      "{'eval_loss': 0.4150168299674988, 'eval_accuracy': 0.875, 'eval_f1': 0.8837209302325582, 'eval_runtime': 1.1508, 'eval_samples_per_second': 139.036, 'eval_steps_per_second': 17.38, 'epoch': 3.0}\n",
      "\n",
      "TEST RESULTS\n",
      "Accuracy: 0.8875\n",
      "F1 (deceptive=1): 0.8941176470588236\n",
      "              precision    recall  f1-score   support\n",
      "\n",
      "    truthful       0.94      0.82      0.88        80\n",
      "   deceptive       0.84      0.95      0.89        80\n",
      "\n",
      "    accuracy                           0.89       160\n",
      "   macro avg       0.89      0.89      0.89       160\n",
      "weighted avg       0.89      0.89      0.89       160\n",
      "\n",
      "Confusion matrix:\n",
      " [[66 14]\n",
      " [ 4 76]]\n"
     ]
    }
   ],
   "source": [
    "# Evaluate on Validation and Test Sets\n",
    "print(\"\\nVALIDATION RESULTS\")\n",
    "val_metrics = trainer.evaluate(val_ds)\n",
    "print(val_metrics)\n",
    "\n",
    "print(\"\\nTEST RESULTS\")\n",
    "preds = trainer.predict(test_ds)\n",
    "y_pred = np.argmax(preds.predictions, axis=-1)\n",
    "y_true = preds.label_ids\n",
    "\n",
    "print(\"Accuracy:\", accuracy_score(y_true, y_pred))\n",
    "print(\"F1 (deceptive=1):\", f1_score(y_true, y_pred))\n",
    "print(classification_report(y_true, y_pred, target_names=[\"truthful\",\"deceptive\"]))\n",
    "\n",
    "print(\"Confusion matrix:\\n\", confusion_matrix(y_true, y_pred))"
   ]
  },
  {
   "cell_type": "code",
   "execution_count": 25,
   "metadata": {},
   "outputs": [
    {
     "data": {
      "image/png": "[encoded data removed]",
      "text/plain": [
       "<Figure size 640x480 with 1 Axes>"
      ]
     },
     "metadata": {},
     "output_type": "display_data"
    }
   ],
   "source": [
    "# CM plot\n",
    "import matplotlib.pyplot as plt\n",
    "import numpy as np\n",
    "\n",
    "plt.figure()\n",
    "plt.imshow(confusion_matrix(y_true, y_pred), interpolation=\"nearest\")\n",
    "plt.title(\"Confusion Matrix (Test) — Deception DistillBERT\")\n",
    "plt.xticks([0,1], [\"truthful\",\"deceptive\"])\n",
    "plt.yticks([0,1], [\"truthful\",\"deceptive\"])\n",
    "for (i,j),v in np.ndenumerate(confusion_matrix(y_true, y_pred)):\n",
    "    plt.text(j, i, str(v), ha=\"center\", va=\"center\")\n",
    "plt.xlabel(\"Predicted\");\n",
    "plt.ylabel(\"True\");\n",
    "plt.tight_layout();\n",
    "plt.show()"
   ]
  },
  {
   "cell_type": "code",
   "execution_count": 27,
   "metadata": {},
   "outputs": [
    {
     "name": "stdout",
     "output_type": "stream",
     "text": [
      "Saved model, tokenizer, & label map to: /content/drive/MyDrive/Colab Notebooks/airbnb_nz_deception_sentiment/artifacts/deception_distillBERT\n"
     ]
    }
   ],
   "source": [
    "# 7) Save artifacts\n",
    "import joblib\n",
    "from pathlib import Path\n",
    "ARTIFACTS_DIR = Path(\"artifacts/deception_distillBERT\")\n",
    "ARTIFACTS_DIR.mkdir(parents=True, exist_ok=True)\n",
    "\n",
    "# Save the model and tokenizer separately\n",
    "model.save_pretrained(ARTIFACTS_DIR / \"model\")\n",
    "tokenizer.save_pretrained(ARTIFACTS_DIR / \"tokenizer\")\n",
    "\n",
    "joblib.dump({\"truthful\":0, \"deceptive\":1}, ARTIFACTS_DIR / \"label_map.joblib\")\n",
    "print(\"Saved model, tokenizer, & label map to:\", ARTIFACTS_DIR.resolve())"
   ]
  },
  {
   "cell_type": "code",
   "execution_count": 28,
   "metadata": {},
   "outputs": [],
   "source": [
    "# Inference helper to reuse\n",
    "from transformers import AutoTokenizer, AutoModelForSequenceClassification\n",
    "import torch\n",
    "import numpy as np\n",
    "\n",
    "def predict_deception(texts, model_path=\"artifacts/distilbert_deception/checkpoint-480\", max_length=256):\n",
    "    \"\"\"\n",
    "    Predicts whether the given texts are truthful (0) or deceptive (1)\n",
    "    using the fine-tuned DistilBERT model.\n",
    "    \"\"\"\n",
    "    # Load model and tokenizer\n",
    "    tokenizer = AutoTokenizer.from_pretrained(model_path)\n",
    "    model = AutoModelForSequenceClassification.from_pretrained(model_path)\n",
    "    model.eval()\n",
    "\n",
    "    # Tokenize inputs\n",
    "    inputs = tokenizer(\n",
    "        texts,\n",
    "        padding=True,\n",
    "        truncation=True,\n",
    "        max_length=max_length,\n",
    "        return_tensors=\"pt\"\n",
    "    )\n",
    "\n",
    "    # Run inference\n",
    "    with torch.no_grad():\n",
    "        outputs = model(**inputs)\n",
    "        logits = outputs.logits\n",
    "        probs = torch.softmax(logits, dim=-1)\n",
    "        preds = torch.argmax(probs, dim=-1).numpy()\n",
    "\n",
    "    # Convert predictions to readable labels\n",
    "    labels = [\"truthful\" if p == 0 else \"deceptive\" for p in preds]\n",
    "    confidences = probs.max(dim=-1).values.numpy()\n",
    "\n",
    "    # Print formatted results\n",
    "    for t, l, c in zip(texts, labels, confidences):\n",
    "        print(f\"📝 Text: {t[:100]}...\")\n",
    "        print(f\"→ Prediction: {l.upper()} (Confidence: {c:.3f})\\n\")\n",
    "\n",
    "    return labels, confidences\n"
   ]
  },
  {
   "cell_type": "code",
   "execution_count": 29,
   "metadata": {},
   "outputs": [
    {
     "name": "stdout",
     "output_type": "stream",
     "text": [
      "📝 Text: The room was spotless and the staff were incredibly friendly....\n",
      "→ Prediction: DECEPTIVE (Confidence: 0.860)\n",
      "\n",
      "📝 Text: Best hotel ever! The photos are fake but you should totally stay here!...\n",
      "→ Prediction: DECEPTIVE (Confidence: 0.963)\n",
      "\n",
      "📝 Text: We waited two hours for check-in, and the manager kept making excuses....\n",
      "→ Prediction: TRUTHFUL (Confidence: 0.787)\n",
      "\n"
     ]
    },
    {
     "data": {
      "text/plain": [
       "(['deceptive', 'deceptive', 'truthful'],\n",
       " array([0.8599144 , 0.96313494, 0.78651875], dtype=float32))"
      ]
     },
     "execution_count": 29,
     "metadata": {},
     "output_type": "execute_result"
    }
   ],
   "source": [
    "sample_texts = [\n",
    "    \"The room was spotless and the staff were incredibly friendly.\",\n",
    "    \"Best hotel ever! The photos are fake but you should totally stay here!\",\n",
    "    \"We waited two hours for check-in, and the manager kept making excuses.\"\n",
    "]\n",
    "\n",
    "predict_deception(sample_texts)\n"
   ]
  },
  {
   "cell_type": "code",
   "execution_count": 33,
   "metadata": {},
   "outputs": [
    {
     "name": "stdout",
     "output_type": "stream",
     "text": [
      " Added DistilBERT results to model_comparison_deception.csv\n"
     ]
    }
   ],
   "source": [
    "# model comparison\n",
    "\n",
    "from sklearn.metrics import accuracy_score, f1_score, precision_score, recall_score\n",
    "\n",
    "bert_results = {\n",
    "    \"Model\": \"DistilBERT (fine-tuned)\",\n",
    "    \"Accuracy\": round(accuracy_score(y_true, y_pred), 4),\n",
    "    \"F1\": round(f1_score(y_true, y_pred), 4),\n",
    "    \"Precision\": round(precision_score(y_true, y_pred), 4),\n",
    "    \"Recall\": round(recall_score(y_true, y_pred), 4)\n",
    "}\n",
    "\n",
    "# Append to existing CSV\n",
    "df = pd.read_csv(\"figures/model_comparison_svm.csv\")\n",
    "df = pd.concat([df, pd.DataFrame([bert_results])], ignore_index=True)\n",
    "df.to_csv(\"figures/model_comparison_deception.csv\", index=False)\n",
    "print(\" Added DistilBERT results to model_comparison_deception.csv\")\n"
   ]
  },
  {
   "cell_type": "code",
   "execution_count": 35,
   "metadata": {},
   "outputs": [
    {
     "name": "stdout",
     "output_type": "stream",
     "text": [
      "/content/drive/MyDrive/Colab Notebooks\n"
     ]
    }
   ],
   "source": [
    "cd /content/drive/MyDrive/Colab Notebooks/"
   ]
  },
  {
   "cell_type": "code",
   "execution_count": null,
   "metadata": {},
   "outputs": [],
   "source": [
    "!jupyter nbconvert --ClearMetadataPreprocessor.enabled=True --to notebook \"05_DistillBERT_deception.ipynb\" --output fixed.ipynb"
   ]
  }
 ],
 "metadata": {
  "language_info": {
   "name": "python"
  }
 },
 "nbformat": 4,
 "nbformat_minor": 0
}
